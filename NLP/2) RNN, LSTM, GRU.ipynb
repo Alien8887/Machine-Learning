{
 "cells": [
  {
   "cell_type": "markdown",
   "id": "dffc467cf3bb7270",
   "metadata": {},
   "source": [
    "<center/>\n",
    "<h1>RNN, LSTM, GRU</h1>\n",
    "<h9>Amir Mohammad Fakhimi</h9>"
   ]
  },
  {
   "cell_type": "markdown",
   "id": "a5553eb8f63182b6",
   "metadata": {},
   "source": [
    "## Using prepared APIs of RNN, LSTM, GRU"
   ]
  },
  {
   "cell_type": "code",
   "execution_count": 2,
   "id": "initial_id",
   "metadata": {
    "ExecuteTime": {
     "end_time": "2025-08-04T02:01:38.849300Z",
     "start_time": "2025-08-04T02:01:34.473928Z"
    },
    "collapsed": true
   },
   "outputs": [],
   "source": [
    "import torch\n",
    "import torch.nn as nn"
   ]
  },
  {
   "cell_type": "code",
   "execution_count": 3,
   "id": "dcdbda94a39c2f98",
   "metadata": {
    "ExecuteTime": {
     "end_time": "2025-08-04T02:03:00.852563Z",
     "start_time": "2025-08-04T02:03:00.850818Z"
    }
   },
   "outputs": [],
   "source": [
    "batch_size = 4\n",
    "seq_len = 5\n",
    "input_size = 3\n",
    "hidden_size = 6\n",
    "num_layers = 1"
   ]
  },
  {
   "cell_type": "code",
   "execution_count": 4,
   "id": "cc7046082755ea1b",
   "metadata": {
    "ExecuteTime": {
     "end_time": "2025-08-04T02:03:39.312660Z",
     "start_time": "2025-08-04T02:03:39.310636Z"
    }
   },
   "outputs": [],
   "source": [
    "# Synthetic input: (batch, seq, features)\n",
    "# Using batch_first=True so dims = (B, T, F)\n",
    "x = torch.randn(batch_size, seq_len, input_size)"
   ]
  },
  {
   "cell_type": "code",
   "execution_count": 5,
   "id": "a382ccdc6486bd81",
   "metadata": {
    "ExecuteTime": {
     "end_time": "2025-08-04T02:04:26.124808Z",
     "start_time": "2025-08-04T02:04:26.121105Z"
    }
   },
   "outputs": [],
   "source": [
    "rnn_layer = nn.RNN(input_size, hidden_size, num_layers, batch_first=True)\n",
    "lstm_layer = nn.LSTM(input_size, hidden_size, num_layers, batch_first=True)\n",
    "gru_layer = nn.GRU(input_size, hidden_size, num_layers, batch_first=True)"
   ]
  },
  {
   "cell_type": "code",
   "execution_count": 8,
   "id": "a33ef35e8fa0835c",
   "metadata": {
    "ExecuteTime": {
     "end_time": "2025-08-04T02:04:58.521037Z",
     "start_time": "2025-08-04T02:04:58.518816Z"
    }
   },
   "outputs": [],
   "source": [
    "h0_rnn = torch.zeros(num_layers, batch_size, hidden_size)\n",
    "h0_gru = torch.zeros(num_layers, batch_size, hidden_size)\n",
    "\n",
    "h0_lstm = torch.zeros(num_layers, batch_size, hidden_size)\n",
    "c0_lstm = torch.zeros(num_layers, batch_size, hidden_size)"
   ]
  },
  {
   "cell_type": "code",
   "execution_count": 9,
   "id": "b5271d0d77dab317",
   "metadata": {
    "ExecuteTime": {
     "end_time": "2025-08-04T02:05:36.757572Z",
     "start_time": "2025-08-04T02:05:36.754040Z"
    }
   },
   "outputs": [
    {
     "name": "stdout",
     "output_type": "stream",
     "text": [
      "RNN output shape: torch.Size([4, 5, 6])\n",
      "RNN final hidden: torch.Size([1, 4, 6])\n"
     ]
    }
   ],
   "source": [
    "out_rnn, hn_rnn = rnn_layer(x, h0_rnn)\n",
    "\n",
    "print('RNN output shape:', out_rnn.shape)  # (B, T, H)\n",
    "print('RNN final hidden:', hn_rnn.shape)  # (num_layers, B, H)"
   ]
  },
  {
   "cell_type": "code",
   "execution_count": 13,
   "id": "60fab3e1c9b25cae",
   "metadata": {
    "ExecuteTime": {
     "end_time": "2025-08-04T02:08:19.892560Z",
     "start_time": "2025-08-04T02:08:19.888889Z"
    }
   },
   "outputs": [
    {
     "name": "stdout",
     "output_type": "stream",
     "text": [
      "RNN output shape: torch.Size([4, 5, 6])\n",
      "RNN final hidden: torch.Size([1, 4, 6])\n"
     ]
    }
   ],
   "source": [
    "# PyTorch automatically initialize h and c to zero tensors if not provided\n",
    "out_rnn, hn_rnn = rnn_layer(x)\n",
    "\n",
    "print('RNN output shape:', out_rnn.shape)  # (B, T, H)\n",
    "print('RNN final hidden:', hn_rnn.shape)  # (num_layers, B, H)"
   ]
  },
  {
   "cell_type": "code",
   "execution_count": 10,
   "id": "99e2e9ce947b01d9",
   "metadata": {
    "ExecuteTime": {
     "end_time": "2025-08-04T02:06:26.101850Z",
     "start_time": "2025-08-04T02:06:26.099244Z"
    }
   },
   "outputs": [
    {
     "name": "stdout",
     "output_type": "stream",
     "text": [
      "LSTM output shape: torch.Size([4, 5, 6])\n",
      "LSTM final hidden: torch.Size([1, 4, 6])\n",
      "LSTM final cell state: torch.Size([1, 4, 6])\n"
     ]
    }
   ],
   "source": [
    "out_lstm, (hn_lstm, cn_lstm) = lstm_layer(x, (h0_lstm, c0_lstm))\n",
    "\n",
    "print('LSTM output shape:', out_lstm.shape)  # (B, T, H)\n",
    "print('LSTM final hidden:', hn_lstm.shape)  # (num_layers, B, H)\n",
    "print('LSTM final cell state:', cn_lstm.shape)  # (num_layers, B, H)"
   ]
  },
  {
   "cell_type": "code",
   "execution_count": 11,
   "id": "e6b3df2c77a9f488",
   "metadata": {
    "ExecuteTime": {
     "end_time": "2025-08-04T02:06:41.498504Z",
     "start_time": "2025-08-04T02:06:41.496201Z"
    }
   },
   "outputs": [
    {
     "name": "stdout",
     "output_type": "stream",
     "text": [
      "GRU output shape: torch.Size([4, 5, 6])\n",
      "GRU final hidden: torch.Size([1, 4, 6])\n"
     ]
    }
   ],
   "source": [
    "out_gru, hn_gru = gru_layer(x, h0_gru)\n",
    "\n",
    "print('GRU output shape:', out_gru.shape)  # (B, T, H)\n",
    "print('GRU final hidden:', hn_gru.shape)  # (num_layers, B, H)"
   ]
  },
  {
   "cell_type": "markdown",
   "id": "500c8ec14ba89186",
   "metadata": {},
   "source": [
    "## Training an LSTM on Time-Series Data"
   ]
  },
  {
   "cell_type": "code",
   "execution_count": 163,
   "id": "8ee158ef5d02bbeb",
   "metadata": {
    "ExecuteTime": {
     "end_time": "2025-08-04T02:47:33.080680Z",
     "start_time": "2025-08-04T02:47:33.077536Z"
    }
   },
   "outputs": [],
   "source": [
    "import torch\n",
    "import torch.nn as nn\n",
    "from torch.utils.data import TensorDataset, DataLoader\n",
    "import statsmodels.api as sm\n",
    "import numpy as np\n",
    "import matplotlib.pyplot as plt"
   ]
  },
  {
   "cell_type": "code",
   "execution_count": 164,
   "id": "28c4b46be272f2a9",
   "metadata": {
    "ExecuteTime": {
     "end_time": "2025-08-04T02:47:33.581878Z",
     "start_time": "2025-08-04T02:47:33.577146Z"
    }
   },
   "outputs": [
    {
     "data": {
      "text/plain": [
       "<torch._C.Generator at 0x120520050>"
      ]
     },
     "execution_count": 164,
     "metadata": {},
     "output_type": "execute_result"
    }
   ],
   "source": [
    "SEED = 42\n",
    "\n",
    "torch.manual_seed(SEED)"
   ]
  },
  {
   "cell_type": "code",
   "execution_count": 165,
   "id": "f434f6f7b58fadd2",
   "metadata": {
    "ExecuteTime": {
     "end_time": "2025-08-04T02:47:33.654461Z",
     "start_time": "2025-08-04T02:47:33.651441Z"
    }
   },
   "outputs": [],
   "source": [
    "# Annual sunspot counts (1700–2008)\n",
    "ds = sm.datasets.sunspots.load_pandas().data\n",
    "series = ds['SUNACTIVITY'].values.astype(np.float32)"
   ]
  },
  {
   "cell_type": "code",
   "execution_count": 166,
   "id": "8f74809f6d34193c",
   "metadata": {
    "ExecuteTime": {
     "end_time": "2025-08-04T02:47:33.736672Z",
     "start_time": "2025-08-04T02:47:33.734614Z"
    }
   },
   "outputs": [
    {
     "data": {
      "text/plain": [
       "((309,), 5.0)"
      ]
     },
     "execution_count": 166,
     "metadata": {},
     "output_type": "execute_result"
    }
   ],
   "source": [
    "series.shape, series[0]"
   ]
  },
  {
   "cell_type": "code",
   "execution_count": 167,
   "id": "34070d6e7a265ac2",
   "metadata": {
    "ExecuteTime": {
     "end_time": "2025-08-04T02:47:33.821356Z",
     "start_time": "2025-08-04T02:47:33.819784Z"
    }
   },
   "outputs": [],
   "source": [
    "# Normalize\n",
    "mean, std = series.mean(), series.std()\n",
    "series = (series - mean) / std"
   ]
  },
  {
   "cell_type": "code",
   "execution_count": 168,
   "id": "12137c543ccff871",
   "metadata": {
    "ExecuteTime": {
     "end_time": "2025-08-04T02:47:33.906355Z",
     "start_time": "2025-08-04T02:47:33.904333Z"
    }
   },
   "outputs": [],
   "source": [
    "# Creating windows of data\n",
    "def create_windows(data, look_back=10):\n",
    "    X, y = [], []\n",
    "    for i in range(len(data) - look_back):\n",
    "        X.append(data[i: i + look_back])\n",
    "        y.append(data[i + look_back])\n",
    "\n",
    "    return np.array(X), np.array(y)"
   ]
  },
  {
   "cell_type": "code",
   "execution_count": 169,
   "id": "3b0e031f7c87a597",
   "metadata": {
    "ExecuteTime": {
     "end_time": "2025-08-04T02:47:33.990813Z",
     "start_time": "2025-08-04T02:47:33.989048Z"
    }
   },
   "outputs": [],
   "source": [
    "look_back = 10\n",
    "X_np, y_np = create_windows(series, look_back)"
   ]
  },
  {
   "cell_type": "code",
   "execution_count": 170,
   "id": "6c64690fe97bb149",
   "metadata": {
    "ExecuteTime": {
     "end_time": "2025-08-04T02:47:34.074771Z",
     "start_time": "2025-08-04T02:47:34.072697Z"
    }
   },
   "outputs": [
    {
     "data": {
      "text/plain": [
       "((299, 10), (299,))"
      ]
     },
     "execution_count": 170,
     "metadata": {},
     "output_type": "execute_result"
    }
   ],
   "source": [
    "X_np.shape, y_np.shape"
   ]
  },
  {
   "cell_type": "code",
   "execution_count": 171,
   "id": "f0989884bd32c8e0",
   "metadata": {
    "ExecuteTime": {
     "end_time": "2025-08-04T02:47:34.155907Z",
     "start_time": "2025-08-04T02:47:34.154054Z"
    }
   },
   "outputs": [],
   "source": [
    "# Wrap in PyTorch tensors & DataLoader\n",
    "X = torch.from_numpy(X_np).unsqueeze(-1)  # (N, T, 1)\n",
    "y = torch.from_numpy(y_np)  # (N,)"
   ]
  },
  {
   "cell_type": "code",
   "execution_count": 172,
   "id": "c5c227b4148129e9",
   "metadata": {
    "ExecuteTime": {
     "end_time": "2025-08-04T02:47:34.238585Z",
     "start_time": "2025-08-04T02:47:34.236950Z"
    }
   },
   "outputs": [],
   "source": [
    "dataset = TensorDataset(X, y)\n",
    "loader = DataLoader(dataset, batch_size=16, shuffle=True)"
   ]
  },
  {
   "cell_type": "code",
   "execution_count": 173,
   "id": "4ebfbd346f9096de",
   "metadata": {
    "ExecuteTime": {
     "end_time": "2025-08-04T02:47:34.324426Z",
     "start_time": "2025-08-04T02:47:34.322041Z"
    }
   },
   "outputs": [],
   "source": [
    "class LSTMRegressor(nn.Module):\n",
    "    def __init__(self, input_size=1, hidden_size=32, num_layers=1):\n",
    "        super().__init__()\n",
    "        self.lstm = nn.LSTM(input_size, hidden_size, num_layers, batch_first=True)\n",
    "        self.fc = nn.Linear(hidden_size, 1)\n",
    "\n",
    "    def forward(self, x):\n",
    "        # x: (B, T, 1)\n",
    "        out, (h_n, _) = self.lstm(x)  # out: (B, T, H)\n",
    "        last_h = h_n[-1]  # (B, H)\n",
    "        return self.fc(last_h).squeeze(-1)  # (B,)"
   ]
  },
  {
   "cell_type": "code",
   "execution_count": 174,
   "id": "47937b25aa019f06",
   "metadata": {
    "ExecuteTime": {
     "end_time": "2025-08-04T02:47:34.406677Z",
     "start_time": "2025-08-04T02:47:34.404423Z"
    }
   },
   "outputs": [],
   "source": [
    "model = LSTMRegressor()\n",
    "optimizer = torch.optim.Adam(model.parameters(), lr=1e-3)\n",
    "loss_fn = nn.MSELoss()"
   ]
  },
  {
   "cell_type": "code",
   "execution_count": 175,
   "id": "1db3978889d86512",
   "metadata": {
    "ExecuteTime": {
     "end_time": "2025-08-04T02:47:35.082767Z",
     "start_time": "2025-08-04T02:47:34.753066Z"
    }
   },
   "outputs": [
    {
     "name": "stdout",
     "output_type": "stream",
     "text": [
      "Epoch 01/20 — Loss: 0.9906\n",
      "Epoch 02/20 — Loss: 0.9328\n",
      "Epoch 03/20 — Loss: 0.8759\n",
      "Epoch 04/20 — Loss: 0.8003\n",
      "Epoch 05/20 — Loss: 0.6949\n",
      "Epoch 06/20 — Loss: 0.5020\n",
      "Epoch 07/20 — Loss: 0.3105\n",
      "Epoch 08/20 — Loss: 0.2353\n",
      "Epoch 09/20 — Loss: 0.2016\n",
      "Epoch 10/20 — Loss: 0.1872\n",
      "Epoch 11/20 — Loss: 0.1771\n",
      "Epoch 12/20 — Loss: 0.1665\n",
      "Epoch 13/20 — Loss: 0.1571\n",
      "Epoch 14/20 — Loss: 0.1480\n",
      "Epoch 15/20 — Loss: 0.1417\n",
      "Epoch 16/20 — Loss: 0.1405\n",
      "Epoch 17/20 — Loss: 0.1329\n",
      "Epoch 18/20 — Loss: 0.1300\n",
      "Epoch 19/20 — Loss: 0.1266\n",
      "Epoch 20/20 — Loss: 0.1256\n"
     ]
    }
   ],
   "source": [
    "epochs = 20\n",
    "history = []\n",
    "\n",
    "model.train()\n",
    "for ep in range(epochs):\n",
    "    total_loss = 0\n",
    "    for xb, yb in loader:\n",
    "        pred = model(xb)\n",
    "\n",
    "        loss = loss_fn(pred, yb)\n",
    "        optimizer.zero_grad()\n",
    "        loss.backward()\n",
    "        optimizer.step()\n",
    "\n",
    "        total_loss += loss.item() * xb.size(0)\n",
    "\n",
    "    avg = total_loss / len(dataset)\n",
    "    history.append(avg)\n",
    "\n",
    "    print(f'Epoch {ep + 1:02d}/{epochs} — Loss: {avg:.4f}')"
   ]
  },
  {
   "cell_type": "code",
   "execution_count": 176,
   "id": "ab0a533bda744a2e",
   "metadata": {
    "ExecuteTime": {
     "end_time": "2025-08-04T02:47:35.142595Z",
     "start_time": "2025-08-04T02:47:35.105526Z"
    }
   },
   "outputs": [
    {
     "data": {
      "image/png": "[encoded data removed]",
      "text/plain": [
       "<Figure size 640x480 with 1 Axes>"
      ]
     },
     "metadata": {},
     "output_type": "display_data"
    }
   ],
   "source": [
    "plt.plot(history, marker='o')\n",
    "plt.xlabel('Epoch')\n",
    "plt.ylabel('MSE Loss')\n",
    "plt.title('Sunspots Forecasting Loss')\n",
    "plt.show()"
   ]
  },
  {
   "cell_type": "code",
   "execution_count": 177,
   "id": "2147e20d64eb286b",
   "metadata": {
    "ExecuteTime": {
     "end_time": "2025-08-04T02:47:35.575517Z",
     "start_time": "2025-08-04T02:47:35.571953Z"
    }
   },
   "outputs": [
    {
     "name": "stdout",
     "output_type": "stream",
     "text": [
      "Predicted sunspots in 2009: 29.1\n"
     ]
    }
   ],
   "source": [
    "model.eval()\n",
    "\n",
    "with torch.no_grad():\n",
    "    last_win = torch.from_numpy(series[-look_back:]).unsqueeze(0).unsqueeze(-1)  # (1, T, 1)\n",
    "    pred_norm = model(last_win).item()\n",
    "    pred = pred_norm * std + mean\n",
    "\n",
    "    print(f'Predicted sunspots in 2009: {pred:.1f}')"
   ]
  },
  {
   "cell_type": "markdown",
   "id": "1f57364a29c6582a",
   "metadata": {},
   "source": [
    "## Sentiment Analysis Using LSTM"
   ]
  },
  {
   "cell_type": "code",
   "execution_count": 213,
   "id": "eb7fafb73b95f16e",
   "metadata": {
    "ExecuteTime": {
     "end_time": "2025-08-04T03:22:34.458842Z",
     "start_time": "2025-08-04T03:22:34.457131Z"
    }
   },
   "outputs": [],
   "source": [
    "import torch\n",
    "import torch.nn as nn\n",
    "from torch.utils.data import DataLoader\n",
    "from datasets import load_dataset\n",
    "from collections import Counter\n",
    "from itertools import chain\n",
    "from tqdm.notebook import tqdm"
   ]
  },
  {
   "cell_type": "code",
   "execution_count": 200,
   "id": "fb27c55335c070fb",
   "metadata": {
    "ExecuteTime": {
     "end_time": "2025-08-04T03:13:32.085956Z",
     "start_time": "2025-08-04T03:13:26.803800Z"
    }
   },
   "outputs": [],
   "source": [
    "# Load SST-2 from the GLUE benchmark\n",
    "# https://huggingface.co/datasets/nyu-mll/glue#sst2\n",
    "ds = load_dataset('glue', 'sst2')\n",
    "train_ds = ds['train']\n",
    "valid_ds = ds['validation']"
   ]
  },
  {
   "cell_type": "code",
   "execution_count": 201,
   "id": "d80aab7524e248a2",
   "metadata": {
    "ExecuteTime": {
     "end_time": "2025-08-04T03:13:32.117105Z",
     "start_time": "2025-08-04T03:13:32.115466Z"
    }
   },
   "outputs": [],
   "source": [
    "def tokenize(text):\n",
    "    return text.lower().split()"
   ]
  },
  {
   "cell_type": "code",
   "execution_count": null,
   "id": "88f6aebfcca0a1",
   "metadata": {
    "ExecuteTime": {
     "end_time": "2025-08-04T03:13:32.824827Z",
     "start_time": "2025-08-04T03:13:32.140594Z"
    }
   },
   "outputs": [],
   "source": [
    "counter = Counter(chain.from_iterable(tokenize(example['sentence']) for example in train_ds))\n",
    "counter"
   ]
  },
  {
   "cell_type": "markdown",
   "id": "1ede0ef5a3d5285c",
   "metadata": {},
   "source": [
    "We cap the vocab at the top 10 000 tokens for three main practical reasons:\n",
    "- **Memory & Speed:** Every token in your vocabulary needs its own embedding vector (and potentially gradients) in memory.\n",
    "- **Noise Reduction:** Very infrequent words often contribute little signal but can introduce noise (typos, named entities, obscure terms). By grouping all of those into a single `<UNK>` token, the model focuses its capacity on learning representations for words it actually sees often.\n",
    "- **Generalization:** A smaller vocab encourages the model to learn broader patterns (e.g. how common words combine)."
   ]
  },
  {
   "cell_type": "code",
   "execution_count": 203,
   "id": "e0726f1eeeaa4c6e",
   "metadata": {
    "ExecuteTime": {
     "end_time": "2025-08-04T03:13:32.916487Z",
     "start_time": "2025-08-04T03:13:32.909060Z"
    }
   },
   "outputs": [],
   "source": [
    "# keep only the top 10 000 words\n",
    "most_common = [w for w, _ in counter.most_common(10_000)]\n",
    "\n",
    "# reserve 0 for PAD, 1 for UNK (Why UNK is needed?)\n",
    "vocab = {w: i + 2 for i, w in enumerate(most_common)}\n",
    "PAD, UNK = 0, 1"
   ]
  },
  {
   "cell_type": "code",
   "execution_count": 204,
   "id": "252aeb121340e712",
   "metadata": {
    "ExecuteTime": {
     "end_time": "2025-08-04T03:13:35.763292Z",
     "start_time": "2025-08-04T03:13:35.760612Z"
    }
   },
   "outputs": [],
   "source": [
    "def encode(text):\n",
    "    return [vocab.get(tok, UNK) for tok in tokenize(text)]"
   ]
  },
  {
   "cell_type": "markdown",
   "id": "657b95ca0c67999f",
   "metadata": {},
   "source": [
    "The lengths tensor holds the true length of each sequence in the batch before padding. We need it whenever we work with variable-length sequences so that our LSTM only processes the real tokens and ignores the padding.\n",
    "\n",
    "`padded` is (B, T, H) tensor after embedding and padding. `lengths` tells PyTorch how many timesteps in each sequence are actual data vs. padding."
   ]
  },
  {
   "cell_type": "code",
   "execution_count": 205,
   "id": "ff7bc66027dede64",
   "metadata": {
    "ExecuteTime": {
     "end_time": "2025-08-04T03:13:36.311122Z",
     "start_time": "2025-08-04T03:13:36.306931Z"
    }
   },
   "outputs": [],
   "source": [
    "# Collate function: pads to max-length in batch\n",
    "def collate_batch(batch):\n",
    "    # batch: list of dicts with 'sentence' and 'label'\n",
    "    seqs, labels = [], []\n",
    "    for example in batch:\n",
    "        token_ids = torch.tensor(encode(example['sentence']), dtype=torch.long)\n",
    "        seqs.append(token_ids)\n",
    "        labels.append(example['label'])\n",
    "\n",
    "    lengths = torch.tensor([len(s) for s in seqs], dtype=torch.long)\n",
    "    # pad\n",
    "    padded = nn.utils.rnn.pad_sequence(seqs, batch_first=True, padding_value=PAD)\n",
    "\n",
    "    return padded, lengths, torch.tensor(labels, dtype=torch.long)"
   ]
  },
  {
   "cell_type": "code",
   "execution_count": 206,
   "id": "fb31729e367cc45f",
   "metadata": {
    "ExecuteTime": {
     "end_time": "2025-08-04T03:13:37.745528Z",
     "start_time": "2025-08-04T03:13:37.742572Z"
    }
   },
   "outputs": [],
   "source": [
    "batch_size = 64\n",
    "train_loader = DataLoader(train_ds, batch_size, shuffle=True, collate_fn=collate_batch)\n",
    "valid_loader = DataLoader(valid_ds, batch_size, shuffle=False, collate_fn=collate_batch)"
   ]
  },
  {
   "cell_type": "code",
   "execution_count": 207,
   "id": "79e411c7a20f3af8",
   "metadata": {
    "ExecuteTime": {
     "end_time": "2025-08-04T03:13:38.812519Z",
     "start_time": "2025-08-04T03:13:38.808641Z"
    }
   },
   "outputs": [],
   "source": [
    "# Model: Embedding -> LSTM -> Classifier\n",
    "class SentimentLSTM(nn.Module):\n",
    "    def __init__(self, vocab_size, embed_dim=100, hidden_dim=128):\n",
    "        super().__init__()\n",
    "        self.embed = nn.Embedding(vocab_size, embed_dim, padding_idx=PAD)\n",
    "        self.lstm = nn.LSTM(embed_dim, hidden_dim, batch_first=True)\n",
    "        self.fc = nn.Linear(hidden_dim, 2)\n",
    "\n",
    "    def forward(self, x, lengths):\n",
    "        emb = self.embed(x)  # (B, T, E)\n",
    "        # pack for efficiency\n",
    "        packed = nn.utils.rnn.pack_padded_sequence(emb, lengths.cpu(), batch_first=True, enforce_sorted=False)\n",
    "        _, (h_n, _) = self.lstm(packed)\n",
    "        last_h = h_n[-1]  # (B, H)\n",
    "        return self.fc(last_h)"
   ]
  },
  {
   "cell_type": "code",
   "execution_count": 208,
   "id": "944148c06ebff455",
   "metadata": {
    "ExecuteTime": {
     "end_time": "2025-08-04T03:14:23.089276Z",
     "start_time": "2025-08-04T03:14:23.066823Z"
    }
   },
   "outputs": [],
   "source": [
    "device = torch.device('mps' if torch.mps.is_available() else 'cuda' if torch.cuda.is_available() else 'cpu')\n",
    "model = SentimentLSTM(vocab_size=len(vocab) + 2).to(device)"
   ]
  },
  {
   "cell_type": "code",
   "execution_count": 209,
   "id": "146d9dc0e01345b0",
   "metadata": {
    "ExecuteTime": {
     "end_time": "2025-08-04T03:14:27.356044Z",
     "start_time": "2025-08-04T03:14:27.353788Z"
    }
   },
   "outputs": [],
   "source": [
    "optimizer = torch.optim.Adam(model.parameters(), lr=1e-3)\n",
    "criterion = nn.CrossEntropyLoss()\n",
    "num_epochs = 3"
   ]
  },
  {
   "cell_type": "code",
   "execution_count": 212,
   "id": "c19e2c4f4cf69efe",
   "metadata": {
    "ExecuteTime": {
     "end_time": "2025-08-04T03:22:33.714637Z",
     "start_time": "2025-08-04T03:17:42.293065Z"
    }
   },
   "outputs": [
    {
     "name": "stdout",
     "output_type": "stream",
     "text": [
      "Epoch 1/3 — Train Acc: 0.7659\n",
      "Epoch 2/3 — Train Acc: 0.8938\n",
      "Epoch 3/3 — Train Acc: 0.9289\n"
     ]
    }
   ],
   "source": [
    "progress_bar = tqdm(range(1, num_epochs + 1))\n",
    "for epoch in progress_bar:\n",
    "    model.train()\n",
    "    train_correct = train_total = 0\n",
    "\n",
    "    for xb, lengths, yb in train_loader:\n",
    "        xb, lengths, yb = xb.to(device), lengths.to(device), yb.to(device)\n",
    "\n",
    "        optimizer.zero_grad()\n",
    "\n",
    "        logits = model(xb, lengths)\n",
    "        loss = criterion(logits, yb)\n",
    "        loss.backward()\n",
    "        optimizer.step()\n",
    "\n",
    "        preds = logits.argmax(dim=1)\n",
    "        train_correct += (preds == yb).sum().item()\n",
    "        train_total += yb.size(0)\n",
    "\n",
    "    acc = train_correct / train_total\n",
    "    print(f'Epoch {epoch}/{num_epochs} — Train Acc: {acc:.4f}')"
   ]
  },
  {
   "cell_type": "code",
   "execution_count": 214,
   "id": "ee3f0daea1bf225e",
   "metadata": {
    "ExecuteTime": {
     "end_time": "2025-08-04T03:22:39.520246Z",
     "start_time": "2025-08-04T03:22:39.265426Z"
    }
   },
   "outputs": [
    {
     "name": "stdout",
     "output_type": "stream",
     "text": [
      "Validation Acc: 0.8177\n"
     ]
    }
   ],
   "source": [
    "model.eval()\n",
    "val_correct = val_total = 0\n",
    "\n",
    "with torch.no_grad():\n",
    "    for xb, lengths, yb in valid_loader:\n",
    "        xb, lengths, yb = xb.to(device), lengths.to(device), yb.to(device)\n",
    "\n",
    "        logits = model(xb, lengths)\n",
    "        preds = logits.argmax(dim=1)\n",
    "        val_correct += (preds == yb).sum().item()\n",
    "        val_total += yb.size(0)\n",
    "\n",
    "print(f'Validation Acc: {val_correct / val_total:.4f}')"
   ]
  },
  {
   "cell_type": "code",
   "execution_count": 215,
   "id": "bd7c368dea311e18",
   "metadata": {
    "ExecuteTime": {
     "end_time": "2025-08-04T03:26:36.927718Z",
     "start_time": "2025-08-04T03:26:36.700892Z"
    }
   },
   "outputs": [
    {
     "name": "stdout",
     "output_type": "stream",
     "text": [
      "Text: \"I am happy\" — Predicted sentiment: positive\n",
      "Text: \"I am sad\" — Predicted sentiment: negative\n",
      "Text: \"This is great\" — Predicted sentiment: positive\n",
      "Text: \"This is terrible\" — Predicted sentiment: negative\n"
     ]
    }
   ],
   "source": [
    "texts = ['I am happy', 'I am sad', 'This is great', 'This is terrible']\n",
    "\n",
    "for text in texts:\n",
    "    encoded_text = torch.tensor(encode(text), dtype=torch.long).unsqueeze(0)\n",
    "    lengths = torch.tensor([encoded_text.size(1)], dtype=torch.long).to(device)\n",
    "    encoded_text = encoded_text.to(device)\n",
    "\n",
    "    with torch.no_grad():\n",
    "        logits = model(encoded_text, lengths)\n",
    "        pred = logits.argmax(dim=1).item()\n",
    "        sentiment = 'positive' if pred == 1 else 'negative'\n",
    "\n",
    "    print(f'Text: \"{text}\" — Predicted sentiment: {sentiment}')"
   ]
  },
  {
   "cell_type": "markdown",
   "id": "92eeb91e8da50afe",
   "metadata": {},
   "source": [
    "## LSTM from Scratch 🔥"
   ]
  },
  {
   "cell_type": "markdown",
   "id": "291f41be6d719cbf",
   "metadata": {},
   "source": [
    "[https://nn.labml.ai/lstm/index.html](https://nn.labml.ai/lstm/index.html)"
   ]
  }
 ],
 "metadata": {
  "kernelspec": {
   "display_name": "Python 3",
   "language": "python",
   "name": "python3"
  },
  "language_info": {
   "codemirror_mode": {
    "name": "ipython",
    "version": 2
   },
   "file_extension": ".py",
   "mimetype": "text/x-python",
   "name": "python",
   "nbconvert_exporter": "python",
   "pygments_lexer": "ipython2",
   "version": "2.7.6"
  }
 },
 "nbformat": 4,
 "nbformat_minor": 5
}
