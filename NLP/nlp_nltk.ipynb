{
  "cells": [
    {
      "cell_type": "markdown",
      "id": "56b7d277eb2ccb7d",
      "metadata": {
        "id": "56b7d277eb2ccb7d"
      },
      "source": [
        "<font>\n",
        "<div dir=ltr align=center>\n",
        "<img src='https://cdn.freebiesupply.com/logos/large/2x/sharif-logo-png-transparent.png' width=150 height=150> <br>\n",
        "<font color=0F5298 size=6>\n",
        "Natural Language Processing<br>\n",
        "<font color=2565AE size=4>\n",
        "Computer Engineering Department<br>\n",
        "Spring 2025<br>\n",
        "<font color=3C99D size=4>\n",
        "Workshop 2 - NLP Frameworks - NLTK<br>\n",
        "<font color=696880 size=3>\n",
        "<a href='https://language.ml'>https://language.ml</a><br>\n",
        "info [AT] language [dot] ml"
      ]
    },
    {
      "cell_type": "markdown",
      "id": "2431cbc451d7f1ef",
      "metadata": {
        "id": "2431cbc451d7f1ef"
      },
      "source": [
        "# 📖 Part 1: Introduction\n",
        "\n",
        "## ❓ What is NLTK? ([NLTK Official Website](https://www.nltk.org/))\n",
        "The Natural Language Toolkit (NLTK) is a popular Python library for working with human language data. It provides easy access to a wide range of text processing tools such as **tokenization**, **stemming**, **lemmatization**, **part-of-speech tagging**, and more. NLTK also includes various corpora and lexical resources to support NLP tasks.\n",
        "\n",
        "It’s often used for:\n",
        "- Teaching NLP concepts\n",
        "- Research prototyping\n",
        "- Basic language analysis tasks\n",
        "\n",
        "---\n",
        "\n",
        "## ✅ When to Use NLTK\n",
        "- **Educational Purposes:** It is ideal for learning fundamental NLP concepts such as tokenization, POS tagging, parsing, etc., because of its transparent and modular design.\n",
        "- **Prototyping:** When you want to quickly try out an idea without needing large-scale data or high performance.\n",
        "- **Rule-Based NLP:** For projects that involve hand-crafted rules or custom tokenization.\n",
        "- **Working with Classical NLP Tasks:** Especially if you want to explore linguistic structure using treebanks, grammars, or symbolic approaches.\n",
        "- **Lightweight Projects:** If you don’t need deep learning models or large-scale pipelines, NLTK provides a rich set of tools out of the box.\n",
        "\n",
        "---\n",
        "\n",
        "## 🚫 NLTK is not recommended for:\n",
        "- **Large-scale production systems** (use spaCy or Hugging Face instead)\n",
        "- **Neural network-based NLP** (use PyTorch, TensorFlow, or Hugging Face Transformers)"
      ]
    },
    {
      "cell_type": "markdown",
      "id": "917c87d3c9299ee8",
      "metadata": {
        "id": "917c87d3c9299ee8"
      },
      "source": [
        "## ⚙️ Installation & Setup"
      ]
    },
    {
      "cell_type": "code",
      "execution_count": 2,
      "id": "30bb53ba46c2000",
      "metadata": {
        "ExecuteTime": {
          "end_time": "2025-04-24T08:22:55.481791Z",
          "start_time": "2025-04-24T08:22:54.901669Z"
        },
        "colab": {
          "base_uri": "https://localhost:8080/"
        },
        "id": "30bb53ba46c2000",
        "outputId": "d03e9f21-383a-4af7-84fb-ce913ca7a588"
      },
      "outputs": [],
      "source": [
        "# !pip install nltk"
      ]
    },
    {
      "cell_type": "code",
      "execution_count": 3,
      "id": "initial_id",
      "metadata": {
        "ExecuteTime": {
          "end_time": "2025-04-24T08:22:55.488196Z",
          "start_time": "2025-04-24T08:22:55.486562Z"
        },
        "collapsed": true,
        "id": "initial_id"
      },
      "outputs": [],
      "source": [
        "import nltk"
      ]
    },
    {
      "cell_type": "markdown",
      "id": "5aae6c5a367be086",
      "metadata": {
        "id": "5aae6c5a367be086"
      },
      "source": [
        "# ✂️ Part 2: Basic Text Preprocessing\n",
        "\n",
        "Text preprocessing is the first and most important step in any NLP pipeline. It involves cleaning and structuring raw text into a format that can be used for further analysis or modeling."
      ]
    },
    {
      "cell_type": "markdown",
      "id": "21b78fab2b3127e3",
      "metadata": {
        "id": "21b78fab2b3127e3"
      },
      "source": [
        "## 📦 Downloading Resources"
      ]
    },
    {
      "cell_type": "code",
      "execution_count": 4,
      "id": "730dc494e76a945",
      "metadata": {
        "ExecuteTime": {
          "end_time": "2025-04-24T08:22:57.463038Z",
          "start_time": "2025-04-24T08:22:55.494451Z"
        },
        "colab": {
          "base_uri": "https://localhost:8080/"
        },
        "id": "730dc494e76a945",
        "outputId": "03200743-75f2-4ca2-ed55-a4796481f188"
      },
      "outputs": [
        {
          "name": "stderr",
          "output_type": "stream",
          "text": [
            "[nltk_data] Downloading package punkt_tab to\n",
            "[nltk_data]     C:\\Users\\alien\\AppData\\Roaming\\nltk_data...\n",
            "[nltk_data]   Package punkt_tab is already up-to-date!\n",
            "[nltk_data] Downloading package punkt to\n",
            "[nltk_data]     C:\\Users\\alien\\AppData\\Roaming\\nltk_data...\n",
            "[nltk_data]   Package punkt is already up-to-date!\n",
            "[nltk_data] Downloading package stopwords to\n",
            "[nltk_data]     C:\\Users\\alien\\AppData\\Roaming\\nltk_data...\n",
            "[nltk_data]   Package stopwords is already up-to-date!\n",
            "[nltk_data] Downloading package wordnet to\n",
            "[nltk_data]     C:\\Users\\alien\\AppData\\Roaming\\nltk_data...\n",
            "[nltk_data]   Package wordnet is already up-to-date!\n"
          ]
        },
        {
          "data": {
            "text/plain": [
              "True"
            ]
          },
          "execution_count": 4,
          "metadata": {},
          "output_type": "execute_result"
        }
      ],
      "source": [
        "nltk.download('punkt_tab')  # For tokenization, NLTK 3.8.2 or newer\n",
        "nltk.download('punkt')  # For tokenization, NLTK 3.8.1 or older\n",
        "nltk.download('stopwords')  # For stopword removal\n",
        "nltk.download('wordnet')  # For stemming and lemmatization"
      ]
    },
    {
      "cell_type": "markdown",
      "id": "4b988ae660a375ec",
      "metadata": {
        "id": "4b988ae660a375ec"
      },
      "source": [
        "## 🔹 2.1 Tokenization\n",
        "Tokenization is the process of breaking down text into smaller units like **words** or **sentences**.\n",
        "\n",
        "**⚠️ Note: Persian is not natively supported by NLTK.**"
      ]
    },
    {
      "cell_type": "markdown",
      "id": "1b7c5a5a10cfd713",
      "metadata": {
        "id": "1b7c5a5a10cfd713"
      },
      "source": [
        "### ✅ Sentence Tokenization"
      ]
    },
    {
      "cell_type": "code",
      "execution_count": 5,
      "id": "68b0b8c3216a761b",
      "metadata": {
        "ExecuteTime": {
          "end_time": "2025-04-24T08:22:57.478667Z",
          "start_time": "2025-04-24T08:22:57.468169Z"
        },
        "colab": {
          "base_uri": "https://localhost:8080/"
        },
        "id": "68b0b8c3216a761b",
        "outputId": "029f9429-cc14-47a1-cabb-0c906d9b97ce"
      },
      "outputs": [
        {
          "name": "stdout",
          "output_type": "stream",
          "text": [
            "['The children were playing in the garden.', 'They had a great time.']\n"
          ]
        }
      ],
      "source": [
        "from nltk.tokenize import sent_tokenize\n",
        "\n",
        "text = \"The children were playing in the garden. They had a great time.\"\n",
        "sentences = sent_tokenize(text)\n",
        "print(sentences)"
      ]
    },
    {
      "cell_type": "markdown",
      "id": "a6ed3a8d847c09a3",
      "metadata": {
        "id": "a6ed3a8d847c09a3"
      },
      "source": [
        "### ✅ Word Tokenization"
      ]
    },
    {
      "cell_type": "code",
      "execution_count": 6,
      "id": "a7ea85c564fd413",
      "metadata": {
        "ExecuteTime": {
          "end_time": "2025-04-24T08:22:57.489019Z",
          "start_time": "2025-04-24T08:22:57.487122Z"
        },
        "colab": {
          "base_uri": "https://localhost:8080/"
        },
        "id": "a7ea85c564fd413",
        "outputId": "74b6374a-d0ec-4a2c-cd3f-013eac36fbdc"
      },
      "outputs": [
        {
          "name": "stdout",
          "output_type": "stream",
          "text": [
            "['The', 'children', 'were', 'playing', 'in', 'the', 'garden', '.', 'They', 'had', 'a', 'great', 'time', '.']\n"
          ]
        }
      ],
      "source": [
        "from nltk.tokenize import word_tokenize\n",
        "\n",
        "words = word_tokenize(text)\n",
        "print(words)"
      ]
    },
    {
      "cell_type": "markdown",
      "id": "c47efb901b863fff",
      "metadata": {
        "id": "c47efb901b863fff"
      },
      "source": [
        "## 🔹 2.2 Stopword Removal"
      ]
    },
    {
      "cell_type": "code",
      "execution_count": 7,
      "id": "55db7d754cf6bf7e",
      "metadata": {
        "ExecuteTime": {
          "end_time": "2025-04-24T08:22:57.508409Z",
          "start_time": "2025-04-24T08:22:57.505590Z"
        },
        "colab": {
          "base_uri": "https://localhost:8080/"
        },
        "id": "55db7d754cf6bf7e",
        "outputId": "05171bd2-d398-4fe4-d814-e14033a53c56"
      },
      "outputs": [
        {
          "name": "stdout",
          "output_type": "stream",
          "text": [
            "Removed stopwords: ['The', 'were', 'in', 'the', 'They', 'had', 'a']\n",
            "Filtered words: ['children', 'playing', 'garden', '.', 'great', 'time', '.']\n"
          ]
        }
      ],
      "source": [
        "from nltk.corpus import stopwords\n",
        "\n",
        "stop_words = set(stopwords.words('english'))\n",
        "\n",
        "removed = [word for word in words if word.lower() in stop_words]\n",
        "filtered_words = [word for word in words if word.lower() not in stop_words]\n",
        "\n",
        "print('Removed stopwords:', removed)\n",
        "print('Filtered words:', filtered_words)"
      ]
    },
    {
      "cell_type": "markdown",
      "id": "fd8bedfa0ef17968",
      "metadata": {
        "id": "fd8bedfa0ef17968"
      },
      "source": [
        "## 🔹 2.3 Stemming"
      ]
    },
    {
      "cell_type": "code",
      "execution_count": 8,
      "id": "478435de19cf2cc2",
      "metadata": {
        "ExecuteTime": {
          "end_time": "2025-04-24T08:22:57.526918Z",
          "start_time": "2025-04-24T08:22:57.524978Z"
        },
        "colab": {
          "base_uri": "https://localhost:8080/"
        },
        "id": "478435de19cf2cc2",
        "outputId": "8c084fda-cc55-459e-dd35-1abb679d6456"
      },
      "outputs": [
        {
          "name": "stdout",
          "output_type": "stream",
          "text": [
            "['the', 'children', 'were', 'play', 'in', 'the', 'garden', '.', 'they', 'had', 'a', 'great', 'time', '.']\n"
          ]
        }
      ],
      "source": [
        "from nltk.stem import PorterStemmer\n",
        "\n",
        "stemmer = PorterStemmer()\n",
        "stemmed_words = [stemmer.stem(word) for word in words]\n",
        "print(stemmed_words)"
      ]
    },
    {
      "cell_type": "markdown",
      "id": "6f2d7a87fe7d165f",
      "metadata": {
        "id": "6f2d7a87fe7d165f"
      },
      "source": [
        "## 🔹 2.4 Lemmatization"
      ]
    },
    {
      "cell_type": "code",
      "execution_count": 9,
      "id": "46ea965a6c4d0f50",
      "metadata": {
        "ExecuteTime": {
          "end_time": "2025-04-24T08:22:58.594166Z",
          "start_time": "2025-04-24T08:22:57.657783Z"
        },
        "colab": {
          "base_uri": "https://localhost:8080/"
        },
        "id": "46ea965a6c4d0f50",
        "outputId": "a181970f-cc73-47f4-964f-eb25034a7a1c"
      },
      "outputs": [
        {
          "name": "stdout",
          "output_type": "stream",
          "text": [
            "['child', 'playing', 'garden', '.', 'great', 'time', '.']\n"
          ]
        }
      ],
      "source": [
        "from nltk.stem import WordNetLemmatizer\n",
        "\n",
        "lemmatizer = WordNetLemmatizer()\n",
        "lemmatized_words = [lemmatizer.lemmatize(word) for word in filtered_words]\n",
        "print(lemmatized_words)"
      ]
    },
    {
      "cell_type": "markdown",
      "id": "df111312ae436ee",
      "metadata": {
        "id": "df111312ae436ee"
      },
      "source": [
        "# 🧩 Part 3: POS Tagging (Part-of-Speech Tagging)\n",
        "\n",
        "**POS Tagging** is the process of labeling each word in a sentence with its corresponding part of speech, such as **noun**, **verb**, **adjective**, etc.\n",
        "\n",
        "This helps in understanding the **grammatical structure** of a sentence and is used in many NLP tasks like **parsing**, **named entity recognition**, and **question answering**."
      ]
    },
    {
      "cell_type": "markdown",
      "id": "109f454f9f3e9b76",
      "metadata": {
        "id": "109f454f9f3e9b76"
      },
      "source": [
        "## 📦 Downloading Resources"
      ]
    },
    {
      "cell_type": "code",
      "execution_count": 10,
      "id": "c51dea9252b1bfad",
      "metadata": {
        "ExecuteTime": {
          "end_time": "2025-04-24T08:22:58.604713Z",
          "start_time": "2025-04-24T08:22:58.599738Z"
        },
        "colab": {
          "base_uri": "https://localhost:8080/"
        },
        "id": "c51dea9252b1bfad",
        "outputId": "1cca65b7-846b-44bd-cb8a-2ffc468ccfa1"
      },
      "outputs": [
        {
          "name": "stderr",
          "output_type": "stream",
          "text": [
            "[nltk_data] Downloading package averaged_perceptron_tagger_eng to\n",
            "[nltk_data]     C:\\Users\\alien\\AppData\\Roaming\\nltk_data...\n",
            "[nltk_data]   Package averaged_perceptron_tagger_eng is already up-to-\n",
            "[nltk_data]       date!\n"
          ]
        },
        {
          "data": {
            "text/plain": [
              "True"
            ]
          },
          "execution_count": 10,
          "metadata": {},
          "output_type": "execute_result"
        }
      ],
      "source": [
        "nltk.download('averaged_perceptron_tagger_eng')  # POS tagger model"
      ]
    },
    {
      "cell_type": "markdown",
      "id": "20dece9d48c696a9",
      "metadata": {
        "id": "20dece9d48c696a9"
      },
      "source": [
        "## 🔹 3.1 Basic POS Tagging"
      ]
    },
    {
      "cell_type": "code",
      "execution_count": 11,
      "id": "fd298afcf92f7799",
      "metadata": {
        "ExecuteTime": {
          "end_time": "2025-04-24T08:22:58.657996Z",
          "start_time": "2025-04-24T08:22:58.619670Z"
        },
        "colab": {
          "base_uri": "https://localhost:8080/"
        },
        "id": "fd298afcf92f7799",
        "outputId": "7943d9e8-c1ba-4d03-cfcf-454c06ec7877"
      },
      "outputs": [
        {
          "name": "stdout",
          "output_type": "stream",
          "text": [
            "Tagged: [('In', 'IN'), ('October', 'NNP'), ('2024', 'CD'), (',', ','), ('Dr.', 'NNP'), ('Emily', 'NNP'), ('Smith', 'NNP'), ('of', 'IN'), ('MIT', 'NNP'), ('and', 'CC'), ('Professor', 'NNP'), ('Brian', 'NNP'), ('Lee', 'NNP'), ('from', 'IN'), ('Stanford', 'NNP'), ('University', 'NNP'), ('visited', 'VBD'), ('the', 'DT'), ('Googleplex', 'NNP'), ('in', 'IN'), ('Mountain', 'NNP'), ('View', 'NNP'), (',', ','), ('California', 'NNP'), ('to', 'TO'), ('present', 'VB'), ('their', 'PRP$'), ('NLP', 'NNP'), ('research', 'NN'), ('at', 'IN'), ('the', 'DT'), ('ACL', 'NNP'), ('workshop', 'NN'), ('.', '.')]\n"
          ]
        }
      ],
      "source": [
        "from nltk import pos_tag, word_tokenize\n",
        "\n",
        "text = 'In October 2024, Dr. Emily Smith of MIT and Professor Brian Lee from Stanford University visited the Googleplex in Mountain View, California to present their NLP research at the ACL workshop.'\n",
        "\n",
        "tokens = word_tokenize(text)\n",
        "tagged = pos_tag(tokens)\n",
        "\n",
        "print('Tagged:', tagged)"
      ]
    },
    {
      "cell_type": "markdown",
      "id": "bae4e16776f43e8b",
      "metadata": {
        "id": "bae4e16776f43e8b"
      },
      "source": [
        "## 🔹 3.2 POS Tag Explanation\n",
        "\n",
        "The tags returned by `pos_tag()` follow the **Penn Treebank** tag set. Here are a few common ones:\n",
        "\n",
        "| Tag | Meaning            | Example       |\n",
        "|-----|---------------------|---------------|\n",
        "| NN  | Noun, singular      | cat, car      |\n",
        "| NNS | Noun, plural        | cats, cars    |\n",
        "| VB  | Verb, base form     | run           |\n",
        "| VBD | Verb, past tense    | ran           |\n",
        "| JJ  | Adjective           | happy         |\n",
        "| RB  | Adverb              | quickly       |\n",
        "| IN  | Preposition         | in, on        |\n",
        "| DT  | Determiner          | the, a        |\n",
        "| PRP | Personal pronoun    | he, she, it   |"
      ]
    },
    {
      "cell_type": "code",
      "execution_count": 12,
      "id": "d57309e0b52545b3",
      "metadata": {
        "ExecuteTime": {
          "end_time": "2025-04-24T08:22:58.665480Z",
          "start_time": "2025-04-24T08:22:58.662808Z"
        },
        "colab": {
          "base_uri": "https://localhost:8080/"
        },
        "id": "d57309e0b52545b3",
        "outputId": "d4a56732-e16a-4fa4-928a-f22dbc813426"
      },
      "outputs": [
        {
          "name": "stderr",
          "output_type": "stream",
          "text": [
            "[nltk_data] Downloading package tagsets_json to\n",
            "[nltk_data]     C:\\Users\\alien\\AppData\\Roaming\\nltk_data...\n",
            "[nltk_data]   Package tagsets_json is already up-to-date!\n"
          ]
        },
        {
          "data": {
            "text/plain": [
              "True"
            ]
          },
          "execution_count": 12,
          "metadata": {},
          "output_type": "execute_result"
        }
      ],
      "source": [
        "nltk.download('tagsets_json')"
      ]
    },
    {
      "cell_type": "code",
      "execution_count": 13,
      "id": "9c32cf45da9b38a1",
      "metadata": {
        "ExecuteTime": {
          "end_time": "2025-04-24T08:22:58.683245Z",
          "start_time": "2025-04-24T08:22:58.681080Z"
        },
        "colab": {
          "base_uri": "https://localhost:8080/"
        },
        "id": "9c32cf45da9b38a1",
        "outputId": "8ee426e6-2585-4ac4-a515-84ed660b5755"
      },
      "outputs": [
        {
          "name": "stdout",
          "output_type": "stream",
          "text": [
            "NNP: noun, proper, singular\n",
            "    Motown Venneboerger Czestochwa Ranzer Conchita Trumplane Christos\n",
            "    Oceanside Escobar Kreisler Sawyer Cougar Yvette Ervin ODI Darryl CTCA\n",
            "    Shannon A.K.C. Meltex Liverpool ...\n"
          ]
        }
      ],
      "source": [
        "nltk.help.upenn_tagset('NNP')"
      ]
    },
    {
      "cell_type": "code",
      "execution_count": 14,
      "id": "9e82ca6ee2259581",
      "metadata": {
        "ExecuteTime": {
          "end_time": "2025-04-24T08:22:58.705468Z",
          "start_time": "2025-04-24T08:22:58.703282Z"
        },
        "colab": {
          "base_uri": "https://localhost:8080/"
        },
        "id": "9e82ca6ee2259581",
        "outputId": "6358a75c-1e70-4bd2-8266-1b0e0f716fa8"
      },
      "outputs": [
        {
          "name": "stdout",
          "output_type": "stream",
          "text": [
            "CC: conjunction, coordinating\n",
            "    & 'n and both but either et for less minus neither nor or plus so\n",
            "    therefore times v. versus vs. whether yet\n"
          ]
        }
      ],
      "source": [
        "nltk.help.upenn_tagset('CC')"
      ]
    },
    {
      "cell_type": "markdown",
      "id": "646e96958e03e21a",
      "metadata": {
        "id": "646e96958e03e21a"
      },
      "source": [
        "# 🧾 Part 4: Named Entity Recognition (NER)\n",
        "\n",
        "**Named Entity Recognition (NER)** is the process of identifying and classifying named entities in text into predefined categories such as **person names**, **organizations**, **locations**, **dates**, etc."
      ]
    },
    {
      "cell_type": "markdown",
      "id": "6d2c30102c2ba245",
      "metadata": {
        "id": "6d2c30102c2ba245"
      },
      "source": [
        "## 📦 Downloading Resources"
      ]
    },
    {
      "cell_type": "code",
      "execution_count": 15,
      "id": "5c567cacdc4cdcda",
      "metadata": {
        "ExecuteTime": {
          "end_time": "2025-04-24T08:22:58.741459Z",
          "start_time": "2025-04-24T08:22:58.726681Z"
        },
        "colab": {
          "base_uri": "https://localhost:8080/"
        },
        "id": "5c567cacdc4cdcda",
        "outputId": "b29dc8ea-5fc3-4f0a-d4ce-d983b3a3c472"
      },
      "outputs": [
        {
          "name": "stderr",
          "output_type": "stream",
          "text": [
            "[nltk_data] Downloading package maxent_ne_chunker_tab to\n",
            "[nltk_data]     C:\\Users\\alien\\AppData\\Roaming\\nltk_data...\n",
            "[nltk_data]   Package maxent_ne_chunker_tab is already up-to-date!\n",
            "[nltk_data] Downloading package words to\n",
            "[nltk_data]     C:\\Users\\alien\\AppData\\Roaming\\nltk_data...\n",
            "[nltk_data]   Package words is already up-to-date!\n"
          ]
        },
        {
          "data": {
            "text/plain": [
              "True"
            ]
          },
          "execution_count": 15,
          "metadata": {},
          "output_type": "execute_result"
        }
      ],
      "source": [
        "nltk.download('maxent_ne_chunker_tab')  # NER chunker\n",
        "nltk.download('words')  # Required for NE chunking"
      ]
    },
    {
      "cell_type": "markdown",
      "id": "33d9ddde97144d1b",
      "metadata": {
        "id": "33d9ddde97144d1b"
      },
      "source": [
        "## 🔹 4.1 Basic NER with `ne_chunk()`"
      ]
    },
    {
      "cell_type": "code",
      "execution_count": 16,
      "id": "8af8eaebdc05e011",
      "metadata": {
        "ExecuteTime": {
          "end_time": "2025-04-24T08:22:58.861153Z",
          "start_time": "2025-04-24T08:22:58.746180Z"
        },
        "colab": {
          "base_uri": "https://localhost:8080/"
        },
        "id": "8af8eaebdc05e011",
        "outputId": "8f6a9e5d-3fe3-4b26-ad82-2c1aed261998"
      },
      "outputs": [
        {
          "name": "stdout",
          "output_type": "stream",
          "text": [
            "(S\n",
            "  In/IN\n",
            "  October/NNP\n",
            "  2024/CD\n",
            "  ,/,\n",
            "  Dr./NNP\n",
            "  (PERSON Emily/NNP Smith/NNP)\n",
            "  of/IN\n",
            "  (ORGANIZATION MIT/NNP)\n",
            "  and/CC\n",
            "  (ORGANIZATION Professor/NNP Brian/NNP Lee/NNP)\n",
            "  from/IN\n",
            "  (ORGANIZATION Stanford/NNP University/NNP)\n",
            "  visited/VBD\n",
            "  the/DT\n",
            "  (ORGANIZATION Googleplex/NNP)\n",
            "  in/IN\n",
            "  (GPE Mountain/NNP View/NNP)\n",
            "  ,/,\n",
            "  (GPE California/NNP)\n",
            "  to/TO\n",
            "  present/VB\n",
            "  their/PRP$\n",
            "  (ORGANIZATION NLP/NNP)\n",
            "  research/NN\n",
            "  at/IN\n",
            "  the/DT\n",
            "  (ORGANIZATION ACL/NNP)\n",
            "  workshop/NN\n",
            "  ./.)\n"
          ]
        }
      ],
      "source": [
        "from nltk import word_tokenize, pos_tag, ne_chunk\n",
        "\n",
        "text = 'In October 2024, Dr. Emily Smith of MIT and Professor Brian Lee from Stanford University visited the Googleplex in Mountain View, California to present their NLP research at the ACL workshop.'\n",
        "\n",
        "# Tokenize, tag, and chunk\n",
        "tokens = word_tokenize(text)\n",
        "tags = pos_tag(tokens)\n",
        "named_entities = ne_chunk(tags)\n",
        "\n",
        "print(named_entities)"
      ]
    },
    {
      "cell_type": "markdown",
      "id": "4a9a7d40ba4f71c5",
      "metadata": {
        "id": "4a9a7d40ba4f71c5"
      },
      "source": [
        "> 📌 Note: The `ne_chunk` function doesn't always recognize dates and money values perfectly. For high accuracy, deep-learning-based NER tools like spaCy or Hugging Face are preferred — and you'll cover them later in the workshop."
      ]
    },
    {
      "cell_type": "markdown",
      "id": "32cb3b82224b9a20",
      "metadata": {
        "id": "32cb3b82224b9a20"
      },
      "source": [
        "## 🔹 4.2 Display Named Entities in a More Readable Way\n",
        "\n",
        "You can extract only the named entities and display them clearly:"
      ]
    },
    {
      "cell_type": "code",
      "execution_count": 19,
      "id": "45e7ab0f",
      "metadata": {},
      "outputs": [
        {
          "name": "stderr",
          "output_type": "stream",
          "text": [
            "[nltk_data] Downloading package wordnet to\n",
            "[nltk_data]     C:\\Users\\alien\\AppData\\Roaming\\nltk_data...\n",
            "[nltk_data]   Package wordnet is already up-to-date!\n"
          ]
        },
        {
          "data": {
            "text/plain": [
              "True"
            ]
          },
          "execution_count": 19,
          "metadata": {},
          "output_type": "execute_result"
        }
      ],
      "source": [
        "import nltk\n",
        "nltk.download(\"wordnet\")"
      ]
    },
    {
      "cell_type": "code",
      "execution_count": null,
      "id": "8f6d91663916dc2e",
      "metadata": {
        "ExecuteTime": {
          "end_time": "2025-04-24T08:22:58.867907Z",
          "start_time": "2025-04-24T08:22:58.865793Z"
        },
        "colab": {
          "base_uri": "https://localhost:8080/"
        },
        "id": "8f6d91663916dc2e",
        "outputId": "aeab4ff6-b4fb-4419-9744-f4cc7d7f722a"
      },
      "outputs": [],
      "source": [
        "from nltk.tree import Tree\n",
        "\n",
        "# Define a function to extract named entities from a chunked tree\n",
        "def extract_named_entities(chunked_tree):\n",
        "    named_entities = []\n",
        "\n",
        "    for subtree in chunked_tree:\n",
        "        # TODO:\n",
        "\n",
        "    return named_entities\n",
        "\n",
        "# TODO: Call the function with the correct input and print the result\n",
        "entities = extract_named_entities(TODO)\n",
        "print('Named Entities:', entities)\n"
      ]
    },
    {
      "cell_type": "markdown",
      "id": "24a6966a1f07515d",
      "metadata": {
        "id": "24a6966a1f07515d"
      },
      "source": [
        "## 🔹 4.3 Common Named Entity Types\n",
        "\n",
        "The table below summarizes the most common named entity labels used by NLTK’s `ne_chunk()` function (based on the Penn Treebank and CoNLL tagsets):\n",
        "\n",
        "| Label            | Meaning                                          |\n",
        "|------------------|--------------------------------------------------|\n",
        "| **PERSON**       | Individual people                                |\n",
        "| **ORGANIZATION** | Companies, institutions, agencies                |\n",
        "| **GPE**          | Geopolitical entities: countries, cities, states |\n",
        "| **FACILITY**     | Physical facilities: buildings, airports, labs   |\n",
        "| **LOCATION**     | Natural locations: rivers, mountains, regions    |"
      ]
    },
    {
      "cell_type": "markdown",
      "id": "121eb8c4415f80ac",
      "metadata": {
        "id": "121eb8c4415f80ac"
      },
      "source": [
        "# 🗂️ Part 5: Text Classification (Optional)\n",
        "\n",
        "Text classification is the task of assigning a category or label to a given piece of text. Examples include:\n",
        "- Spam detection\n",
        "- Sentiment analysis\n",
        "- News categorization\n",
        "\n",
        "NLTK offers tools for training basic classifiers using classical machine learning (not deep learning)."
      ]
    },
    {
      "cell_type": "markdown",
      "id": "80920438cd4c2173",
      "metadata": {
        "id": "80920438cd4c2173"
      },
      "source": [
        "## 📦 Downloading Resources"
      ]
    },
    {
      "cell_type": "code",
      "execution_count": 18,
      "id": "528c3b60248830e2",
      "metadata": {
        "ExecuteTime": {
          "end_time": "2025-04-24T08:23:02.285905Z",
          "start_time": "2025-04-24T08:22:58.878844Z"
        },
        "colab": {
          "base_uri": "https://localhost:8080/"
        },
        "id": "528c3b60248830e2",
        "outputId": "e21d5cee-418a-4bb6-9ea7-8d9f0b783547"
      },
      "outputs": [
        {
          "name": "stderr",
          "output_type": "stream",
          "text": [
            "[nltk_data] Downloading package movie_reviews to\n",
            "[nltk_data]     C:\\Users\\alien\\AppData\\Roaming\\nltk_data...\n",
            "[nltk_data]   Package movie_reviews is already up-to-date!\n"
          ]
        },
        {
          "data": {
            "text/plain": [
              "True"
            ]
          },
          "execution_count": 18,
          "metadata": {},
          "output_type": "execute_result"
        }
      ],
      "source": [
        "nltk.download('movie_reviews')  # Sample dataset"
      ]
    },
    {
      "cell_type": "markdown",
      "id": "b39f153311398cee",
      "metadata": {
        "id": "b39f153311398cee"
      },
      "source": [
        "## 🔹 5.1 Load the Dataset\n",
        "\n",
        "We’ll use the movie reviews corpus included in NLTK. It contains 1000 positive and negative reviews labeled accordingly."
      ]
    },
    {
      "cell_type": "code",
      "execution_count": 19,
      "id": "c548c70f2c2aab4f",
      "metadata": {
        "ExecuteTime": {
          "end_time": "2025-04-24T08:23:02.295986Z",
          "start_time": "2025-04-24T08:23:02.294602Z"
        },
        "id": "c548c70f2c2aab4f"
      },
      "outputs": [],
      "source": [
        "from nltk.corpus import movie_reviews\n",
        "import random"
      ]
    },
    {
      "cell_type": "code",
      "execution_count": 20,
      "id": "d5377ddf99875e5d",
      "metadata": {
        "ExecuteTime": {
          "end_time": "2025-04-24T08:23:02.307106Z",
          "start_time": "2025-04-24T08:23:02.305592Z"
        },
        "id": "d5377ddf99875e5d"
      },
      "outputs": [],
      "source": [
        "# Set random seed for reproducibility\n",
        "random.seed(42)"
      ]
    },
    {
      "cell_type": "code",
      "execution_count": 21,
      "id": "70e18760707166f4",
      "metadata": {
        "ExecuteTime": {
          "end_time": "2025-04-24T08:23:02.313795Z",
          "start_time": "2025-04-24T08:23:02.310551Z"
        },
        "colab": {
          "base_uri": "https://localhost:8080/"
        },
        "id": "70e18760707166f4",
        "outputId": "e73ba2ec-94f5-4e6c-96e3-efa5dd737763"
      },
      "outputs": [
        {
          "name": "stdout",
          "output_type": "stream",
          "text": [
            "Categories: ['neg', 'pos']\n",
            "Number of reviews: 2000\n",
            "Positive reviews: 1000\n",
            "Negative reviews: 1000\n"
          ]
        }
      ],
      "source": [
        "print('Categories:', movie_reviews.categories())\n",
        "print('Number of reviews:', len(movie_reviews.fileids()))\n",
        "\n",
        "print('Positive reviews:', len(movie_reviews.fileids('pos')))\n",
        "print('Negative reviews:', len(movie_reviews.fileids('neg')))"
      ]
    },
    {
      "cell_type": "code",
      "execution_count": 22,
      "id": "9266e9e6e54e0761",
      "metadata": {
        "ExecuteTime": {
          "end_time": "2025-04-24T08:23:02.977067Z",
          "start_time": "2025-04-24T08:23:02.319930Z"
        },
        "id": "9266e9e6e54e0761"
      },
      "outputs": [],
      "source": [
        "# Create list of (words, category) pairs\n",
        "documents = []\n",
        "for category in movie_reviews.categories():\n",
        "    for fileid in movie_reviews.fileids(category):\n",
        "        documents.append((list(movie_reviews.words(fileid)), category))\n",
        "\n",
        "# Shuffle documents for randomness\n",
        "random.shuffle(documents)"
      ]
    },
    {
      "cell_type": "code",
      "execution_count": 23,
      "id": "c9a36f49bb5cfe77",
      "metadata": {
        "ExecuteTime": {
          "end_time": "2025-04-24T08:23:02.984719Z",
          "start_time": "2025-04-24T08:23:02.982988Z"
        },
        "colab": {
          "base_uri": "https://localhost:8080/"
        },
        "id": "c9a36f49bb5cfe77",
        "outputId": "8b92bad6-9584-43cd-8781-d1b15c8a0705"
      },
      "outputs": [
        {
          "name": "stdout",
          "output_type": "stream",
          "text": [
            "(['eyes', 'wide', 'shut', 'isn', \"'\", 't', 'the', 'masterpiece', 'many', 'were', 'hoping', 'to', 'see', 'in', 'stanley', 'kubrick', \"'\", 's', 'final', 'film', ',', 'but', 'it', 'is', 'an', 'impressive', 'achievement', ';', 'a', 'mesmerizing', ',', 'haunting', ',', 'adult', 'psychodrama', 'about', 'marriage', ',', 'fidelity', 'and', 'sex', '.', 'it', \"'\", 's', 'a', 'stanley', 'kubrick', 'film', 'from', 'beginning', 'to', 'end', ',', 'consistently', 'exhibiting', 'the', 'auteur', \"'\", 's', 'trademark', 'penchant', 'for', 'long', ',', 'continuous', 'takes', ',', 'his', 'unparalleled', 'deftness', 'behind', 'the', 'camera', 'and', 'his', 'uncanny', 'ability', 'to', 'extract', 'gorgeous', 'performances', 'from', 'his', 'exhausted', 'cast', '(', 'indeed', ',', 'eyes', 'wide', 'shut', 'attained', 'infamy', 'even', 'before', 'its', 'release', 'for', 'its', 'notoriously', 'laborious', 'shoot', ':', 'kubrick', ',', 'a', 'renowned', 'perfectionist', ',', 'reportedly', 'held', 'his', 'cast', '\"', 'hostage', '\"', 'on', 'the', 'set', 'for', 'nearly', 'a', 'year', ')', '.', 'in', 'an', 'uncharacteristic', 'maneuver', ',', 'kubrick', 'cast', 'two', 'big', '-', 'name', 'stars', 'in', 'the', 'lead', 'roles', ',', 'namely', 'real', '-', 'life', 'husband', 'and', 'wife', 'tom', 'cruise', 'and', 'nicole', 'kidman', '.', 'they', 'play', 'bill', 'and', 'alice', 'harford', ',', 'a', 'volatile', 'couple', 'who', ',', 'during', 'the', 'course', 'of', 'a', 'couple', 'nights', ',', 'ponder', 'the', 'validity', 'of', 'the', 'idea', 'that', 'a', 'husband', 'and', 'a', 'wife', 'must', 'be', 'faithful', 'to', 'each', 'other', '.', 'he', 'is', 'an', 'm', '.', 'd', '.', ',', 'she', \"'\", 's', 'unemployed', 'and', 'we', 'are', 'introduced', 'to', 'them', 'as', 'they', 'are', 'getting', 'ready', 'to', 'go', 'to', 'a', 'fancy', 'party', '.', 'at', 'the', 'affair', ',', 'they', 'are', 'both', 'propositioned', 'and', 'both', 'nearly', 'succumb', 'to', 'the', 'temptation', 'to', 'play', 'around', 'with', 'someone', 'else', '.', 'when', 'they', 'return', 'to', 'their', 'lavish', 'new', 'york', 'apartment', 'kidman', '(', 'after', 'smoking', 'a', 'dash', 'of', 'weed', ')', 'inquires', 'whether', 'her', 'husband', 'had', 'sex', 'with', 'two', 'models', 'who', 'approached', 'him', 'during', 'the', 'night', '.', 'he', '(', 'truthfully', ')', 'says', 'that', 'he', 'did', 'not', 'and', 'asks', 'what', 'happened', 'with', 'that', 'hungarian', 'guy', 'she', 'was', 'dancing', 'with', '.', 'they', 'proceed', 'to', 'argue', 'until', 'alice', 'tells', 'her', 'spouse', 'a', 'lustful', 'story', ':', 'evidently', 'some', 'time', 'ago', ',', 'she', 'had', 'a', 'thing', 'for', 'a', 'young', 'naval', 'officer', '.', 'she', 'admits', 'that', 'she', 'was', 'ready', 'to', 'give', 'up', 'her', 'whole', 'future', 'with', 'bill', 'and', 'their', 'young', 'daughter', 'if', 'this', 'guy', 'wanted', 'her', 'even', 'for', 'one', 'night', '.', 'bill', 'is', 'jolted', 'by', 'alice', \"'\", 's', 'story', 'and', 'we', 'anticipate', 'his', 'reaction', ',', 'but', 'at', 'that', 'moment', 'he', 'gets', 'a', 'phone', 'call', 'and', 'has', 'to', 'go', '\"', 'show', 'his', 'face', '\"', 'at', 'the', 'house', 'of', 'a', 'just', '-', 'deceased', 'patient', '.', 'this', 'turns', 'out', 'to', 'be', 'the', 'beginning', 'of', 'a', 'long', 'and', 'eventful', 'night', 'on', 'the', 'town', '.', 'the', 'daughter', 'of', 'the', 'dead', 'patient', 'hits', 'on', 'him', 'but', 'he', 'wisely', 'turns', 'her', 'down', '.', 'he', 'almost', 'does', 'the', 'dirty', 'deed', 'with', 'a', 'kindly', 'hooker', 'who', 'approaches', 'him', 'on', 'the', 'street', '.', 'then', ',', 'through', 'a', 'series', 'of', 'coincidences', ',', 'he', 'winds', 'up', 'at', 'a', 'gothic', 'mansion', 'where', 'a', 'ritualistic', '(', 'and', 'frankly', ',', 'creepy', ')', 'orgy', 'takes', 'place', ',', 'with', 'costumed', 'people', 'performing', 'various', 'public', 'sex', 'acts', 'on', 'each', 'other', '.', 'erotic', 'dread', 'mounts', 'as', 'cruise', '(', 'who', \"'\", 's', 'not', 'supposed', 'to', 'be', 'there', ')', 'wonders', 'the', 'spacious', 'halls', 'watching', 'the', '\"', 'action', '\"', 'until', 'he', 'is', 'discovered', 'to', 'be', 'an', 'outsider', '.', 'much', 'hoopla', 'has', 'been', 'raised', 'over', 'the', 'fact', 'that', 'warner', 'bros', '.', 'digitally', 'edited', 'the', 'orgy', 'scene', '.', 'with', 'the', 'help', 'of', 'a', 'computer', ',', 'they', 'put', 'in', 'cloaked', 'figures', 'to', 'block', 'some', 'of', 'the', 'actual', 'sex', 'acts', '(', 'they', 'can', 'still', 'be', 'seen', ',', 'just', 'not', 'in', 'all', 'their', 'glory', ')', 'in', 'order', 'to', 'avoid', 'the', 'dreaded', 'nc', '-', '17', 'rating', '.', 'european', 'viewers', 'will', 'see', 'the', 'film', 'as', 'kubrick', 'envisioned', 'it', '.', 'roger', 'ebert', 'calls', 'the', 'american', 'version', 'the', '\"', 'austin', 'powers', 'version', ',', '\"', 'and', 'many', 'others', 'have', 'bashed', 'the', 'alterations', '.', 'i', 'am', 'of', 'the', 'potentially', 'controversial', 'opinion', 'that', 'the', 'figures', 'only', 'supplement', 'the', 'scene', \"'\", 's', 'mystical', 'atmosphere', '.', 'the', 'first', 'thing', 'one', 'notices', 'about', 'eyes', 'wide', 'shut', 'is', 'how', 'it', 'looks', '.', 'this', 'is', 'an', 'artful', ',', 'distinctively', 'gorgeous', 'production', ',', 'shot', 'in', 'dark', ',', 'moody', 'hues', 'and', 'featuring', 'some', 'elaborate', ',', 'beautiful', 'scenery', '.', 'from', 'the', 'giant', 'mansion', 'used', 'in', 'the', 'film', \"'\", 's', 'centerpiece', 'to', 'the', 'decor', 'at', 'the', 'christmas', 'party', 'to', 'the', 'harford', \"'\", 's', 'apartment', ',', 'this', 'film', 'is', 'always', 'a', 'pleasure', 'to', 'look', 'at', '.', 'to', 'boot', ',', 'a', 'great', 'soundtrack', 'makes', 'it', 'more', 'atmospheric', 'still', '.', 'at', 'the', 'core', ',', 'behind', 'the', 'graphic', ',', 'controversial', 'content', 'and', 'unappealing', 'mood', ',', 'this', 'is', 'a', 'good', '-', 'natured', 'movie', 'that', 'emphasizes', 'the', 'importance', 'of', 'fidelity', '.', 'it', 'looks', 'at', 'sex', 'as', 'almost', 'perfunctory', 'by', 'portraying', 'it', 'as', 'unnerving', 'rather', 'than', 'erotic', '.', 'it', \"'\", 's', 'something', 'superficial', 'and', 'yet', 'something', 'necessary', 'to', 'achieve', 'a', 'deeper', 'relationship', '.', 'at', 'the', 'end', ',', 'it', 'seems', ',', 'bill', \"'\", 's', 'eyes', 'are', 'wide', 'open', 'to', 'the', 'special', 'kind', 'of', 'love', 'he', 'and', 'his', 'wife', 'have', 'for', 'each', 'other', ',', 'more', 'meaningful', 'than', 'anything', 'he', 'could', 'ever', 'hope', 'to', 'find', 'on', 'the', 'streets', 'of', 'new', 'york', '.', 'kubrick', 'elicits', 'wonderful', 'performances', 'from', 'both', 'cruise', 'and', 'kidman', '.', 'tom', 'is', 'completely', 'convincing', 'as', 'dr', '.', 'harford', ',', 'a', 'man', 'who', 'seems', 'guided', 'solely', 'by', 'destiny', ',', 'with', 'no', 'control', 'of', 'the', 'course', 'his', 'life', 'will', 'take', '.', 'nicole', 'projects', 'a', 'quiet', 'intensity', 'as', 'the', 'jittery', 'yet', 'aggressive', 'wife', 'and', 'her', 'performance', 'is', 'stunningly', 'effective', ':', 'she', \"'\", 's', 'headed', 'for', 'an', 'oscar', 'nod', '.', 'the', 'movie', 'has', 'some', 'help', 'from', 'a', 'similarly', 'strong', 'supporting', 'cast', ',', 'at', 'the', 'head', 'of', 'which', 'is', 'director', '-', 'cum', '-', 'thespian', 'sidney', 'pollock', ',', 'enigmatic', 'and', 'articulate', 'as', 'harford', \"'\", 's', 'mysterious', 'friend', '.', 'eyes', 'wide', 'shut', 'is', 'not', 'perfect', ':', 'the', 'last', 'hour', 'could', 'have', 'used', 'a', 'slightly', 'more', 'scissor', '-', 'happy', 'editor', 'and', 'both', 'cruise', 'and', 'kidman', 'are', 'too', 'good', '-', 'looking', 'for', 'me', 'to', 'believe', 'that', 'either', 'would', 'have', 'a', 'very', 'strong', 'temptation', 'to', 'philander', '.', 'still', ',', 'this', 'is', 'an', 'important', 'work', 'from', 'a', 'great', 'director', ',', 'and', 'while', 'it', 'may', 'not', 'be', 'on', 'par', 'with', 'some', 'of', 'stanley', 'kubrick', \"'\", 's', 'best', 'it', 'is', 'a', 'worthy', 'final', 'film', ',', 'a', 'complex', 'exploration', 'of', 'jealousy', 'and', 'faithfulness', '.', '?', '1999', 'eugene', 'novikov', '&#', '137', ';'], 'pos')\n"
          ]
        }
      ],
      "source": [
        "print(documents[10])"
      ]
    },
    {
      "cell_type": "markdown",
      "id": "2dbfa29e654e529e",
      "metadata": {
        "id": "2dbfa29e654e529e"
      },
      "source": [
        "## 🔹 5.2 Feature Extraction\n",
        "\n",
        "We’ll define features as whether a given word is present in a document."
      ]
    },
    {
      "cell_type": "code",
      "execution_count": 24,
      "id": "366673d5159e2b42",
      "metadata": {
        "ExecuteTime": {
          "end_time": "2025-04-24T08:23:03.721794Z",
          "start_time": "2025-04-24T08:23:02.999565Z"
        },
        "colab": {
          "base_uri": "https://localhost:8080/"
        },
        "id": "366673d5159e2b42",
        "outputId": "72850146-5018-4123-b7cf-37b70943b444"
      },
      "outputs": [
        {
          "data": {
            "text/plain": [
              "FreqDist({',': 77717, 'the': 76529, '.': 65876, 'a': 38106, 'and': 35576, 'of': 34123, 'to': 31937, \"'\": 30585, 'is': 25195, 'in': 21822, ...})"
            ]
          },
          "execution_count": 24,
          "metadata": {},
          "output_type": "execute_result"
        }
      ],
      "source": [
        "from nltk import FreqDist\n",
        "\n",
        "all_words = FreqDist(w.lower() for w in movie_reviews.words())\n",
        "all_words"
      ]
    },
    {
      "cell_type": "code",
      "execution_count": 25,
      "id": "a2e6e8b2974dca99",
      "metadata": {
        "ExecuteTime": {
          "end_time": "2025-04-24T08:23:03.735126Z",
          "start_time": "2025-04-24T08:23:03.728053Z"
        },
        "colab": {
          "base_uri": "https://localhost:8080/"
        },
        "id": "a2e6e8b2974dca99",
        "outputId": "f3c712f2-65e8-47e5-8dbd-339f94983541"
      },
      "outputs": [
        {
          "name": "stdout",
          "output_type": "stream",
          "text": [
            "Top 20 features: [',', 'the', '.', 'a', 'and', 'of', 'to', \"'\", 'is', 'in', 's', '\"', 'it', 'that', '-', ')', '(', 'as', 'with', 'for']\n"
          ]
        }
      ],
      "source": [
        "word_features = list(all_words)[:2000]\n",
        "print('Top 20 features:', word_features[:20])"
      ]
    },
    {
      "cell_type": "code",
      "execution_count": 26,
      "id": "a034cb4b32be7b20",
      "metadata": {
        "ExecuteTime": {
          "end_time": "2025-04-24T08:23:03.744711Z",
          "start_time": "2025-04-24T08:23:03.741882Z"
        },
        "colab": {
          "base_uri": "https://localhost:8080/"
        },
        "id": "a034cb4b32be7b20",
        "outputId": "ce1ada4b-5dac-4f35-943e-e29c4bacb5a0"
      },
      "outputs": [
        {
          "name": "stdout",
          "output_type": "stream",
          "text": [
            "Length of features: 2000\n",
            "Features: {'contains(,)': True, 'contains(the)': True, 'contains(.)': True, 'contains(a)': True, 'contains(and)': True, 'contains(of)': True, 'contains(to)': True, \"contains(')\": True, 'contains(is)': True, 'contains(in)': True, 'contains(s)': True, 'contains(\")': False, 'contains(it)': True, 'contains(that)': True, 'contains(-)': True, 'contains())': False, 'contains(()': False, 'contains(as)': True, 'contains(with)': True, 'contains(for)': True, 'contains(his)': False, 'contains(this)': True, 'contains(film)': False, 'contains(i)': True, 'contains(he)': False, 'contains(but)': True, 'contains(on)': True, 'contains(are)': True, 'contains(t)': True, 'contains(by)': True, 'contains(be)': True, 'contains(one)': True, 'contains(movie)': True, 'contains(an)': False, 'contains(who)': False, 'contains(not)': True, 'contains(you)': True, 'contains(from)': True, 'contains(at)': True, 'contains(was)': True, 'contains(have)': True, 'contains(they)': True, 'contains(has)': True, 'contains(her)': False, 'contains(all)': False, 'contains(?)': False, 'contains(there)': True, 'contains(like)': True, 'contains(so)': True, 'contains(out)': True, 'contains(about)': True, 'contains(up)': True, 'contains(more)': True, 'contains(what)': True, 'contains(when)': True, 'contains(which)': False, 'contains(or)': True, 'contains(she)': False, 'contains(their)': False, 'contains(:)': False, 'contains(some)': True, 'contains(just)': True, 'contains(can)': True, 'contains(if)': True, 'contains(we)': False, 'contains(him)': False, 'contains(into)': True, 'contains(even)': True, 'contains(only)': True, 'contains(than)': True, 'contains(no)': True, 'contains(good)': False, 'contains(time)': False, 'contains(most)': True, 'contains(its)': True, 'contains(will)': True, 'contains(story)': True, 'contains(would)': True, 'contains(been)': True, 'contains(much)': True, 'contains(character)': True, 'contains(also)': False, 'contains(get)': True, 'contains(other)': True, 'contains(do)': True, 'contains(two)': True, 'contains(well)': True, 'contains(them)': False, 'contains(very)': True, 'contains(characters)': False, 'contains(;)': False, 'contains(first)': True, 'contains(--)': False, 'contains(after)': False, 'contains(see)': True, 'contains(!)': False, 'contains(way)': True, 'contains(because)': True, 'contains(make)': False, 'contains(life)': False, 'contains(off)': True, 'contains(too)': True, 'contains(any)': True, 'contains(does)': False, 'contains(really)': True, 'contains(had)': True, 'contains(while)': False, 'contains(films)': False, 'contains(how)': True, 'contains(plot)': True, 'contains(little)': True, 'contains(where)': False, 'contains(people)': True, 'contains(over)': False, 'contains(could)': True, 'contains(then)': True, 'contains(me)': False, 'contains(scene)': False, 'contains(man)': False, 'contains(bad)': True, 'contains(my)': True, 'contains(never)': False, 'contains(being)': False, 'contains(best)': True, 'contains(these)': True, 'contains(don)': True, 'contains(new)': False, 'contains(doesn)': False, 'contains(scenes)': False, 'contains(many)': True, 'contains(director)': False, 'contains(such)': False, 'contains(know)': True, 'contains(were)': False, 'contains(movies)': True, 'contains(through)': True, 'contains(here)': False, 'contains(action)': False, 'contains(great)': False, 'contains(re)': False, 'contains(another)': True, 'contains(love)': False, 'contains(go)': True, 'contains(made)': False, 'contains(us)': False, 'contains(big)': True, 'contains(end)': True, 'contains(something)': True, 'contains(back)': False, 'contains(*)': False, 'contains(still)': False, 'contains(world)': False, 'contains(seems)': True, 'contains(work)': False, 'contains(those)': True, 'contains(makes)': False, 'contains(now)': True, 'contains(before)': False, 'contains(however)': False, 'contains(between)': False, 'contains(few)': False, 'contains(/)': False, 'contains(down)': False, 'contains(every)': False, 'contains(though)': False, 'contains(better)': True, 'contains(real)': True, 'contains(audience)': True, 'contains(enough)': True, 'contains(seen)': False, 'contains(take)': False, 'contains(around)': False, 'contains(both)': False, 'contains(going)': True, 'contains(year)': False, 'contains(performance)': False, 'contains(why)': False, 'contains(should)': True, 'contains(role)': True, 'contains(isn)': True, 'contains(same)': False, 'contains(old)': False, 'contains(gets)': False, 'contains(your)': True, 'contains(may)': False, 'contains(things)': True, 'contains(think)': True, 'contains(years)': False, 'contains(last)': False, 'contains(comedy)': True, 'contains(funny)': True, 'contains(actually)': True, 'contains(ve)': False, 'contains(long)': False, 'contains(look)': True, 'contains(almost)': False, 'contains(own)': False, 'contains(thing)': True, 'contains(fact)': False, 'contains(nothing)': False, 'contains(say)': True, 'contains(right)': False, 'contains(john)': False, 'contains(although)': True, 'contains(played)': False, 'contains(find)': False, 'contains(script)': False, 'contains(come)': False, 'contains(ever)': False, 'contains(cast)': False, 'contains(since)': False, 'contains(did)': True, 'contains(star)': True, 'contains(plays)': False, 'contains(young)': False, 'contains(show)': True, 'contains(comes)': False, 'contains(m)': False, 'contains(part)': False, 'contains(original)': False, 'contains(actors)': True, 'contains(screen)': True, 'contains(without)': False, 'contains(again)': True, 'contains(acting)': True, 'contains(three)': False, 'contains(day)': False, 'contains(each)': False, 'contains(point)': False, 'contains(lot)': False, 'contains(least)': True, 'contains(takes)': False, 'contains(guy)': False, 'contains(quite)': True, 'contains(himself)': False, 'contains(away)': False, 'contains(during)': True, 'contains(family)': False, 'contains(effects)': False, 'contains(course)': False, 'contains(goes)': True, 'contains(minutes)': False, 'contains(interesting)': True, 'contains(might)': True, 'contains(far)': False, 'contains(high)': False, 'contains(rather)': True, 'contains(once)': False, 'contains(must)': True, 'contains(anything)': True, 'contains(place)': False, 'contains(set)': False, 'contains(yet)': False, 'contains(watch)': False, 'contains(d)': False, 'contains(making)': False, 'contains(our)': False, 'contains(wife)': False, 'contains(hard)': True, 'contains(always)': False, 'contains(fun)': False, 'contains(didn)': True, 'contains(ll)': False, 'contains(seem)': False, 'contains(special)': False, 'contains(bit)': True, 'contains(times)': False, 'contains(trying)': True, 'contains(hollywood)': False, 'contains(instead)': False, 'contains(give)': False, 'contains(want)': False, 'contains(picture)': False, 'contains(kind)': False, 'contains(american)': True, 'contains(job)': True, 'contains(sense)': False, 'contains(woman)': False, 'contains(home)': False, 'contains(having)': False, 'contains(series)': True, 'contains(actor)': True, 'contains(probably)': True, 'contains(help)': True, 'contains(half)': False, 'contains(along)': False, 'contains(men)': False, 'contains(everything)': False, 'contains(pretty)': False, 'contains(becomes)': False, 'contains(sure)': True, 'contains(black)': False, 'contains(together)': False, 'contains(dialogue)': True, 'contains(money)': True, 'contains(become)': False, 'contains(gives)': False, 'contains(given)': False, 'contains(looking)': False, 'contains(whole)': True, 'contains(watching)': False, 'contains(father)': False, 'contains(`)': False, 'contains(feel)': False, 'contains(everyone)': False, 'contains(music)': False, 'contains(wants)': False, 'contains(sex)': False, 'contains(less)': False, 'contains(done)': True, 'contains(horror)': False, 'contains(got)': False, 'contains(death)': False, 'contains(perhaps)': False, 'contains(city)': False, 'contains(next)': False, 'contains(especially)': False, 'contains(play)': False, 'contains(girl)': False, 'contains(mind)': False, 'contains(10)': False, 'contains(moments)': True, 'contains(looks)': False, 'contains(completely)': False, 'contains(2)': False, 'contains(reason)': False, 'contains(mother)': False, 'contains(whose)': False, 'contains(line)': True, 'contains(night)': False, 'contains(human)': False, 'contains(until)': False, 'contains(rest)': True, 'contains(performances)': False, 'contains(different)': True, 'contains(evil)': False, 'contains(small)': False, 'contains(james)': False, 'contains(simply)': True, 'contains(couple)': True, 'contains(put)': False, 'contains(let)': True, 'contains(anyone)': False, 'contains(ending)': False, 'contains(case)': False, 'contains(several)': False, 'contains(dead)': False, 'contains(michael)': False, 'contains(left)': False, 'contains(thought)': True, 'contains(school)': False, 'contains(shows)': True, 'contains(humor)': True, 'contains(true)': False, 'contains(lost)': False, 'contains(written)': False, 'contains(itself)': False, 'contains(friend)': False, 'contains(entire)': False, 'contains(getting)': True, 'contains(town)': False, 'contains(turns)': False, 'contains(soon)': False, 'contains(someone)': False, 'contains(second)': False, 'contains(main)': False, 'contains(stars)': False, 'contains(found)': False, 'contains(use)': False, 'contains(problem)': False, 'contains(friends)': False, 'contains(tv)': True, 'contains(top)': False, 'contains(name)': False, 'contains(begins)': False, 'contains(called)': False, 'contains(based)': True, 'contains(comic)': False, 'contains(david)': False, 'contains(head)': False, 'contains(else)': False, 'contains(idea)': False, 'contains(either)': True, 'contains(wrong)': True, 'contains(unfortunately)': False, 'contains(later)': False, 'contains(final)': False, 'contains(hand)': False, 'contains(alien)': False, 'contains(house)': False, 'contains(group)': False, 'contains(full)': False, 'contains(used)': False, 'contains(tries)': False, 'contains(often)': False, 'contains(against)': False, 'contains(war)': False, 'contains(sequence)': False, 'contains(keep)': False, 'contains(turn)': False, 'contains(playing)': False, 'contains(boy)': False, 'contains(behind)': False, 'contains(named)': False, 'contains(certainly)': False, 'contains(live)': False, 'contains(believe)': False, 'contains(under)': False, 'contains(works)': False, 'contains(relationship)': False, 'contains(face)': False, 'contains(hour)': False, 'contains(run)': False, 'contains(style)': True, 'contains(said)': True, 'contains(despite)': False, 'contains(person)': False, 'contains(finally)': False, 'contains(shot)': False, 'contains(book)': False, 'contains(doing)': False, 'contains(tell)': False, 'contains(maybe)': False, 'contains(nice)': False, 'contains(son)': False, 'contains(perfect)': False, 'contains(side)': True, 'contains(seeing)': True, 'contains(able)': False, 'contains(finds)': False, 'contains(children)': False, 'contains(days)': False, 'contains(past)': False, 'contains(summer)': False, 'contains(camera)': False, 'contains(won)': False, 'contains(including)': False, 'contains(mr)': True, 'contains(kids)': False, 'contains(lives)': False, 'contains(directed)': False, 'contains(moment)': False, 'contains(game)': False, 'contains(running)': False, 'contains(fight)': False, 'contains(supposed)': False, 'contains(video)': False, 'contains(car)': False, 'contains(matter)': False, 'contains(kevin)': False, 'contains(joe)': False, 'contains(lines)': False, 'contains(worth)': True, 'contains(=)': False, 'contains(daughter)': False, 'contains(earth)': False, 'contains(starts)': False, 'contains(need)': False, 'contains(entertaining)': False, 'contains(white)': False, 'contains(start)': False, 'contains(writer)': False, 'contains(dark)': False, 'contains(short)': False, 'contains(self)': False, 'contains(worst)': False, 'contains(nearly)': False, 'contains(opening)': False, 'contains(try)': False, 'contains(upon)': False, 'contains(care)': False, 'contains(early)': False, 'contains(violence)': False, 'contains(throughout)': False, 'contains(team)': False, 'contains(production)': False, 'contains(example)': False, 'contains(beautiful)': False, 'contains(title)': False, 'contains(exactly)': False, 'contains(jack)': False, 'contains(review)': False, 'contains(major)': False, 'contains(drama)': False, 'contains(&)': False, 'contains(problems)': False, 'contains(sequences)': False, 'contains(obvious)': False, 'contains(version)': False, 'contains(screenplay)': False, 'contains(known)': True, 'contains(killer)': False, 'contains(wasn)': True, 'contains(robert)': False, 'contains(disney)': False, 'contains(already)': False, 'contains(close)': True, 'contains(classic)': False, 'contains(others)': False, 'contains(hit)': False, 'contains(kill)': False, 'contains(deep)': False, 'contains(five)': False, 'contains(order)': False, 'contains(act)': True, 'contains(simple)': False, 'contains(fine)': False, 'contains(themselves)': False, 'contains(heart)': False, 'contains(roles)': False, 'contains(jackie)': False, 'contains(direction)': False, 'contains(eyes)': False, 'contains(four)': False, 'contains(question)': False, 'contains(sort)': False, 'contains(sometimes)': False, 'contains(knows)': False, 'contains(supporting)': False, 'contains(coming)': True, 'contains(voice)': False, 'contains(women)': False, 'contains(truly)': True, 'contains(save)': True, 'contains(jokes)': False, 'contains(computer)': False, 'contains(child)': False, 'contains(o)': False, 'contains(boring)': False, 'contains(tom)': False, 'contains(level)': False, 'contains(1)': False, 'contains(body)': False, 'contains(guys)': False, 'contains(genre)': False, 'contains(brother)': False, 'contains(strong)': False, 'contains(stop)': False, 'contains(room)': False, 'contains(space)': False, 'contains(lee)': False, 'contains(ends)': False, 'contains(beginning)': False, 'contains(ship)': False, 'contains(york)': False, 'contains(attempt)': False, 'contains(thriller)': False, 'contains(scream)': False, 'contains(peter)': False, 'contains(aren)': False, 'contains(husband)': False, 'contains(fiction)': False, 'contains(happens)': False, 'contains(hero)': False, 'contains(novel)': False, 'contains(note)': False, 'contains(hope)': False, 'contains(king)': False, 'contains(yes)': False, 'contains(says)': False, 'contains(tells)': False, 'contains(quickly)': False, 'contains(romantic)': False, 'contains(dog)': False, 'contains(oscar)': False, 'contains(stupid)': True, 'contains(possible)': False, 'contains(saw)': False, 'contains(lead)': False, 'contains(career)': False, 'contains(murder)': False, 'contains(extremely)': False, 'contains(manages)': False, 'contains(god)': False, 'contains(mostly)': False, 'contains(wonder)': False, 'contains(particularly)': False, 'contains(future)': False, 'contains(fans)': False, 'contains(sound)': False, 'contains(worse)': False, 'contains(piece)': False, 'contains(involving)': False, 'contains(de)': False, 'contains(appears)': False, 'contains(planet)': False, 'contains(paul)': False, 'contains(involved)': False, 'contains(mean)': False, 'contains(none)': False, 'contains(taking)': False, 'contains(hours)': False, 'contains(laugh)': False, 'contains(police)': False, 'contains(sets)': False, 'contains(attention)': False, 'contains(co)': False, 'contains(hell)': False, 'contains(eventually)': False, 'contains(single)': False, 'contains(fall)': False, 'contains(falls)': False, 'contains(material)': False, 'contains(emotional)': False, 'contains(power)': False, 'contains(late)': False, 'contains(lack)': False, 'contains(dr)': False, 'contains(van)': False, 'contains(result)': False, 'contains(elements)': False, 'contains(meet)': False, 'contains(smith)': False, 'contains(science)': False, 'contains(experience)': False, 'contains(bring)': False, 'contains(wild)': False, 'contains(living)': False, 'contains(theater)': False, 'contains(interest)': False, 'contains(leads)': False, 'contains(word)': False, 'contains(feature)': False, 'contains(battle)': False, 'contains(girls)': False, 'contains(alone)': False, 'contains(obviously)': False, 'contains(george)': False, 'contains(within)': False, 'contains(usually)': True, 'contains(enjoy)': True, 'contains(guess)': False, 'contains(among)': False, 'contains(taken)': False, 'contains(feeling)': False, 'contains(laughs)': False, 'contains(aliens)': False, 'contains(talk)': False, 'contains(chance)': False, 'contains(talent)': False, 'contains(3)': False, 'contains(middle)': False, 'contains(number)': False, 'contains(easy)': False, 'contains(across)': False, 'contains(needs)': False, 'contains(attempts)': False, 'contains(happen)': False, 'contains(television)': False, 'contains(chris)': False, 'contains(deal)': False, 'contains(poor)': True, 'contains(form)': True, 'contains(girlfriend)': False, 'contains(viewer)': False, 'contains(release)': False, 'contains(killed)': False, 'contains(forced)': False, 'contains(whether)': False, 'contains(wonderful)': False, 'contains(feels)': False, 'contains(oh)': False, 'contains(tale)': False, 'contains(serious)': False, 'contains(expect)': False, 'contains(except)': False, 'contains(light)': False, 'contains(success)': False, 'contains(features)': False, 'contains(premise)': True, 'contains(happy)': False, 'contains(words)': True, 'contains(leave)': False, 'contains(important)': False, 'contains(meets)': False, 'contains(history)': False, 'contains(giving)': False, 'contains(crew)': False, 'contains(type)': False, 'contains(call)': False, 'contains(turned)': False, 'contains(released)': False, 'contains(parents)': False, 'contains(art)': False, 'contains(impressive)': False, 'contains(mission)': False, 'contains(working)': False, 'contains(seemed)': True, 'contains(score)': False, 'contains(told)': False, 'contains(recent)': False, 'contains(robin)': False, 'contains(basically)': False, 'contains(entertainment)': False, 'contains(america)': True, 'contains($)': False, 'contains(surprise)': False, 'contains(apparently)': False, 'contains(easily)': False, 'contains(ryan)': False, 'contains(cool)': False, 'contains(stuff)': False, 'contains(cop)': False, 'contains(change)': False, 'contains(williams)': False, 'contains(crime)': False, 'contains(office)': False, 'contains(parts)': False, 'contains(somehow)': False, 'contains(sequel)': False, 'contains(william)': False, 'contains(cut)': False, 'contains(die)': False, 'contains(jones)': False, 'contains(credits)': False, 'contains(batman)': False, 'contains(suspense)': False, 'contains(brings)': False, 'contains(events)': False, 'contains(reality)': False, 'contains(whom)': False, 'contains(local)': False, 'contains(talking)': False, 'contains(difficult)': False, 'contains(using)': False, 'contains(went)': True, 'contains(writing)': False, 'contains(remember)': False, 'contains(near)': False, 'contains(straight)': False, 'contains(hilarious)': False, 'contains(ago)': False, 'contains(certain)': False, 'contains(ben)': False, 'contains(kid)': False, 'contains(wouldn)': False, 'contains(slow)': False, 'contains(blood)': False, 'contains(mystery)': False, 'contains(complete)': False, 'contains(red)': False, 'contains(popular)': False, 'contains(effective)': False, 'contains(am)': True, 'contains(fast)': False, 'contains(flick)': True, 'contains(due)': False, 'contains(runs)': False, 'contains(gone)': True, 'contains(return)': False, 'contains(presence)': False, 'contains(quality)': False, 'contains(dramatic)': False, 'contains(filmmakers)': False, 'contains(age)': False, 'contains(brothers)': False, 'contains(business)': False, 'contains(general)': False, 'contains(rock)': False, 'contains(sexual)': False, 'contains(present)': False, 'contains(surprisingly)': False, 'contains(anyway)': False, 'contains(uses)': False, 'contains(4)': False, 'contains(personal)': False, 'contains(figure)': False, 'contains(smart)': False, 'contains(ways)': False, 'contains(decides)': False, 'contains(annoying)': False, 'contains(begin)': False, 'contains(couldn)': False, 'contains(somewhat)': False, 'contains(shots)': False, 'contains(rich)': False, 'contains(minute)': False, 'contains(law)': False, 'contains(previous)': False, 'contains(jim)': False, 'contains(successful)': False, 'contains(harry)': False, 'contains(water)': False, 'contains(similar)': False, 'contains(absolutely)': False, 'contains(motion)': False, 'contains(former)': False, 'contains(strange)': False, 'contains(came)': False, 'contains(follow)': False, 'contains(read)': False, 'contains(project)': False, 'contains(million)': False, 'contains(secret)': False, 'contains(starring)': False, 'contains(clear)': False, 'contains(familiar)': False, 'contains(romance)': False, 'contains(intelligent)': False, 'contains(third)': False, 'contains(excellent)': False, 'contains(amazing)': False, 'contains(party)': False, 'contains(budget)': False, 'contains(eye)': False, 'contains(actress)': False, 'contains(prison)': False, 'contains(latest)': False, 'contains(means)': False, 'contains(company)': False, 'contains(towards)': False, 'contains(predictable)': False, 'contains(powerful)': False, 'contains(nor)': False, 'contains(bob)': False, 'contains(beyond)': False, 'contains(visual)': False, 'contains(leaves)': False, 'contains(r)': False, 'contains(nature)': False, 'contains(following)': False, 'contains(villain)': False, 'contains(leaving)': False, 'contains(animated)': False, 'contains(low)': False, 'contains(myself)': False, 'contains(b)': False, 'contains(bill)': False, 'contains(sam)': False, 'contains(filled)': False, 'contains(wars)': False, 'contains(questions)': False, 'contains(cinema)': False, 'contains(message)': False, 'contains(box)': False, 'contains(moving)': False, 'contains(herself)': False, 'contains(country)': False, 'contains(usual)': False, 'contains(martin)': False, 'contains(definitely)': False, 'contains(add)': False, 'contains(large)': False, 'contains(clever)': False, 'contains(create)': False, 'contains(felt)': False, 'contains(stories)': False, 'contains(brilliant)': False, 'contains(ones)': False, 'contains(giant)': False, 'contains(situation)': False, 'contains(murphy)': False, 'contains(break)': False, 'contains(opens)': False, 'contains(scary)': False, 'contains(doubt)': False, 'contains(drug)': False, 'contains(bunch)': False, 'contains(thinking)': False, 'contains(solid)': False, 'contains(effect)': True, 'contains(learn)': False, 'contains(move)': False, 'contains(force)': False, 'contains(potential)': False, 'contains(seriously)': True, 'contains(follows)': False, 'contains(above)': False, 'contains(saying)': False, 'contains(huge)': False, 'contains(class)': False, 'contains(plan)': False, 'contains(agent)': False, 'contains(created)': False, 'contains(unlike)': True, 'contains(pay)': False, 'contains(non)': False, 'contains(married)': False, 'contains(mark)': False, 'contains(sweet)': False, 'contains(perfectly)': False, 'contains(ex)': False, 'contains(realize)': False, 'contains(audiences)': False, 'contains(took)': False, 'contains(decent)': False, 'contains(likely)': False, 'contains(dream)': False, 'contains(view)': False, 'contains(scott)': False, 'contains(subject)': False, 'contains(understand)': False, 'contains(happened)': False, 'contains(enjoyable)': False, 'contains(studio)': False, 'contains(immediately)': False, 'contains(open)': False, 'contains(e)': False, 'contains(points)': False, 'contains(heard)': False, 'contains(viewers)': False, 'contains(cameron)': False, 'contains(truman)': False, 'contains(bruce)': False, 'contains(frank)': False, 'contains(private)': False, 'contains(stay)': True, 'contains(fails)': True, 'contains(impossible)': False, 'contains(cold)': False, 'contains(richard)': False, 'contains(overall)': True, 'contains(merely)': False, 'contains(exciting)': False, 'contains(mess)': False, 'contains(chase)': False, 'contains(free)': False, 'contains(ten)': False, 'contains(neither)': False, 'contains(wanted)': False, 'contains(gun)': False, 'contains(appear)': False, 'contains(carter)': False, 'contains(escape)': False, 'contains(ultimately)': False, 'contains(+)': False, 'contains(fan)': False, 'contains(inside)': False, 'contains(favorite)': False, 'contains(haven)': False, 'contains(modern)': False, 'contains(l)': False, 'contains(wedding)': False, 'contains(stone)': False, 'contains(trek)': True, 'contains(brought)': False, 'contains(trouble)': False, 'contains(otherwise)': False, 'contains(tim)': False, 'contains(5)': False, 'contains(allen)': False, 'contains(bond)': False, 'contains(society)': False, 'contains(liked)': True, 'contains(dumb)': False, 'contains(musical)': False, 'contains(stand)': False, 'contains(political)': False, 'contains(various)': False, 'contains(talented)': False, 'contains(particular)': False, 'contains(west)': False, 'contains(state)': True, 'contains(keeps)': False, 'contains(english)': False, 'contains(silly)': False, 'contains(u)': False, 'contains(situations)': False, 'contains(park)': False, 'contains(teen)': False, 'contains(rating)': False, 'contains(slightly)': False, 'contains(steve)': False, 'contains(truth)': False, 'contains(air)': False, 'contains(element)': False, 'contains(joke)': False, 'contains(spend)': False, 'contains(key)': False, 'contains(biggest)': False, 'contains(members)': False, 'contains(effort)': False, 'contains(government)': False, 'contains(focus)': False, 'contains(eddie)': False, 'contains(soundtrack)': False, 'contains(hands)': False, 'contains(earlier)': False, 'contains(chan)': False, 'contains(purpose)': False, 'contains(today)': False, 'contains(showing)': False, 'contains(memorable)': False, 'contains(six)': False, 'contains(cannot)': False, 'contains(max)': False, 'contains(offers)': False, 'contains(rated)': False, 'contains(mars)': False, 'contains(heavy)': False, 'contains(totally)': False, 'contains(control)': False, 'contains(credit)': False, 'contains(fi)': False, 'contains(woody)': False, 'contains(ideas)': False, 'contains(sci)': False, 'contains(wait)': False, 'contains(sit)': False, 'contains(female)': False, 'contains(ask)': False, 'contains(waste)': False, 'contains(terrible)': False, 'contains(depth)': False, 'contains(simon)': False, 'contains(aspect)': False, 'contains(list)': False, 'contains(mary)': False, 'contains(sister)': False, 'contains(animation)': False, 'contains(entirely)': False, 'contains(fear)': False, 'contains(steven)': False, 'contains(moves)': False, 'contains(actual)': False, 'contains(army)': False, 'contains(british)': False, 'contains(constantly)': False, 'contains(fire)': False, 'contains(convincing)': False, 'contains(setting)': False, 'contains(gave)': False, 'contains(tension)': False, 'contains(street)': False, 'contains(8)': False, 'contains(brief)': False, 'contains(ridiculous)': False, 'contains(cinematography)': False, 'contains(typical)': False, 'contains(nick)': False, 'contains(screenwriter)': False, 'contains(ability)': False, 'contains(spent)': False, 'contains(quick)': False, 'contains(violent)': False, 'contains(atmosphere)': False, 'contains(subtle)': False, 'contains(expected)': False, 'contains(fairly)': True, 'contains(seven)': False, 'contains(killing)': False, 'contains(tone)': False, 'contains(master)': False, 'contains(disaster)': False, 'contains(lots)': False, 'contains(thinks)': False, 'contains(song)': False, 'contains(cheap)': False, 'contains(suddenly)': False, 'contains(background)': False, 'contains(club)': False, 'contains(willis)': False, 'contains(whatever)': False, 'contains(highly)': False, 'contains(sees)': False, 'contains(complex)': False, 'contains(greatest)': False, 'contains(impact)': False, 'contains(beauty)': False, 'contains(front)': False, 'contains(humans)': False, 'contains(indeed)': False, 'contains(flat)': False, 'contains(grace)': False, 'contains(wrote)': False, 'contains(amusing)': False, 'contains(ii)': False, 'contains(mike)': False, 'contains(further)': False, 'contains(cute)': False, 'contains(dull)': False, 'contains(minor)': False, 'contains(recently)': False, 'contains(hate)': False, 'contains(outside)': False, 'contains(plenty)': False, 'contains(wish)': False, 'contains(godzilla)': False, 'contains(college)': False, 'contains(titanic)': False, 'contains(sounds)': False, 'contains(telling)': False, 'contains(sight)': False, 'contains(double)': False, 'contains(cinematic)': False, 'contains(queen)': False, 'contains(hold)': False, 'contains(meanwhile)': False, 'contains(awful)': False, 'contains(clearly)': False, 'contains(theme)': False, 'contains(hear)': False, 'contains(x)': False, 'contains(amount)': False, 'contains(baby)': False, 'contains(approach)': False, 'contains(dreams)': False, 'contains(shown)': False, 'contains(island)': False, 'contains(reasons)': False, 'contains(charm)': False, 'contains(miss)': False, 'contains(longer)': False, 'contains(common)': False, 'contains(sean)': False, 'contains(carry)': False, 'contains(believable)': False, 'contains(realistic)': False, 'contains(chemistry)': False, 'contains(possibly)': False, 'contains(casting)': True, 'contains(carrey)': False, 'contains(french)': False, 'contains(trailer)': False, 'contains(tough)': False, 'contains(produced)': False, 'contains(imagine)': False, 'contains(choice)': False, 'contains(ride)': True, 'contains(somewhere)': False, 'contains(hot)': False, 'contains(race)': False, 'contains(road)': False, 'contains(leader)': False, 'contains(thin)': False, 'contains(jerry)': False, 'contains(slowly)': False, 'contains(delivers)': False, 'contains(detective)': False, 'contains(brown)': False, 'contains(jackson)': False, 'contains(member)': False, 'contains(provide)': False, 'contains(president)': False, 'contains(puts)': False, 'contains(asks)': False, 'contains(critics)': False, 'contains(appearance)': False, 'contains(famous)': False, 'contains(okay)': False, 'contains(intelligence)': False, 'contains(energy)': False, 'contains(sent)': True, 'contains(spielberg)': False, 'contains(development)': False, 'contains(etc)': False, 'contains(language)': False, 'contains(blue)': False, 'contains(proves)': False, 'contains(vampire)': False, 'contains(seemingly)': False, 'contains(basic)': False, 'contains(caught)': False, 'contains(decide)': False, 'contains(opportunity)': False, 'contains(incredibly)': False, 'contains(images)': False, 'contains(band)': False, 'contains(j)': False, 'contains(writers)': False, 'contains(knew)': False, 'contains(interested)': False, 'contains(considering)': False, 'contains(boys)': False, 'contains(thanks)': False, 'contains(remains)': False, 'contains(climax)': False, 'contains(event)': False, 'contains(directing)': False, 'contains(conclusion)': False, 'contains(leading)': False, 'contains(ground)': False, 'contains(lies)': False, 'contains(forget)': False, 'contains(alive)': False, 'contains(tarzan)': False, 'contains(century)': False, 'contains(provides)': False, 'contains(trip)': True, 'contains(partner)': False, 'contains(central)': False, 'contains(tarantino)': False, 'contains(period)': False, 'contains(pace)': False, 'contains(yourself)': False, 'contains(worked)': False, 'contains(ready)': False, 'contains(date)': False, 'contains(thus)': False, 'contains(1998)': False, 'contains(terrific)': False, 'contains(write)': False, 'contains(average)': False, 'contains(onto)': False, 'contains(songs)': False, 'contains(occasionally)': False, 'contains(doctor)': False, 'contains(stands)': False, 'contains(hardly)': False, 'contains(monster)': False, 'contains(led)': False, 'contains(mysterious)': False, 'contains(details)': False, 'contains(wasted)': False, 'contains(apart)': False, 'contains(aside)': False, 'contains(store)': False, 'contains(billy)': False, 'contains(boss)': False, 'contains(travolta)': False, 'contains(producer)': False, 'contains(pull)': False, 'contains(consider)': False, 'contains(pictures)': False, 'contains(becoming)': False, 'contains(cage)': False, 'contains(loud)': False, 'contains(looked)': False, 'contains(officer)': False, 'contains(twenty)': False, 'contains(system)': False, 'contains(contains)': False, 'contains(julia)': False, 'contains(subplot)': False, 'contains(missing)': False, 'contains(personality)': False, 'contains(building)': False, 'contains(learns)': False, 'contains(hong)': False, 'contains(la)': True, 'contains(apartment)': False, 'contains(7)': False, 'contains(bizarre)': False, 'contains(powers)': False, 'contains(flaws)': False, 'contains(catch)': False, 'contains(lawyer)': False, 'contains(shoot)': False, 'contains(student)': False, 'contains(unique)': False, 'contains(000)': False, 'contains(admit)': False, 'contains(concept)': False, 'contains(needed)': False, 'contains(thrown)': False, 'contains(christopher)': False, 'contains(laughing)': True, 'contains(green)': False, 'contains(twists)': False, 'contains(matthew)': False, 'contains(touch)': False, 'contains(waiting)': False, 'contains(victim)': False, 'contains(cover)': False, 'contains(machine)': False, 'contains(danny)': False, 'contains(mention)': False, 'contains(search)': False, 'contains(1997)': False, 'contains(win)': False, 'contains(door)': False, 'contains(manner)': True, 'contains(train)': False, 'contains(saving)': False, 'contains(share)': False, 'contains(image)': False, 'contains(discovers)': False, 'contains(normal)': False, 'contains(cross)': False, 'contains(fox)': False, 'contains(returns)': False, 'contains(adult)': False, 'contains(adds)': False, 'contains(answer)': False, 'contains(adventure)': False, 'contains(lame)': False, 'contains(male)': False, 'contains(odd)': True, 'contains(singer)': False, 'contains(deserves)': False, 'contains(gore)': False, 'contains(states)': False, 'contains(include)': False, 'contains(equally)': False, 'contains(months)': False, 'contains(barely)': False, 'contains(directors)': False, 'contains(introduced)': False, 'contains(fashion)': False, 'contains(social)': False, 'contains(1999)': False, 'contains(news)': False, 'contains(hair)': False, 'contains(dance)': False, 'contains(innocent)': False, 'contains(camp)': False, 'contains(teacher)': False, 'contains(became)': False, 'contains(sad)': False, 'contains(witch)': False, 'contains(includes)': False, 'contains(nights)': False, 'contains(jason)': False, 'contains(julie)': False, 'contains(latter)': False, 'contains(food)': False, 'contains(jennifer)': False, 'contains(land)': False, 'contains(menace)': False, 'contains(rate)': False, 'contains(storyline)': False, 'contains(contact)': False, 'contains(jean)': False, 'contains(elizabeth)': False, 'contains(fellow)': False, 'contains(changes)': False, 'contains(henry)': False, 'contains(hill)': False, 'contains(pulp)': False, 'contains(gay)': False, 'contains(tried)': False, 'contains(surprised)': False, 'contains(literally)': False, 'contains(walk)': False, 'contains(standard)': False, 'contains(90)': False, 'contains(forward)': False, 'contains(wise)': False, 'contains(enjoyed)': False, 'contains(discover)': False, 'contains(pop)': False, 'contains(anderson)': False, 'contains(offer)': False, 'contains(recommend)': True, 'contains(public)': False, 'contains(drive)': False, 'contains(c)': False, 'contains(toy)': False, 'contains(charming)': False, 'contains(fair)': False, 'contains(chinese)': False, 'contains(rescue)': False, 'contains(terms)': False, 'contains(mouth)': False, 'contains(lucas)': False, 'contains(accident)': False, 'contains(dies)': False, 'contains(decided)': False, 'contains(edge)': False, 'contains(footage)': False, 'contains(culture)': False, 'contains(weak)': False, 'contains(presented)': False, 'contains(blade)': False, 'contains(younger)': False, 'contains(douglas)': False, 'contains(natural)': False, 'contains(born)': False, 'contains(generally)': False, 'contains(teenage)': False, 'contains(older)': False, 'contains(horrible)': False, 'contains(addition)': False, 'contains(sadly)': False, 'contains(creates)': False, 'contains(disturbing)': False, 'contains(roger)': False, 'contains(detail)': False, 'contains(devil)': False, 'contains(debut)': False, 'contains(track)': False, 'contains(developed)': False, 'contains(week)': False, 'contains(russell)': False, 'contains(attack)': False, 'contains(explain)': False, 'contains(rarely)': False, 'contains(fully)': False, 'contains(prove)': False, 'contains(exception)': False, 'contains(jeff)': False, 'contains(twist)': False, 'contains(gang)': False, 'contains(winning)': False, 'contains(jr)': False, 'contains(species)': False, 'contains(issues)': False, 'contains(fresh)': False, 'contains(rules)': False, 'contains(meaning)': False, 'contains(inspired)': False, 'contains(heroes)': False, 'contains(desperate)': False, 'contains(fighting)': False, 'contains(filmed)': False, 'contains(faces)': False, 'contains(alan)': False, 'contains(bright)': False, 'contains(ass)': False, 'contains(flying)': False, 'contains(kong)': False, 'contains(rush)': False, 'contains(forces)': False, 'contains(charles)': False, 'contains(numerous)': False, 'contains(emotions)': False, 'contains(involves)': False, 'contains(patrick)': False, 'contains(weird)': False, 'contains(apparent)': False, 'contains(information)': False, 'contains(revenge)': False, 'contains(jay)': False, 'contains(toward)': False, 'contains(surprising)': False, 'contains(twice)': False, 'contains(editing)': False, 'contains(calls)': False, 'contains(lose)': False, 'contains(vegas)': False, 'contains(stage)': False, 'contains(intended)': False, 'contains(gags)': False, 'contains(opinion)': False, 'contains(likes)': False, 'contains(crazy)': False, 'contains(owner)': False, 'contains(places)': False, 'contains(pair)': False, 'contains(genuine)': False, 'contains(epic)': False, 'contains(speak)': False, 'contains(throw)': False, 'contains(appeal)': False, 'contains(gibson)': False, 'contains(captain)': False, 'contains(military)': False, 'contains(20)': False, 'contains(blair)': False, 'contains(nowhere)': False, 'contains(length)': False, 'contains(nicely)': False, 'contains(cause)': False, 'contains(pass)': False, 'contains(episode)': False, 'contains(kiss)': False, 'contains(arnold)': False, 'contains(please)': False, 'contains(hasn)': False, 'contains(phone)': False, 'contains(filmmaking)': False, 'contains(formula)': False, 'contains(boyfriend)': False, 'contains(talents)': False, 'contains(creating)': False, 'contains(kelly)': False, 'contains(buy)': False, 'contains(wide)': False, 'contains(fantasy)': False, 'contains(mood)': False, 'contains(heads)': False, 'contains(pathetic)': False, 'contains(lacks)': False, 'contains(loved)': False, 'contains(asked)': False, 'contains(mrs)': False, 'contains(witty)': False, 'contains(shakespeare)': False, 'contains(mulan)': False, 'contains(generation)': False, 'contains(affair)': False, 'contains(pieces)': False, 'contains(task)': False, 'contains(rare)': False, 'contains(kept)': False, 'contains(cameo)': False, 'contains(fascinating)': False, 'contains(ed)': False, 'contains(fbi)': False, 'contains(burton)': False, 'contains(incredible)': False, 'contains(accent)': False, 'contains(artist)': False, 'contains(superior)': False, 'contains(academy)': False, 'contains(thomas)': False, 'contains(spirit)': False, 'contains(technical)': False, 'contains(confusing)': False, 'contains(poorly)': False, 'contains(target)': True, 'contains(lover)': False, 'contains(woo)': False, 'contains(mentioned)': False, 'contains(theaters)': False, 'contains(plane)': False, 'contains(confused)': False, 'contains(dennis)': False, 'contains(rob)': False, 'contains(appropriate)': False, 'contains(christmas)': False, 'contains(considered)': False, 'contains(legend)': False, 'contains(shame)': False, 'contains(soul)': False, 'contains(matt)': False, 'contains(campbell)': False, 'contains(process)': False, 'contains(bottom)': False, 'contains(sitting)': False, 'contains(brain)': False, 'contains(creepy)': False, 'contains(13)': False, 'contains(forever)': False, 'contains(dude)': False, 'contains(crap)': False, 'contains(superb)': False, 'contains(speech)': False, 'contains(ice)': False, 'contains(journey)': False, 'contains(masterpiece)': True, 'contains(intriguing)': False, 'contains(names)': False, 'contains(pick)': False, 'contains(speaking)': False, 'contains(virtually)': False, 'contains(award)': False, 'contains(worthy)': False, 'contains(marriage)': False, 'contains(deliver)': False, 'contains(cash)': False, 'contains(magic)': False, 'contains(respect)': False, 'contains(product)': False, 'contains(necessary)': False, 'contains(suppose)': False, 'contains(silent)': False, 'contains(pointless)': True, 'contains(station)': False, 'contains(affleck)': False, 'contains(dimensional)': False, 'contains(charlie)': False, 'contains(allows)': False, 'contains(avoid)': False, 'contains(meant)': False, 'contains(cops)': False, 'contains(attitude)': False, 'contains(relationships)': False, 'contains(hits)': False, 'contains(stephen)': False, 'contains(spends)': False, 'contains(relief)': False, 'contains(physical)': False, 'contains(count)': False, 'contains(reviews)': False, 'contains(appreciate)': False, 'contains(cliches)': False, 'contains(holds)': False, 'contains(pure)': False, 'contains(plans)': False, 'contains(limited)': False, 'contains(failed)': False, 'contains(pain)': False, 'contains(impression)': False, 'contains(unless)': False, 'contains(sub)': False, 'contains([)': False, 'contains(total)': False, 'contains(creature)': False, 'contains(viewing)': False, 'contains(loves)': False, 'contains(princess)': False, 'contains(kate)': False, 'contains(rising)': False, 'contains(woods)': False, 'contains(baldwin)': False, 'contains(angry)': False, 'contains(drawn)': False, 'contains(step)': False, 'contains(matrix)': False, 'contains(themes)': False, 'contains(satire)': False, 'contains(arts)': False, 'contains(])': False, 'contains(remake)': False, 'contains(wall)': False, 'contains(moral)': False, 'contains(color)': False, 'contains(ray)': False, 'contains(stuck)': False, 'contains(touching)': False, 'contains(wit)': False, 'contains(tony)': False, 'contains(hanks)': False, 'contains(continues)': False, 'contains(damn)': False, 'contains(nobody)': False, 'contains(cartoon)': False, 'contains(keeping)': False, 'contains(realized)': False, 'contains(criminal)': False, 'contains(unfunny)': False, 'contains(comedic)': False, 'contains(martial)': False, 'contains(disappointing)': False, 'contains(anti)': False, 'contains(graphic)': False, 'contains(stunning)': False, 'contains(actions)': False, 'contains(floor)': False, 'contains(emotion)': False, 'contains(soldiers)': False, 'contains(edward)': False, 'contains(comedies)': False, 'contains(driver)': False, 'contains(expectations)': False, 'contains(added)': True, 'contains(mad)': False, 'contains(angels)': False, 'contains(shallow)': False, 'contains(suspect)': False, 'contains(humorous)': False, 'contains(phantom)': False, 'contains(appealing)': False, 'contains(device)': False, 'contains(design)': False, 'contains(industry)': False, 'contains(reach)': False, 'contains(fat)': False, 'contains(blame)': False, 'contains(united)': False, 'contains(sign)': False, 'contains(portrayal)': False, 'contains(rocky)': False, 'contains(finale)': False, 'contains(grand)': False, 'contains(opposite)': True, 'contains(hotel)': False, 'contains(match)': False, 'contains(damme)': False, 'contains(speed)': False, 'contains(ok)': False, 'contains(loving)': False, 'contains(field)': False, 'contains(larry)': False, 'contains(urban)': False, 'contains(troopers)': False, 'contains(compared)': False, 'contains(apes)': False, 'contains(rose)': False, 'contains(falling)': False, 'contains(era)': False, 'contains(loses)': False, 'contains(adults)': False, 'contains(managed)': False, 'contains(dad)': False, 'contains(therefore)': False, 'contains(pg)': False, 'contains(results)': True, 'contains(guns)': False, 'contains(radio)': False, 'contains(lady)': False, 'contains(manage)': False, 'contains(spice)': False, 'contains(naked)': False, 'contains(started)': False, 'contains(intense)': False, 'contains(humanity)': False, 'contains(wonderfully)': False, 'contains(slasher)': False, 'contains(bland)': False, 'contains(imagination)': False, 'contains(walking)': False, 'contains(willing)': False, 'contains(horse)': False, 'contains(rent)': False, 'contains(mix)': False, 'contains(generated)': False, 'contains(g)': False, 'contains(utterly)': False, 'contains(scientist)': False, 'contains(washington)': False, 'contains(notice)': False, 'contains(players)': False, 'contains(teenagers)': False, 'contains(moore)': False, 'contains(board)': False, 'contains(price)': False, 'contains(frightening)': False, 'contains(tommy)': False, 'contains(spectacular)': False, 'contains(bored)': False, 'contains(jane)': False, 'contains(join)': False, 'contains(producers)': True, 'contains(johnny)': False, 'contains(zero)': False, 'contains(vampires)': False, 'contains(adaptation)': False, 'contains(dollars)': False, 'contains(parody)': False, 'contains(documentary)': False, 'contains(dvd)': False, 'contains(wayne)': False, 'contains(post)': False, 'contains(exist)': False, 'contains(matters)': False, 'contains(chosen)': False, 'contains(mel)': False, 'contains(attractive)': False, 'contains(plain)': False, 'contains(trust)': False, 'contains(safe)': True, 'contains(reading)': False, 'contains(hoping)': False, 'contains(protagonist)': False, 'contains(feelings)': False, 'contains(fate)': False, 'contains(finding)': False, 'contains(feet)': False, 'contains(visuals)': False, 'contains(spawn)': False, 'contains(compelling)': False, 'contains(hall)': False, 'contains(sympathetic)': False, 'contains(featuring)': False, 'contains(difference)': False, 'contains(professional)': False, 'contains(drugs)': False, 'contains(ford)': False, 'contains(shooting)': False, 'contains(gold)': False, 'contains(patch)': False, 'contains(build)': False, 'contains(boat)': True, 'contains(cruise)': False, 'contains(honest)': False, 'contains(media)': False, 'contains(flicks)': False, 'contains(bug)': False, 'contains(bringing)': False, 'contains(dangerous)': False, 'contains(watched)': False, 'contains(grant)': False, 'contains(smile)': False, 'contains(plus)': False, 'contains(shouldn)': False, 'contains(decision)': False, 'contains(visually)': False, 'contains(allow)': False, 'contains(starship)': False, 'contains(roberts)': False, 'contains(dying)': False, 'contains(portrayed)': False, 'contains(turning)': False, 'contains(believes)': False, 'contains(changed)': False, 'contains(shock)': False, 'contains(destroy)': False, 'contains(30)': False, 'contains(crowd)': False, 'contains(broken)': False, 'contains(tired)': False, 'contains(fail)': False, 'contains(south)': False, 'contains(died)': False, 'contains(cult)': False, 'contains(fake)': False, 'contains(vincent)': False, 'contains(identity)': False, 'contains(sexy)': False, 'contains(hunt)': False, 'contains(jedi)': False, 'contains(flynt)': False, 'contains(alex)': False, 'contains(engaging)': False, 'contains(serve)': False, 'contains(snake)': False, 'contains(yeah)': False, 'contains(expecting)': True, 'contains(100)': False, 'contains(decade)': False, 'contains(ups)': False, 'contains(constant)': False, 'contains(current)': False, 'contains(survive)': False, 'contains(jimmy)': False, 'contains(buddy)': False, 'contains(send)': False, 'contains(brooks)': False, 'contains(goofy)': False, 'contains(likable)': False, 'contains(humour)': False, 'contains(technology)': False, 'contains(files)': False, 'contains(babe)': False, 'contains(aspects)': False, 'contains(presents)': False, 'contains(kills)': False, 'contains(supposedly)': False, 'contains(eight)': False, 'contains(sandler)': False, 'contains(hospital)': False, 'contains(test)': False, 'contains(hidden)': False, 'contains(brian)': False, 'contains(books)': False, 'contains(promise)': False, 'contains(determined)': False, 'contains(professor)': False, 'contains(welcome)': False, 'contains(pleasure)': False, 'contains(succeeds)': False, 'contains(individual)': False, 'contains(annie)': False, 'contains(mob)': False, 'contains(ted)': False, 'contains(virus)': False, 'contains(content)': False, 'contains(gary)': False, 'contains(direct)': False, 'contains(contrived)': False, 'contains(carpenter)': False, 'contains(scale)': False, 'contains(sick)': False, 'contains(nasty)': False, 'contains(conflict)': False, 'contains(haunting)': False, 'contains(ghost)': False, 'contains(filmmaker)': False, 'contains(japanese)': False, 'contains(helps)': False, 'contains(fare)': False, 'contains(lucky)': False, 'contains(ultimate)': False, 'contains(window)': False, 'contains(support)': False, 'contains(goal)': True, 'contains(provided)': False, 'contains(genius)': False, 'contains(winner)': False, 'contains(taylor)': False, 'contains(fantastic)': False, 'contains(faith)': False, 'contains(lynch)': False, 'contains(fit)': False, 'contains(catherine)': False, 'contains(ms)': False, 'contains(paced)': False, 'contains(breaks)': False, 'contains(al)': False, 'contains(frame)': False, 'contains(travel)': False, 'contains(badly)': False, 'contains(available)': False, 'contains(cares)': False, 'contains(reeves)': False, 'contains(crash)': False, 'contains(driving)': False, 'contains(press)': False, 'contains(seagal)': False, 'contains(amy)': False, 'contains(9)': False, 'contains(headed)': False, 'contains(instance)': False, 'contains(excuse)': False, 'contains(offensive)': False, 'contains(narrative)': False, 'contains(fault)': False, 'contains(bus)': False, 'contains(f)': False, 'contains(extreme)': False, 'contains(miller)': False, 'contains(guilty)': False, 'contains(grows)': False, 'contains(overly)': False, 'contains(liners)': False, 'contains(forgotten)': False, 'contains(ahead)': False, 'contains(accept)': False, 'contains(porn)': False, 'contains(directly)': False, 'contains(helen)': False, 'contains(began)': False, 'contains(lord)': False, 'contains(folks)': False, 'contains(mediocre)': False, 'contains(bar)': False, 'contains(surface)': False, 'contains(super)': False, 'contains(failure)': False, 'contains(6)': False, 'contains(acted)': False, 'contains(quiet)': False, 'contains(laughable)': False, 'contains(sheer)': False, 'contains(security)': True, 'contains(emotionally)': False, 'contains(season)': False, 'contains(stuart)': False, 'contains(jail)': False, 'contains(deals)': False, 'contains(cheesy)': False, 'contains(court)': False, 'contains(beach)': False, 'contains(austin)': False, 'contains(model)': False, 'contains(outstanding)': False, 'contains(substance)': False, 'contains(nudity)': False, 'contains(slapstick)': True, 'contains(joan)': False, 'contains(reveal)': False, 'contains(placed)': False, 'contains(check)': False, 'contains(beast)': False, 'contains(hurt)': False, 'contains(bloody)': False, 'contains(acts)': False, 'contains(fame)': False, 'contains(meeting)': False, 'contains(nuclear)': False, 'contains(1996)': False, 'contains(strength)': False, 'contains(center)': False, 'contains(funniest)': False, 'contains(standing)': False, 'contains(damon)': False, 'contains(clich)': False, 'contains(position)': False, 'contains(desire)': False, 'contains(driven)': False, 'contains(seat)': False, 'contains(stock)': False, 'contains(wondering)': False, 'contains(realizes)': False, 'contains(dealing)': False, 'contains(taste)': False, 'contains(routine)': False, 'contains(comparison)': False, 'contains(cinematographer)': False, 'contains(seconds)': False, 'contains(singing)': False, 'contains(gangster)': False, 'contains(responsible)': False, 'contains(football)': False, 'contains(remarkable)': False, 'contains(hunting)': False, 'contains(adams)': False, 'contains(fly)': False, 'contains(suspects)': False, 'contains(treat)': False, 'contains(hopes)': False, 'contains(heaven)': False, 'contains(myers)': False, 'contains(struggle)': False, 'contains(costumes)': False, 'contains(beat)': False, 'contains(happening)': False, 'contains(skills)': False, 'contains(ugly)': False, 'contains(figures)': False, 'contains(thoroughly)': False, 'contains(ill)': False, 'contains(surprises)': False, 'contains(player)': False, 'contains(rival)': False, 'contains(guard)': True, 'contains(anthony)': False, 'contains(strike)': False, 'contains(community)': False, 'contains(streets)': False, 'contains(hopkins)': False, 'contains(ended)': False, 'contains(originally)': False, 'contains(sarah)': False, 'contains(creative)': False, 'contains(characterization)': False, 'contains(thankfully)': False, 'contains(growing)': False, 'contains(sharp)': False, 'contains(williamson)': False, 'contains(eccentric)': False, 'contains(explained)': False, 'contains(hey)': False, 'contains(claire)': False, 'contains(steal)': False, 'contains(inevitable)': False, 'contains(joel)': False, 'contains(core)': False, 'contains(weren)': False, 'contains(sorry)': False, 'contains(built)': False, 'contains(anne)': False, 'contains(breaking)': False, 'contains(villains)': False, 'contains(critic)': False, 'contains(lets)': False, 'contains(visit)': False, 'contains(followed)': False}\n"
          ]
        }
      ],
      "source": [
        "def document_features(document):\n",
        "    document_words = set(document)\n",
        "    features = {}\n",
        "\n",
        "    for word in word_features:\n",
        "        features[f'contains({word})'] = (word in document_words)\n",
        "    return features\n",
        "\n",
        "\n",
        "# Apply to the first document, documents[0][0] is list of words\n",
        "features = document_features(documents[0][0])\n",
        "print('Length of features:', len(features))\n",
        "print('Features:', features)"
      ]
    },
    {
      "cell_type": "code",
      "execution_count": 33,
      "id": "5f562a77",
      "metadata": {},
      "outputs": [
        {
          "data": {
            "text/plain": [
              "'neg'"
            ]
          },
          "execution_count": 33,
          "metadata": {},
          "output_type": "execute_result"
        }
      ],
      "source": [
        "documents[0][1]"
      ]
    },
    {
      "cell_type": "markdown",
      "id": "1174e180191f0038",
      "metadata": {
        "id": "1174e180191f0038"
      },
      "source": [
        "## 🔹 5.3 Train a Classifier"
      ]
    },
    {
      "cell_type": "code",
      "execution_count": 28,
      "id": "8dc035e69dbb4d9b",
      "metadata": {
        "ExecuteTime": {
          "end_time": "2025-04-24T08:23:06.044934Z",
          "start_time": "2025-04-24T08:23:03.754770Z"
        },
        "colab": {
          "base_uri": "https://localhost:8080/"
        },
        "id": "8dc035e69dbb4d9b",
        "outputId": "8a945db3-dca1-4136-bf34-f16667be1aa4"
      },
      "outputs": [
        {
          "name": "stdout",
          "output_type": "stream",
          "text": [
            "Accuracy: 0.8133333333333334\n"
          ]
        }
      ],
      "source": [
        "from nltk import classify, NaiveBayesClassifier\n",
        "\n",
        "# Create the feature sets\n",
        "feature_sets = [(document_features(d), c) for (d, c) in documents]\n",
        "\n",
        "# Train/test split\n",
        "train_set, test_set = feature_sets[:800], feature_sets[800:]\n",
        "\n",
        "# Train Naive Bayes classifier\n",
        "classifier = NaiveBayesClassifier.train(train_set)\n",
        "print('Accuracy:', classify.accuracy(classifier, test_set))"
      ]
    },
    {
      "cell_type": "markdown",
      "id": "af3d4d331de52fc6",
      "metadata": {
        "id": "af3d4d331de52fc6"
      },
      "source": [
        "## 🔹 5.4 Most Informative Features"
      ]
    },
    {
      "cell_type": "code",
      "execution_count": 29,
      "id": "f8d49d2c1780a9c6",
      "metadata": {
        "ExecuteTime": {
          "end_time": "2025-04-24T08:23:06.059488Z",
          "start_time": "2025-04-24T08:23:06.052524Z"
        },
        "colab": {
          "base_uri": "https://localhost:8080/"
        },
        "id": "f8d49d2c1780a9c6",
        "outputId": "e59bca8f-d81a-402b-dbbb-f6e7da6f8add"
      },
      "outputs": [
        {
          "name": "stdout",
          "output_type": "stream",
          "text": [
            "Most Informative Features\n",
            "   contains(wonderfully) = True              pos : neg    =     10.9 : 1.0\n",
            "   contains(outstanding) = True              pos : neg    =      8.7 : 1.0\n",
            "         contains(awful) = True              neg : pos    =      7.0 : 1.0\n",
            "         contains(damon) = True              pos : neg    =      6.8 : 1.0\n",
            "       contains(patrick) = True              pos : neg    =      6.6 : 1.0\n",
            "         contains(waste) = True              neg : pos    =      6.5 : 1.0\n",
            "         contains(worst) = True              neg : pos    =      6.5 : 1.0\n",
            "          contains(lame) = True              neg : pos    =      6.4 : 1.0\n",
            "      contains(godzilla) = True              neg : pos    =      6.4 : 1.0\n",
            "       contains(unfunny) = True              neg : pos    =      5.8 : 1.0\n"
          ]
        }
      ],
      "source": [
        "classifier.show_most_informative_features(10)"
      ]
    },
    {
      "cell_type": "markdown",
      "id": "15d3c7e41f29b775",
      "metadata": {
        "id": "15d3c7e41f29b775"
      },
      "source": [
        "### 🧠 How to Interpret This\n",
        "\n",
        "Each line tells you:\n",
        "- A specific **word** that appears in a review\n",
        "- Its predicted **sentiment direction** (positive or negative)\n",
        "- And a **ratio** showing how strongly it correlates with that sentiment\n",
        "\n",
        "---\n",
        "\n",
        "🔎 Example Breakdown:\n",
        "- `contains(wonderfully) = True pos : neg = 10.9 : 1.0`\n",
        "    - → If a review contains the word wonderfully, it is 10.9 times more likely to be positive than negative.\n",
        "    - 💬 Interpretation: \"wonderfully\" is a strong indicator of a positive review.\n",
        "- `contains(awful) = True neg : pos = 7.0 : 1.0`\n",
        "    - → If a review contains awful, it’s 7x more likely to be negative.\n",
        "    - 💬 \"awful\" is clearly associated with negative reviews.\n",
        "- `contains(damon) = True pos : neg = 6.8 : 1.0`\n",
        "    - → \"damon\" appears more often in positive reviews — maybe because reviewers like Matt Damon!\n",
        "- `contains(godzilla) = True neg : pos = 6.4 : 1.0`\n",
        "    - → In this dataset, \"godzilla\" is more often mentioned in negative reviews. (Maybe the movie was bad 🙃)"
      ]
    },
    {
      "cell_type": "markdown",
      "id": "322f0df2c40c7936",
      "metadata": {
        "id": "322f0df2c40c7936"
      },
      "source": [
        "## ⚠️ Notes\n",
        "- These are not causal relationships — just correlations from the training data.\n",
        "- The features are based on word presence only (contains(word) = True), so no context or syntax is considered.\n",
        "- Words like ‘patrick’, ‘damon’, or ‘godzilla’ could be highly dataset-specific.\n",
        "- This is a very basic method and doesn’t handle word order, syntax, or semantics. In real NLP systems, deep learning models (e.g., BERT) are typically used."
      ]
    },
    {
      "cell_type": "markdown",
      "id": "157368bbbdd9d423",
      "metadata": {
        "id": "157368bbbdd9d423"
      },
      "source": [
        "# 🔚 Part 6: Summary\n",
        "\n",
        "Now that we’ve explored NLTK, it’s helpful to summarize what it’s good for and where other tools like spaCy might offer advantages."
      ]
    },
    {
      "cell_type": "markdown",
      "id": "4bed9142e1b93da9",
      "metadata": {
        "id": "4bed9142e1b93da9"
      },
      "source": [
        "## ✅ What We've Learned in This NLTK Section:\n",
        "\n",
        "| Topic                   | What We Did                                                                       |\n",
        "|-------------------------|-----------------------------------------------------------------------------------|\n",
        "| **Tokenization**        | Split text into words and sentences using `word_tokenize()` and `sent_tokenize()` |\n",
        "| **Stopword Removal**    | Removed common words using `nltk.corpus.stopwords`                                |\n",
        "| **Stemming**            | Reduced words to their root using `PorterStemmer`                                 |\n",
        "| **Lemmatization**       | Reduced words to dictionary form using `WordNetLemmatizer`                        |\n",
        "| **POS Tagging**         | Labeled each word with its part of speech using `pos_tag()`                       |\n",
        "| **NER**                 | Identified named entities with `ne_chunk()`                                       |\n",
        "| **Text Classification** | Built a Naive Bayes classifier using word features                                |\n"
      ]
    },
    {
      "cell_type": "markdown",
      "id": "f24c3e6c09219fc3",
      "metadata": {
        "id": "f24c3e6c09219fc3"
      },
      "source": [
        "# 🧪 Part 7: Exercises\n",
        "\n",
        "These exercises help you apply the concepts you've learned in this notebook."
      ]
    },
    {
      "cell_type": "markdown",
      "id": "c9c1ecfc5c58f2df",
      "metadata": {
        "id": "c9c1ecfc5c58f2df"
      },
      "source": [
        "## 🔹 7.1 Write `preprocess`"
      ]
    },
    {
      "cell_type": "code",
      "execution_count": null,
      "id": "6e5d3ac48a35ba23",
      "metadata": {
        "ExecuteTime": {
          "end_time": "2025-04-24T08:23:06.069466Z",
          "start_time": "2025-04-24T08:23:06.066760Z"
        },
        "id": "6e5d3ac48a35ba23"
      },
      "outputs": [
        {
          "name": "stdout",
          "output_type": "stream",
          "text": [
            "['ali', 'dad', 'play', 'give', 'word', 'text', 'fdlkj', 'fdlk', 'ld', 'kldh', 'jy', 'duy', 'h', 'lkhd', 'oy', 'j', 'jasdhfg']\n",
            "['ali', 'dad', 'play', 'give', 'word', 'text', 'fdlkj', 'fdlk', 'ld', 'kldh', 'jy', 'duy', 'h', 'lkhd', 'oy', 'j', 'jasdhfg']\n"
          ]
        }
      ],
      "source": [
        "from nltk.tokenize import word_tokenize\n",
        "from nltk.corpus import stopwords\n",
        "from nltk.stem import PorterStemmer, WordNetLemmatizer\n",
        "from nltk import pos_tag\n",
        "import string\n",
        "\n",
        "STOPWORDS = set(stopwords.words('english'))\n",
        "STEMMER = PorterStemmer()\n",
        "LEMMATIZER = WordNetLemmatizer()\n",
        "PUNCTUATION = set(string.punctuation)\n",
        "\n",
        "def _treebank_to_wordnet_pos(t):\n",
        "    return {\"V\" : \"v\", \"J\" : \"a\", \"N\" : \"n\", \"R\" : \"r\"}.get(t[0], None)\n",
        "def preprocess_nltk(text: str, use_lemmatizer: bool = True) -> list[str]:\n",
        "    \"\"\"\n",
        "    1. Tokenize text into words.\n",
        "    2. Remove punctuation tokens.\n",
        "    3. Remove stopwords and non-alphabetic tokens.\n",
        "    4. POS-tag and keep only NOUN, VERB, ADJ, ADV.\n",
        "    5. Lemmatize (or stem) and lowercase.\n",
        "    \"\"\"\n",
        "    # yor code here\n",
        "    tokens = word_tokenize(text)\n",
        "    clean_tokens = [token for token in tokens if (token not in PUNCTUATION) and (token not in STOPWORDS) and (token.isalpha())]\n",
        "    pos_tags = pos_tag(clean_tokens)\n",
        "    selected_tags = [(tok, tag) for tok, tag in pos_tags if tag[0] in {'N', 'V', 'J', 'R'}]\n",
        "    lemmas = []\n",
        "    for token, tag in selected_tags:\n",
        "        wn = _treebank_to_wordnet_pos(tag)\n",
        "        if use_lemmatizer:\n",
        "            lemmas.append(LEMMATIZER.lemmatize(token, pos=wn).lower())\n",
        "        else:\n",
        "            lemmas.append(STEMMER.stem(token).lower())\n",
        "    return lemmas"
      ]
    },
    {
      "cell_type": "code",
      "execution_count": 31,
      "id": "260e2a8aef0b3783",
      "metadata": {
        "ExecuteTime": {
          "end_time": "2025-04-24T08:23:06.079384Z",
          "start_time": "2025-04-24T08:23:06.077508Z"
        },
        "colab": {
          "base_uri": "https://localhost:8080/"
        },
        "id": "260e2a8aef0b3783",
        "outputId": "45f6a001-7b0d-4b60-d30b-ce8ad1d32430"
      },
      "outputs": [
        {
          "name": "stdout",
          "output_type": "stream",
          "text": [
            "Lemmatized: ['hello', 'world', 'quick', 'brown', 'jump', 'happily', 'lazy', 'dog']\n",
            "Stemmed:    ['hello', 'world', 'quick', 'brown', 'jump', 'happili', 'lazi', 'dog']\n"
          ]
        }
      ],
      "source": [
        "text = \"Hello, world! The quick (brown) foxes—are jumping happily over lazy dogs.\"\n",
        "print('Lemmatized:', preprocess_nltk(text, use_lemmatizer=True))\n",
        "print('Stemmed:   ', preprocess_nltk(text, use_lemmatizer=False))\n",
        "# Expected:\n",
        "    # Lemmatized: ['world', 'quick', 'jumping', 'happily', 'lazy', 'dog']\n",
        "    # Stemmed:    ['world', 'quick', 'jump', 'happili', 'lazi', 'dog']"
      ]
    }
  ],
  "metadata": {
    "colab": {
      "provenance": []
    },
    "kernelspec": {
      "display_name": "Python 3",
      "language": "python",
      "name": "python3"
    },
    "language_info": {
      "codemirror_mode": {
        "name": "ipython",
        "version": 3
      },
      "file_extension": ".py",
      "mimetype": "text/x-python",
      "name": "python",
      "nbconvert_exporter": "python",
      "pygments_lexer": "ipython3",
      "version": "3.13.5"
    }
  },
  "nbformat": 4,
  "nbformat_minor": 5
}
