{
  "nbformat": 4,
  "nbformat_minor": 0,
  "metadata": {
    "colab": {
      "provenance": []
    },
    "kernelspec": {
      "name": "python3",
      "display_name": "Python 3"
    },
    "language_info": {
      "name": "python"
    }
  },
  "cells": [
    {
      "cell_type": "code",
      "execution_count": null,
      "metadata": {
        "id": "pMNL8BShqbqk"
      },
      "outputs": [],
      "source": [
        "import pandas as pd\n",
        "from sklearn.datasets import fetch_openml\n",
        "from sklearn.model_selection import train_test_split\n",
        "from sklearn.pipeline import Pipeline\n",
        "from sklearn.model_selection import GridSearchCV\n",
        "from sklearn.linear_model import LogisticRegression\n",
        "from sklearn.metrics import f1_score, accuracy_score\n",
        "import numpy as np"
      ]
    },
    {
      "cell_type": "code",
      "source": [
        "data = fetch_openml(\"PhishingWebsites\", version=1, as_frame=True)\n",
        "df = data.frame"
      ],
      "metadata": {
        "id": "N3hkxQv2rN2z"
      },
      "execution_count": null,
      "outputs": []
    },
    {
      "cell_type": "code",
      "source": [
        "df = df.astype(np.int32)"
      ],
      "metadata": {
        "id": "xumO_XG3vbxr"
      },
      "execution_count": null,
      "outputs": []
    },
    {
      "cell_type": "code",
      "source": [
        "y = df[\"Result\"]\n",
        "df.drop(\"Result\", axis=1, inplace=True)\n",
        "x_train, x_test, y_train, y_test = train_test_split(df, y, test_size = 0.8, shuffle=True, stratify=y)"
      ],
      "metadata": {
        "id": "X1eJV-rRrZv7"
      },
      "execution_count": null,
      "outputs": []
    },
    {
      "cell_type": "code",
      "source": [
        "model = LogisticRegression(penalty=\"l2\", max_iter = 1000)\n",
        "model.fit(x_train, y_train)\n",
        "print(f\"f1 test : {f1_score(y_test, model.predict(x_test))}\\n acc train{accuracy_score(y_train, model.predict(x_train))}\\n f1 train : {f1_score(y_train, model.predict(x_train))})\")"
      ],
      "metadata": {
        "colab": {
          "base_uri": "https://localhost:8080/"
        },
        "id": "32HlJfo-sWsC",
        "outputId": "97114113-096a-432f-9d6c-bb3e4dba587c"
      },
      "execution_count": null,
      "outputs": [
        {
          "output_type": "stream",
          "name": "stdout",
          "text": [
            "f1 test : 0.9331593737454837\n",
            " acc train0.9402985074626866\n",
            " f1 train : 0.9469026548672567)\n"
          ]
        }
      ]
    },
    {
      "cell_type": "code",
      "source": [],
      "metadata": {
        "id": "Beme_Hz0uggj"
      },
      "execution_count": null,
      "outputs": []
    }
  ]
}