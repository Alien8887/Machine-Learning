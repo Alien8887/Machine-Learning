{
  "nbformat": 4,
  "nbformat_minor": 0,
  "metadata": {
    "colab": {
      "provenance": [],
      "gpuType": "T4"
    },
    "kernelspec": {
      "name": "python3",
      "display_name": "Python 3"
    },
    "language_info": {
      "name": "python"
    },
    "accelerator": "GPU"
  },
  "cells": [
    {
      "cell_type": "code",
      "execution_count": 1,
      "metadata": {
        "colab": {
          "base_uri": "https://localhost:8080/"
        },
        "id": "vbjhlbBFRyT6",
        "outputId": "d23debb9-4ee8-478e-c61c-eb9f4963afed"
      },
      "outputs": [
        {
          "output_type": "stream",
          "name": "stdout",
          "text": [
            "Downloading from https://www.kaggle.com/api/v1/datasets/download/shreyasi2002/vgg16-models-mnist-fashion-mnist?dataset_version_number=2...\n"
          ]
        },
        {
          "output_type": "stream",
          "name": "stderr",
          "text": [
            "100%|██████████| 210M/210M [00:05<00:00, 38.2MB/s]"
          ]
        },
        {
          "output_type": "stream",
          "name": "stdout",
          "text": [
            "Extracting files...\n"
          ]
        },
        {
          "output_type": "stream",
          "name": "stderr",
          "text": [
            "\n"
          ]
        },
        {
          "output_type": "stream",
          "name": "stdout",
          "text": [
            "Path to dataset files: /root/.cache/kagglehub/datasets/shreyasi2002/vgg16-models-mnist-fashion-mnist/versions/2\n"
          ]
        }
      ],
      "source": [
        "import kagglehub\n",
        "\n",
        "# Download latest version\n",
        "path = kagglehub.dataset_download(\"shreyasi2002/vgg16-models-mnist-fashion-mnist\")\n",
        "\n",
        "print(\"Path to dataset files:\", path)\n"
      ]
    },
    {
      "cell_type": "code",
      "source": [
        "from google.colab import data_table\n",
        "data_table.enable_dataframe_formatter()\n",
        "from sklearn.metrics import accuracy_score\n",
        "import torchmetrics\n",
        "from torch.nn.functional import softmax"
      ],
      "metadata": {
        "id": "SVg0XEC6Tp_S"
      },
      "execution_count": 61,
      "outputs": []
    },
    {
      "cell_type": "code",
      "source": [
        "import pandas as pd\n",
        "import matplotlib.pyplot as plt\n",
        "import numpy as np\n",
        "import torch\n",
        "from torch import nn\n",
        "from torch.optim import SGD\n",
        "from torch.nn import CrossEntropyLoss\n",
        "csv_01 = pd.read_csv(\"/content/sample_data/mnist_train_small.csv\")\n",
        "csv_02 = pd.read_csv(\"/content/sample_data/mnist_test.csv\")\n",
        "x_test = pd.DataFrame(csv_02)\n",
        "x_train = x_test.sample(frac=1)\n",
        "y_test = x_test[\"7\"]\n",
        "x_test.drop(\"7\", axis= 1, inplace=True)\n",
        "x_train = pd.DataFrame(csv_01)\n",
        "x_train = x_train.sample(frac=1)\n",
        "y_train = x_train[\"6\"]\n",
        "x_train.drop(\"6\", axis=1, inplace=True)\n",
        "x_train = torch.tensor(x_train.values, dtype=torch.float32)\n",
        "x_test = torch.tensor(x_test.values, dtype=torch.float32)\n",
        "y_train = torch.tensor(y_train.values, dtype=torch.int64)\n",
        "y_test = torch.tensor(y_test.values, dtype=torch.int64)"
      ],
      "metadata": {
        "id": "7hynzYCNSKEO"
      },
      "execution_count": 13,
      "outputs": []
    },
    {
      "cell_type": "code",
      "source": [
        "class Mnist(nn.Module):\n",
        "  def __init__(self):\n",
        "    super().__init__()\n",
        "    self.layer_1 = nn.Linear(784, 512)\n",
        "    self.layer_2 = nn.Linear(512, 256)\n",
        "    self.layer_3 = nn.Linear(256, 128)\n",
        "    self.layer_4 = nn.Linear(128, 64)\n",
        "    self.layer_5 = nn.Linear(64, 32)\n",
        "    self.layer_6 = nn.Linear(32, 16)\n",
        "    self.layer_7 = nn.Linear(16, 10)\n",
        "    self.relu = nn.LeakyReLU()\n",
        "  def forward(self, x):\n",
        "    z1 = self.layer_1(x)\n",
        "    a1 = self.relu(z1)\n",
        "    z2 = self.layer_2(a1)\n",
        "    a2 = self.relu(z2)\n",
        "    z3 = self.layer_3(a2)\n",
        "    a3 = self.relu(z3)\n",
        "    z4 = self.layer_4(a3)\n",
        "    a4 = self.relu(z4)\n",
        "    z5 = self.layer_5(a4)\n",
        "    a5 = self.relu(z5)\n",
        "    z6 = self.layer_6(a5)\n",
        "    a6 = self.relu(z6)\n",
        "    z7 = self.layer_7(a6)\n",
        "    return z7"
      ],
      "metadata": {
        "id": "kaokYZ2yXjMA"
      },
      "execution_count": 10,
      "outputs": []
    },
    {
      "cell_type": "code",
      "source": [
        "model = Mnist()\n",
        "optimizer = SGD(model.parameters(), lr = 1e-2, weight_decay=1e-4, momentum=0.9)\n",
        "loss_function = CrossEntropyLoss()"
      ],
      "metadata": {
        "id": "SlWynPcdOcoi"
      },
      "execution_count": 11,
      "outputs": []
    },
    {
      "cell_type": "code",
      "source": [
        "list_of_losses_test = []\n",
        "list_of_losses_train = []\n",
        "acc = torchmetrics.Accuracy(task=\"multiclass\", num_classes= 10)\n",
        "for i in range (100):\n",
        "  model.train()\n",
        "  y_pred_train = model(x_train)\n",
        "  train_loss = loss_function(y_pred_train, y_train)\n",
        "  list_of_losses_train.append(train_loss)#.detach().numpy())\n",
        "  optimizer.zero_grad()\n",
        "  train_loss.backward()\n",
        "  optimizer.step()\n",
        "  model.eval()\n",
        "  with torch.inference_mode():\n",
        "    y_pred_test = model(x_test)\n",
        "    test_loss = loss_function(y_pred_test, y_test)\n",
        "    list_of_losses_test.append(test_loss)\n",
        "    if i % 10 == 0:\n",
        "      print(f\"test loss: {test_loss} \\t train loss: {train_loss}\")\n",
        "      print(f\"test accuracy:{acc(torch.tensor([torch.argmax(i) for i in softmax(y_pred_test, dim=1)]), y_test)}\")\n",
        "      print(f\"train accuracy:{acc(torch.tensor([torch.argmax(i) for i in softmax(y_pred_train, dim=1)]), y_train)}\")"
      ],
      "metadata": {
        "colab": {
          "base_uri": "https://localhost:8080/"
        },
        "id": "l3Ie-nL6T24J",
        "outputId": "9ea9cca4-253a-4951-f7cc-a3ef727f744a"
      },
      "execution_count": 66,
      "outputs": [
        {
          "output_type": "stream",
          "name": "stdout",
          "text": [
            "test loss: 0.1887819468975067 \t train loss: 0.024908442050218582\n",
            "test accuracy:0.9551955461502075\n",
            "train accuracy:0.9959498047828674\n",
            "test loss: 0.19163627922534943 \t train loss: 0.02211252599954605\n",
            "test accuracy:0.9551955461502075\n",
            "train accuracy:0.9965498447418213\n",
            "test loss: 0.19407515227794647 \t train loss: 0.019688168540596962\n",
            "test accuracy:0.9556955695152283\n",
            "train accuracy:0.9968998432159424\n",
            "test loss: 0.19712688028812408 \t train loss: 0.017658118158578873\n",
            "test accuracy:0.9556955695152283\n",
            "train accuracy:0.9973998665809631\n",
            "test loss: 0.19943363964557648 \t train loss: 0.01586061902344227\n",
            "test accuracy:0.9562956094741821\n",
            "train accuracy:0.9975498914718628\n",
            "test loss: 0.2019934356212616 \t train loss: 0.014063704758882523\n",
            "test accuracy:0.9565956592559814\n",
            "train accuracy:0.9976499080657959\n",
            "test loss: 0.20529696345329285 \t train loss: 0.012467075139284134\n",
            "test accuracy:0.9566956758499146\n",
            "train accuracy:0.9978498816490173\n",
            "test loss: 0.2079332172870636 \t train loss: 0.011199697852134705\n",
            "test accuracy:0.9567956924438477\n",
            "train accuracy:0.997999906539917\n",
            "test loss: 0.21043121814727783 \t train loss: 0.010121118277311325\n",
            "test accuracy:0.9567956924438477\n",
            "train accuracy:0.9981499314308167\n",
            "test loss: 0.21279281377792358 \t train loss: 0.009171555750072002\n",
            "test accuracy:0.9567956924438477\n",
            "train accuracy:0.9984999299049377\n"
          ]
        }
      ]
    },
    {
      "cell_type": "code",
      "source": [
        "list_of_losses_train = [i.detach() for i in list_of_losses_train]\n",
        "list_of_losses_test = [i.detach() for i in list_of_losses_test]\n",
        "import matplotlib.pyplot as plt\n",
        "plt.plot(range(100), list_of_losses_train, label=\"train loss\", color = \"r\")\n",
        "plt.plot(range(100), list_of_losses_test, label=\"test loss\", color = \"b\")\n",
        "plt.legend()\n",
        "plt.show()"
      ],
      "metadata": {
        "colab": {
          "base_uri": "https://localhost:8080/",
          "height": 430
        },
        "id": "40rIY7CaWqps",
        "outputId": "e3cf4f26-d7e2-4396-902a-2d6ce48766fa"
      },
      "execution_count": 67,
      "outputs": [
        {
          "output_type": "display_data",
          "data": {
            "text/plain": [
              "<Figure size 640x480 with 1 Axes>"
            ],
            "image/png": "[encoded data removed]"
          },
          "metadata": {}
        }
      ]
    },
    {
      "cell_type": "code",
      "source": [
        "y_preds = []\n",
        "with torch.inference_mode():\n",
        "  for i in softmax(model(x_test), dim=1):\n",
        "    y_preds.append(torch.argmax(i).numpy())\n",
        "accuracy_score(y_preds, y_test)\n"
      ],
      "metadata": {
        "colab": {
          "base_uri": "https://localhost:8080/"
        },
        "id": "mcJiQtSSa2Yl",
        "outputId": "c9f0d848-8588-4b20-fa62-bf41ba2d049d"
      },
      "execution_count": 68,
      "outputs": [
        {
          "output_type": "execute_result",
          "data": {
            "text/plain": [
              "0.9566956695669567"
            ]
          },
          "metadata": {},
          "execution_count": 68
        }
      ]
    },
    {
      "cell_type": "code",
      "source": [
        "x = 335\n",
        "plt.imshow(x_test[x].reshape(28, 28))\n",
        "y_preds[x]"
      ],
      "metadata": {
        "colab": {
          "base_uri": "https://localhost:8080/",
          "height": 447
        },
        "id": "oFhZbv1odS5W",
        "outputId": "4c486bdb-4e74-433e-9891-7d7b534535cb"
      },
      "execution_count": 69,
      "outputs": [
        {
          "output_type": "execute_result",
          "data": {
            "text/plain": [
              "array(9)"
            ]
          },
          "metadata": {},
          "execution_count": 69
        },
        {
          "output_type": "display_data",
          "data": {
            "text/plain": [
              "<Figure size 640x480 with 1 Axes>"
            ],
            "image/png": "[encoded data removed]"
          },
          "metadata": {}
        }
      ]
    },
    {
      "cell_type": "code",
      "source": [],
      "metadata": {
        "id": "yIv5wcDlgEpF"
      },
      "execution_count": null,
      "outputs": []
    }
  ]
}
