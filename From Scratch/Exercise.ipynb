{
 "cells": [
  {
   "cell_type": "markdown",
   "id": "20402443-c869-4284-a6c0-c4f1aa8b8208",
   "metadata": {},
   "source": [
    "# Exercise\n"
   ]
  },
  {
   "cell_type": "code",
   "execution_count": 1,
   "id": "62f8a57c-9de8-4ed8-b1f6-acfb9b934229",
   "metadata": {},
   "outputs": [],
   "source": [
    "import torch\n",
    "import numpy as np"
   ]
  },
  {
   "cell_type": "markdown",
   "id": "63b53c8d-eed8-4229-9317-6bf4fa4beb3f",
   "metadata": {},
   "source": [
    "## Given a Python list and a NumPy array, convert both to PyTorch tensors. "
   ]
  },
  {
   "cell_type": "code",
   "execution_count": 2,
   "id": "694a6257-19d1-45f5-b5e3-d8b8878f28fc",
   "metadata": {},
   "outputs": [],
   "source": [
    "arr = [1,2,3,4,5,6,7]\n",
    "np_arr = np.array(arr)\n",
    "torch_tensor = torch.from_numpy(np_arr)"
   ]
  },
  {
   "cell_type": "markdown",
   "id": "21d6a8b6-3922-4508-8ce2-72490f871f13",
   "metadata": {},
   "source": [
    "## Create Tensors of Zeros and Ones"
   ]
  },
  {
   "cell_type": "code",
   "execution_count": 3,
   "id": "2e1c35bb-96e0-4087-973b-e2a9284da2bf",
   "metadata": {},
   "outputs": [
    {
     "data": {
      "text/plain": [
       "(tensor([0., 0., 0., 0., 0., 0., 0., 0., 0., 0., 0., 0., 0., 0., 0., 0., 0., 0., 0., 0.]),\n",
       " tensor([1., 1., 1., 1., 1., 1., 1., 1., 1., 1., 1., 1., 1., 1., 1., 1., 1., 1.,\n",
       "         1., 1., 1., 1., 1., 1., 1.]))"
      ]
     },
     "execution_count": 3,
     "metadata": {},
     "output_type": "execute_result"
    }
   ],
   "source": [
    "# Create a tensor with 20 elements, all set to 0.\n",
    "zero_tensor = torch.zeros(20)\n",
    "\n",
    "# Create a tensor with 25 elements, all set to 1\n",
    "one_tensor = torch.ones(25)\n",
    "zero_tensor, one_tensor"
   ]
  },
  {
   "cell_type": "markdown",
   "id": "145d9977-34df-4521-b50f-0cbacaac5483",
   "metadata": {},
   "source": [
    "## Create a Random Tensor with Specific Shape and Type\n",
    "\n"
   ]
  },
  {
   "cell_type": "code",
   "execution_count": 4,
   "id": "fcb46d28-8dd4-4b4b-afc4-f6288f8dc8ac",
   "metadata": {},
   "outputs": [
    {
     "data": {
      "text/plain": [
       "tensor([[0.9277, 0.3579, 0.4072, 0.1045, 0.7769],\n",
       "        [0.0439, 0.3794, 0.9082, 0.8164, 0.7070],\n",
       "        [0.9536, 0.3833, 0.7466, 0.7959, 0.5986],\n",
       "        [0.5610, 0.6079, 0.0361, 0.6582, 0.0479],\n",
       "        [0.2583, 0.4800, 0.0073, 0.2510, 0.0586]], dtype=torch.float16)"
      ]
     },
     "execution_count": 4,
     "metadata": {},
     "output_type": "execute_result"
    }
   ],
   "source": [
    "# Create a random tensor with shape (5, 5) and data type float16.\n",
    "random_tensor = torch.rand(size=(5, 5), dtype=torch.float16)\n",
    "random_tensor"
   ]
  },
  {
   "cell_type": "markdown",
   "id": "431096bf-45c7-45b3-bc7a-ccf9cca470d2",
   "metadata": {},
   "source": [
    "## Create a Tensor with a Range and Reshape"
   ]
  },
  {
   "cell_type": "code",
   "execution_count": 5,
   "id": "7593de28-0420-4990-b0d2-14e847fa1973",
   "metadata": {},
   "outputs": [
    {
     "data": {
      "text/plain": [
       "tensor([[ 1,  2,  3,  4,  5],\n",
       "        [ 6,  7,  8,  9, 10],\n",
       "        [11, 12, 13, 14, 15],\n",
       "        [16, 17, 18, 19, 20],\n",
       "        [21, 22, 23, 24, 25],\n",
       "        [26, 27, 28, 29, 30],\n",
       "        [31, 32, 33, 34, 35],\n",
       "        [36, 37, 38, 39, 40]])"
      ]
     },
     "execution_count": 5,
     "metadata": {},
     "output_type": "execute_result"
    }
   ],
   "source": [
    "# Create a tensor with values from 1 to 40 (inclusive).\n",
    "range_tensor = torch.arange(1, 41)\n",
    "\n",
    "# Reshape this tensor to have shape (8, 5).\n",
    "range_tensor.reshape(8, 5)"
   ]
  },
  {
   "cell_type": "markdown",
   "id": "8fd8bcce-0c23-4310-a792-bb0baafc4a76",
   "metadata": {},
   "source": [
    "## Create a Tensor with Normal Distribution"
   ]
  },
  {
   "cell_type": "code",
   "execution_count": 6,
   "id": "e90de47e-9bc8-4d78-8740-aafa87f1f416",
   "metadata": {},
   "outputs": [],
   "source": [
    "# Create a tensor with the same shape as the previous tensor (8, 5), but fill it with values from a normal distribution.\n",
    "# do not provide shape \n",
    "normal_tensor = torch.normal(0, 1, size=(8, 5))"
   ]
  },
  {
   "cell_type": "markdown",
   "id": "0423e1e0-2a14-489f-8195-0dbb9e719123",
   "metadata": {},
   "source": [
    "## Create Identical Random Tensors Using a Seed"
   ]
  },
  {
   "cell_type": "code",
   "execution_count": 7,
   "id": "8210438d-c9e6-4969-ac85-71347de88935",
   "metadata": {},
   "outputs": [
    {
     "data": {
      "text/plain": [
       "True"
      ]
     },
     "execution_count": 7,
     "metadata": {},
     "output_type": "execute_result"
    }
   ],
   "source": [
    "# Create two tensors, each with 10 random elements, but ensure both tensors are identical by setting the random seed before creation.\n",
    "torch.manual_seed(42)\n",
    "first_random_tensor = torch.rand(10)\n",
    "torch.manual_seed(42)\n",
    "second_random_tensor = torch.rand(10)\n",
    "torch.equal(first_random_tensor, second_random_tensor)"
   ]
  },
  {
   "cell_type": "markdown",
   "id": "d33e54ec-c58e-4027-aa02-9e1f16f71275",
   "metadata": {},
   "source": [
    "## Tensor Indexing and Slicing"
   ]
  },
  {
   "cell_type": "code",
   "execution_count": null,
   "id": "a7ca68b9-833f-4ef3-9dca-a10dc7763ebd",
   "metadata": {},
   "outputs": [
    {
     "name": "stdout",
     "output_type": "stream",
     "text": [
      "tensor([[ 1,  3,  5,  7],\n",
      "        [ 9, 11, 13, 15],\n",
      "        [17, 19, 21, 23],\n",
      "        [25, 27, 29, 31],\n",
      "        [33, 35, 37, 39]])\n",
      "tensor([[5, 6],\n",
      "        [7, 8]])\n",
      "tensor([[13, 14],\n",
      "        [15, 16]])\n",
      "tensor([[19, 20],\n",
      "        [21, 22],\n",
      "        [23, 24]])\n",
      "tensor([[[ 6],\n",
      "         [ 8]],\n",
      "\n",
      "        [[14],\n",
      "         [16]],\n",
      "\n",
      "        [[22],\n",
      "         [24]],\n",
      "\n",
      "        [[30],\n",
      "         [32]],\n",
      "\n",
      "        [[38],\n",
      "         [40]]])\n"
     ]
    },
    {
     "data": {
      "text/plain": [
       "tensor([[ 1,  2,  3,  4,  5],\n",
       "        [ 6,  7,  8,  9, 10],\n",
       "        [11, 12, 13, 14, 15],\n",
       "        [16, 17, 18, 19, 20],\n",
       "        [21, 22, 23, 24, 25],\n",
       "        [26, 27, 28, 29, 30],\n",
       "        [31, 32, 33, 34, 35],\n",
       "        [36, 37, 38, 39, 40]])"
      ]
     },
     "execution_count": 24,
     "metadata": {},
     "output_type": "execute_result"
    }
   ],
   "source": [
    "# Create a tensor using arange from 1 to 40, reshape it to shape (5, 4, 2), and name it x.\n",
    "x = torch.arange(1, 41).reshape(5, 4, 2)\n",
    "# Get all elements with index 0 from axis 2 of x.\n",
    "print(x[: , :, 0])\n",
    "# Get all elements with index 2 to 4 from axis 0 of x.\n",
    "print(x[0][2:4])\n",
    "# Get all elements with index 2 to the end from axis 1 and index 1 to the end from axis 2 of x.\n",
    "print(x[1][2:])\n",
    "print(x[2][1:])\n",
    "# Reshape x to have 8 rows (axis 0) and as many columns as needed (do not specify the number of columns directly).\n",
    "x.reshape(8, -1)"
   ]
  },
  {
   "cell_type": "markdown",
   "id": "5a0b8e83-790f-46ca-b070-90a4f267d0a6",
   "metadata": {},
   "source": [
    "## Tensor Operations: Multiplication and Summation"
   ]
  },
  {
   "cell_type": "code",
   "execution_count": 9,
   "id": "2bccf032-2839-4150-9a26-50ba88d45747",
   "metadata": {},
   "outputs": [
    {
     "data": {
      "text/plain": [
       "tensor([44, 52, 60])"
      ]
     },
     "execution_count": 9,
     "metadata": {},
     "output_type": "execute_result"
    }
   ],
   "source": [
    "# Create a tensor y with elements from 1 to 12 and shape (4, 3).\n",
    "y = torch.arange(1, 13).reshape(4, 3)\n",
    "# Multiply each item in y by 2, then sum over axis 0.\n",
    "torch.sum(y * 2 , axis=0)"
   ]
  },
  {
   "cell_type": "markdown",
   "id": "2b504c84-3592-4126-9f1c-5b18caf70734",
   "metadata": {},
   "source": [
    "## Dot Product of Two Tensors"
   ]
  },
  {
   "cell_type": "code",
   "execution_count": 10,
   "id": "3cebeff1-e31e-490b-89d3-a25e8a1547bc",
   "metadata": {},
   "outputs": [
    {
     "data": {
      "text/plain": [
       "tensor(32)"
      ]
     },
     "execution_count": 10,
     "metadata": {},
     "output_type": "execute_result"
    }
   ],
   "source": [
    "# Create a tensor with elements [1,2,3] Compute the dot product with another tensor [4,5,6]\n",
    "torch.dot(torch.tensor([1, 2, 3]), torch.tensor([4, 5, 6]))"
   ]
  },
  {
   "cell_type": "markdown",
   "id": "9d17ac2c-f90c-4299-92c3-f937b76a3193",
   "metadata": {},
   "source": [
    "## Matrix Multiplication with torch.matmul"
   ]
  },
  {
   "cell_type": "code",
   "execution_count": 11,
   "id": "9835a5a1",
   "metadata": {},
   "outputs": [
    {
     "data": {
      "text/plain": [
       "tensor([101, 102, 103, 104, 105, 106, 107, 108, 109, 110, 111, 112])"
      ]
     },
     "execution_count": 11,
     "metadata": {},
     "output_type": "execute_result"
    }
   ],
   "source": [
    "torch.arange(101, 113)"
   ]
  },
  {
   "cell_type": "code",
   "execution_count": 12,
   "id": "2fb024b8-496a-4592-8206-2c4aa6ea03bf",
   "metadata": {},
   "outputs": [
    {
     "data": {
      "text/plain": [
       "tensor([[[-82.0000, -26.3636,  29.2727,  84.9091],\n",
       "         [-84.4546, -27.1818,  30.0909,  87.3636]],\n",
       "\n",
       "        [[-86.9091, -28.0000,  30.9091,  89.8182],\n",
       "         [-89.3636, -28.8182,  31.7273,  92.2727]]])"
      ]
     },
     "execution_count": 12,
     "metadata": {},
     "output_type": "execute_result"
    }
   ],
   "source": [
    "# Create tensor A with shape (2, 2, 3) and elements of your choice.\n",
    "A = torch.arange(101, 113).reshape(2, 2, 3).type(torch.float32)\n",
    "# Create tensor B with shape (3, 4) and elements of your choice.\n",
    "B = torch.linspace(-1, 1, 12).reshape(3, 4).type(torch.float32)\n",
    "# Multiply A and B using torch.matmul and display the result.\n",
    "torch.matmul(A, B)"
   ]
  },
  {
   "cell_type": "code",
   "execution_count": 21,
   "id": "49d93568",
   "metadata": {},
   "outputs": [
    {
     "data": {
      "text/plain": [
       "(tensor([[638, 414]]), tensor([[563, 287]]))"
      ]
     },
     "execution_count": 21,
     "metadata": {},
     "output_type": "execute_result"
    }
   ],
   "source": [
    "torch.manual_seed(4026)\n",
    "torch.randint(1, 1000, (1, 2)), torch.randint(1, 1000 , (1, 2))"
   ]
  },
  {
   "cell_type": "code",
   "execution_count": 23,
   "id": "28d0bb10",
   "metadata": {},
   "outputs": [
    {
     "name": "stdout",
     "output_type": "stream",
     "text": [
      "cpu\n"
     ]
    }
   ],
   "source": [
    "torch.randn(100)\n",
    "device = \"cuda\" if torch.cuda.is_available() else \"cpu\"\n",
    "print(device)\n",
    "# 1\n"
   ]
  },
  {
   "cell_type": "code",
   "execution_count": null,
   "id": "fcee9709",
   "metadata": {},
   "outputs": [],
   "source": []
  },
  {
   "cell_type": "code",
   "execution_count": null,
   "id": "56257324",
   "metadata": {},
   "outputs": [],
   "source": []
  }
 ],
 "metadata": {
  "kernelspec": {
   "display_name": "Python 3",
   "language": "python",
   "name": "python3"
  },
  "language_info": {
   "codemirror_mode": {
    "name": "ipython",
    "version": 3
   },
   "file_extension": ".py",
   "mimetype": "text/x-python",
   "name": "python",
   "nbconvert_exporter": "python",
   "pygments_lexer": "ipython3",
   "version": "3.13.5"
  }
 },
 "nbformat": 4,
 "nbformat_minor": 5
}
