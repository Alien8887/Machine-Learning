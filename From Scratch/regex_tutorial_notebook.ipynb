{
  "cells": [
    {
      "cell_type": "markdown",
      "metadata": {
        "id": "z7fJANPbH6cN"
      },
      "source": [
        "# آموزش مقدماتی عبارات منظم (Regular Expressions)\n",
        "\n",
        "در این نوت‌بوک، مفاهیم پایه‌ای و مهم عبارات منظم با مثال‌های عملی پوشش داده می‌شوند.\n",
        "\n",
        "## 📌 جمع‌بندی: سه دستور پرکاربرد در re\n",
        "\n",
        "**1. `re.search(pattern, string)`**\n",
        "- بررسی می‌کند که آیا الگو (pattern) در رشته (string) وجود دارد یا نه.\n",
        "- در صورت وجود، اولین تطبیق را برمی‌گرداند؛ در غیر این‌صورت، `None` برمی‌گرداند.\n",
        "- مثال:\n",
        "```python\n",
        "import re\n",
        "re.search(r'cat', 'a black cat')  # پیدا می‌کند\n",
        "```\n",
        "\n",
        "**2. `re.findall(pattern, string)`**\n",
        "- تمام مواردی که با الگو تطبیق دارند را به صورت لیستی از رشته‌ها برمی‌گرداند.\n",
        "- مثال:\n",
        "```python\n",
        "re.findall(r'\\d', 'abc123')  # ['1', '2', '3']\n",
        "```\n",
        "\n",
        "**3. `re.fullmatch(pattern, string)`**\n",
        "- بررسی می‌کند که آیا کل رشته دقیقاً با الگو تطبیق دارد یا نه.\n",
        "- بیشتر برای اعتبارسنجی (مثل ایمیل یا کد ملی) مفید است.\n",
        "- مثال:\n",
        "```python\n",
        "re.fullmatch(r'\\d{4}', '1234')  # درست است\n",
        "re.fullmatch(r'\\d{4}', '12345')  # نادرست است\n",
        "```"
      ]
    },
    {
      "cell_type": "markdown",
      "metadata": {
        "id": "ySrKxd6oH6cO"
      },
      "source": [
        "# آموزش عبارات منظم (Regex) با Python\n",
        "این نوت‌بوک آموزشی مبتنی بر مفاهیم ارائه‌شده توسط Dan Jurafsky است و به بررسی الگوهای رایج در Regular Expressions می‌پردازد."
      ]
    },
    {
      "cell_type": "markdown",
      "metadata": {
        "id": "0XPhBOoyH6cP"
      },
      "source": [
        "## کاراکترها و براکت‌ها\n",
        "- `[abc]` یعنی یکی از حروف a، b یا c\n",
        "- `[A-Z]` یعنی یک حرف بزرگ انگلیسی\n",
        "- `[0-9]` یعنی یک رقم عددی\n",
        "- `[a-z]` یعنی یک حرف کوچک انگلیسی\n"
      ]
    },
    {
      "cell_type": "code",
      "execution_count": 2,
      "metadata": {
        "colab": {
          "base_uri": "https://localhost:8080/"
        },
        "id": "_mBX4EgnH6cP",
        "outputId": "7cb5cd40-bfa1-4723-f5bf-949971e590d8"
      },
      "outputs": [
        {
          "name": "stdout",
          "output_type": "stream",
          "text": [
            "['Woodchuck', 'woodchuck']\n",
            "['1']\n"
          ]
        }
      ],
      "source": [
        "import re\n",
        "\n",
        "text = \"Woodchuck woodchuck my beans were impatient! Chapter 1: Down the Rabbit Hole!\"\n",
        "print(re.findall(r\"[Ww]oodchuck\", text))\n",
        "print(re.findall(r\"[0-9]\", text))"
      ]
    },
    {
      "cell_type": "markdown",
      "metadata": {
        "id": "Hf9psredH6cP"
      },
      "source": [
        "## نقیض (Negation) در براکت\n",
        "- `[^Ss]` یعنی هیچ‌کدام از 'S' یا 's'\n",
        "- `[^A-Z]` یعنی هر چیزی به جز حروف بزرگ"
      ]
    },
    {
      "cell_type": "code",
      "execution_count": 3,
      "metadata": {
        "colab": {
          "base_uri": "https://localhost:8080/"
        },
        "id": "QlY36RUsH6cP",
        "outputId": "1148f19e-9498-41d0-f807-2fed2a6cb9a6"
      },
      "outputs": [
        {
          "name": "stdout",
          "output_type": "stream",
          "text": [
            "['y', 'f', 'n', ' ', 'p', 'r', 'i', 'p', 'e', 't', 'c', 'h', 'i', 'k', '!', ' ', ' ', 'h', 'a', 'v', 'e', ' ', 'n', 'o', ' ', 'e', 'x', 'q', 'u', 'i', 's', 'i', 't', 'e', ' ', 'r', 'e', 'a', 's', 'o', 'n', '.', ' ', 'o', 'o', 'k', ' ', 'h', 'e', 'r', 'e', '!']\n",
            "['O', 'y', 'f', 'n', ' ', 'p', 'r', 'i', 'p', 'e', 't', 'c', 'h', 'i', 'k', '!', ' ', 'I', ' ', 'h', 'a', 'v', 'e', ' ', 'n', 'o', ' ', 'e', 'x', 'q', 'u', 'i', 'i', 't', 'e', ' ', 'r', 'e', 'a', 'o', 'n', '.', ' ', 'L', 'o', 'o', 'k', ' ', 'h', 'e', 'r', 'e', '!']\n",
            "[]\n"
          ]
        }
      ],
      "source": [
        "text = \"Oyfn pripetchik! I have no exquisite reason. Look here!\"\n",
        "print(re.findall(r\"[^A-Z]\", text))\n",
        "print(re.findall(r\"[^Ss]\", text))\n",
        "print(re.findall(r\"^Ss\", text))"
      ]
    },
    {
      "cell_type": "markdown",
      "metadata": {
        "id": "abhBiFMaH6cQ"
      },
      "source": [
        "## نمادهای جایگزینی و Pipe `|`\n",
        "- `groundhog|woodchuck` یکی از این دو\n",
        "- `[aA]|[bB]|[cC]` معادل `[abcABC]`\n"
      ]
    },
    {
      "cell_type": "code",
      "execution_count": 4,
      "metadata": {
        "colab": {
          "base_uri": "https://localhost:8080/"
        },
        "id": "QTqUvHN0H6cQ",
        "outputId": "e09dc049-0721-4342-ba2d-dd9b456b3e2d"
      },
      "outputs": [
        {
          "name": "stdout",
          "output_type": "stream",
          "text": [
            "['Woodchuck', 'groundhog']\n"
          ]
        }
      ],
      "source": [
        "text = \"Woodchuck and groundhog are the same!\"\n",
        "print(re.findall(r\"[Gg]roundhog|[Ww]oodchuck\", text))"
      ]
    },
    {
      "cell_type": "markdown",
      "metadata": {
        "id": "3UJSGrfrH6cQ"
      },
      "source": [
        "## تکرار: `?`, `*`, `+`, `.`\n",
        "- `colou?r` = color یا colour\n",
        "- `o+h` = حداقل یک o قبل از h\n",
        "- `oo*h` = هر تعداد o (حتی صفر)\n",
        "- `beg.n` = begin، begun، beg3n، ..."
      ]
    },
    {
      "cell_type": "code",
      "execution_count": 5,
      "metadata": {
        "colab": {
          "base_uri": "https://localhost:8080/"
        },
        "id": "gHTcL-FQH6cQ",
        "outputId": "a4f9734a-ac03-49d1-8ee4-bda1aec99fb8"
      },
      "outputs": [
        {
          "name": "stdout",
          "output_type": "stream",
          "text": [
            "['color', 'colour']\n",
            "['ooh', 'oh', 'oooh', 'oh']\n",
            "['ooh', 'oh', 'oooh', 'oh']\n",
            "['beg3n', 'begun', 'begin']\n"
          ]
        }
      ],
      "source": [
        "text = \"color colour ooh oh oooh! beg3n begun begin, oh jjjjh, hhh\"\n",
        "print(re.findall(r\"colou?r\", text))\n",
        "print(re.findall(r\"o+h\", text))\n",
        "print(re.findall(r\"oo*h\", text))\n",
        "print(re.findall(r\"beg.n\", text))"
      ]
    },
    {
      "cell_type": "markdown",
      "metadata": {
        "id": "Kj6rFIjGH6cQ"
      },
      "source": [
        "## مکان‌یابی با Anchors: `^` و `$`\n",
        "- `^` شروع خط یا رشته\n",
        "- `$` پایان خط یا رشته\n",
        "- `^[A-Z]` یعنی خطی که با حرف بزرگ شروع می‌شود\n",
        "- `\\.$` یعنی خطی که با نقطه پایان یافته است"
      ]
    },
    {
      "cell_type": "code",
      "execution_count": 9,
      "metadata": {
        "colab": {
          "base_uri": "https://localhost:8080/"
        },
        "id": "uQ4QYnneH6cQ",
        "outputId": "89742cfb-bfae-4010-b654-8fb6238a8e99"
      },
      "outputs": [
        {
          "name": "stdout",
          "output_type": "stream",
          "text": [
            "Starts with uppercase: The end.\n",
            "Ends with period: The end.\n",
            "Ends with period: 1 Hello.\n",
            "Starts with uppercase: Palo Alto!\n"
          ]
        },
        {
          "data": {
            "text/plain": [
              "(['The end.', '1 Hello.', 'Palo Alto!'], 'The end.\\n1 Hello.\\nPalo Alto!')"
            ]
          },
          "execution_count": 9,
          "metadata": {},
          "output_type": "execute_result"
        }
      ],
      "source": [
        "text = \"The end.\\n1 Hello.\\nPalo Alto!\"\n",
        "lines = text.splitlines()\n",
        "for line in lines:\n",
        "    if re.search(r\"^[A-Z]\", line):\n",
        "        print(\"Starts with uppercase:\", line)\n",
        "    if re.search(r\"\\.$\", line):\n",
        "        print(\"Ends with period:\", line)\n",
        "lines, text"
      ]
    },
    {
      "cell_type": "markdown",
      "metadata": {
        "id": "joBaVIiTH6cQ"
      },
      "source": [
        "## تمرین نهایی: پیدا کردن کلمه `the`\n",
        "- به شکل دقیق: `[^a-zA-Z][tT]he[^a-zA-Z]`\n",
        "- برای حذف تطابق اشتباه مانند theology یا other"
      ]
    },
    {
      "cell_type": "code",
      "execution_count": 7,
      "metadata": {
        "colab": {
          "base_uri": "https://localhost:8080/"
        },
        "id": "lmRYXP3UH6cQ",
        "outputId": "a195ee6a-275e-4308-cec1-5890d327c5ad"
      },
      "outputs": [
        {
          "name": "stdout",
          "output_type": "stream",
          "text": [
            "[' The ', ' the ', ' the ']\n"
          ]
        }
      ],
      "source": [
        "text = \"The quick brown fox jumps over the lazy dog. Then the theology lesson began.\"\n",
        "print(re.findall(r\"[^a-zA-Z][tT]he[^a-zA-Z]\", ' ' + text + ' '))"
      ]
    },
    {
      "cell_type": "markdown",
      "metadata": {
        "id": "JmQfYGrmH6cQ"
      },
      "source": [
        "## تمرین: تشخیص آدرس ایمیل با عبارات منظم\n",
        "یک مقدار متنی به نام `x` بگیرید و بررسی کنید که آیا این مقدار یک آدرس ایمیل معتبر است یا خیر.\n",
        "\n",
        "**راهنمایی:**\n",
        "- آدرس ایمیل می‌تواند شامل حروف، اعداد، نقطه (`.`)، آندرلاین (`_`) و dash (`-`) باشد.\n",
        "- باید دارای `@` و سپس یک دامنه مانند `gmail.com` یا `university.edu` باشد.\n",
        "- مثال: `example_user-42@gmail.com`\n"
      ]
    },
    {
      "cell_type": "code",
      "execution_count": null,
      "metadata": {
        "id": "tY1s31XXH6cR"
      },
      "outputs": [
        {
          "name": "stdout",
          "output_type": "stream",
          "text": [
            "not valid\n"
          ]
        },
        {
          "data": {
            "text/plain": [
              "'alienghasemigol192gm54654ailcom'"
            ]
          },
          "execution_count": 45,
          "metadata": {},
          "output_type": "execute_result"
        }
      ],
      "source": [
        "x = \"alien.ghasemigol192@gma5il.com\"\n",
        "if re.fullmatch(r\"^/w/._-+@\", x:\n",
        "    print(\"valid\")\n",
        "else:\n",
        "    print(\"not valid\")\n",
        "result"
      ]
    },
    {
      "cell_type": "code",
      "execution_count": 46,
      "metadata": {},
      "outputs": [
        {
          "name": "stdout",
          "output_type": "stream",
          "text": [
            "[]\n"
          ]
        }
      ],
      "source": [
        "print(re.findall(r\"@gmail.com$\" , x) or re.findall(r\"@university.edu$\" , x))"
      ]
    },
    {
      "cell_type": "code",
      "execution_count": 64,
      "metadata": {},
      "outputs": [
        {
          "name": "stdout",
          "output_type": "stream",
          "text": [
            "Valid: exam+ple@example.co50m\n",
            "Valid: user.name+tag+sorting@example.co.uk\n",
            "Invalid: invalid@.com\n",
            "Invalid: noatsign.com\n",
            "Invalid: name@domain\n"
          ]
        }
      ],
      "source": [
        "import re\n",
        "\n",
        "email_regex = re.compile(\n",
        "    r\"^[a-zA-Z0-9_.+-]+@[a-zA-Z0-9-]+\\.[a-zA-Z0-9-.]+$\"\n",
        ")\n",
        "\n",
        "# Example usage\n",
        "test_emails = [\n",
        "    \"exam+ple@example.co50m\",\n",
        "    \"user.name+tag+sorting@example.co.uk\",\n",
        "    \"invalid@.com\",\n",
        "    \"noatsign.com\",\n",
        "    \"name@domain\"\n",
        "]\n",
        "\n",
        "for email in test_emails:\n",
        "    if email_regex.match(email):\n",
        "        print(f\"Valid: {email}\")\n",
        "    else:\n",
        "        print(f\"Invalid: {email}\")\n"
      ]
    },
    {
      "cell_type": "code",
      "execution_count": null,
      "metadata": {},
      "outputs": [],
      "source": []
    }
  ],
  "metadata": {
    "colab": {
      "provenance": []
    },
    "kernelspec": {
      "display_name": "Python 3",
      "language": "python",
      "name": "python3"
    },
    "language_info": {
      "codemirror_mode": {
        "name": "ipython",
        "version": 3
      },
      "file_extension": ".py",
      "mimetype": "text/x-python",
      "name": "python",
      "nbconvert_exporter": "python",
      "pygments_lexer": "ipython3",
      "version": "3.13.5"
    }
  },
  "nbformat": 4,
  "nbformat_minor": 0
}
