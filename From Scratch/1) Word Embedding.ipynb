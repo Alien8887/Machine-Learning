{
 "cells": [
  {
   "cell_type": "markdown",
   "id": "cdfe5135f0b5b8c7",
   "metadata": {},
   "source": [
    "<center/>\n",
    "<h1>Word Embedding</h1>\n",
    "<h9>Amir Mohammad Fakhimi</h9>"
   ]
  },
  {
   "cell_type": "markdown",
   "id": "cf05344e2cded8c3",
   "metadata": {},
   "source": [
    "## WordNet"
   ]
  },
  {
   "cell_type": "markdown",
   "id": "1b39446a8c195d7c",
   "metadata": {},
   "source": [
    "WordNet is a large lexical database of English:\n",
    "- Synsets (sets of cognitive synonyms) group words by meaning.\n",
    "- Synsets are linked by semantic relations:\n",
    "    - Hypernyms (\"is-a\" relations, e.g. dog -> canine)\n",
    "    - Hyponyms (more specific terms, e.g. canine -> dog, wolf)\n",
    "    - Antonyms, meronyms (part-of), holonyms (whole-of), etc.\n",
    "- You can query definitions, example sentences, and compute simple semantic similarities (e.g. path similarity) between synsets.\n"
   ]
  },
  {
   "cell_type": "code",
   "execution_count": 1,
   "id": "initial_id",
   "metadata": {
    "ExecuteTime": {
     "end_time": "2025-08-03T01:30:09.111674Z",
     "start_time": "2025-08-03T01:30:09.052685Z"
    },
    "collapsed": true
   },
   "outputs": [],
   "source": [
    "import nltk\n",
    "# nltk.download(\"wordnet\")\n",
    "from nltk.corpus import wordnet as wn"
   ]
  },
  {
   "cell_type": "code",
   "execution_count": 2,
   "id": "864d58887625f64c",
   "metadata": {
    "ExecuteTime": {
     "end_time": "2025-08-03T01:47:16.403038Z",
     "start_time": "2025-08-03T01:47:16.399919Z"
    }
   },
   "outputs": [
    {
     "name": "stdout",
     "output_type": "stream",
     "text": [
      "Synsets of 'bank':\n",
      "  - bank.n.01            → sloping land (especially the slope beside a body of water)\n",
      "  - depository_financial_institution.n.01 → a financial institution that accepts deposits and channels the money into lending activities\n",
      "  - bank.n.03            → a long ridge or pile\n",
      "  - bank.n.04            → an arrangement of similar objects in a row or in tiers\n",
      "  - bank.n.05            → a supply or stock held in reserve for future use (especially in emergencies)\n",
      "  - bank.n.06            → the funds held by a gambling house or the dealer in some gambling games\n",
      "  - bank.n.07            → a slope in the turn of a road or track; the outside is higher than the inside in order to reduce the effects of centrifugal force\n",
      "  - savings_bank.n.02    → a container (usually with a slot in the top) for keeping money at home\n",
      "  - bank.n.09            → a building in which the business of banking transacted\n",
      "  - bank.n.10            → a flight maneuver; aircraft tips laterally about its longitudinal axis (especially in turning)\n",
      "  - bank.v.01            → tip laterally\n",
      "  - bank.v.02            → enclose with a bank\n",
      "  - bank.v.03            → do business with a bank or keep an account at a bank\n",
      "  - bank.v.04            → act as the banker in a game or in gambling\n",
      "  - bank.v.05            → be in the banking business\n",
      "  - deposit.v.02         → put into a bank account\n",
      "  - bank.v.07            → cover with ashes so to control the rate of burning\n",
      "  - trust.v.01           → have confidence or faith in\n"
     ]
    }
   ],
   "source": [
    "synsets = wn.synsets(\"bank\")\n",
    "print(\"Synsets of 'bank':\")\n",
    "for s in synsets:\n",
    "    print(f\"  - {s.name():20s} → {s.definition()}\")"
   ]
  },
  {
   "cell_type": "code",
   "execution_count": 3,
   "id": "44dfd9fc3158563",
   "metadata": {
    "ExecuteTime": {
     "end_time": "2025-08-03T01:47:17.425145Z",
     "start_time": "2025-08-03T01:47:17.422561Z"
    }
   },
   "outputs": [
    {
     "name": "stdout",
     "output_type": "stream",
     "text": [
      "Example Synonyms for bank.n.01:\n",
      "['bank']\n",
      "Examples: ['they pulled the canoe up on the bank', 'he sat on the bank of the river and watched the currents']\n"
     ]
    }
   ],
   "source": [
    "s0 = synsets[0]\n",
    "print(f\"Example Synonyms for {s0.name()}:\")\n",
    "print([lem.name() for lem in s0.lemmas()])\n",
    "print(\"Examples:\", s0.examples())"
   ]
  },
  {
   "cell_type": "code",
   "execution_count": 4,
   "id": "b86577ed632445d6",
   "metadata": {
    "ExecuteTime": {
     "end_time": "2025-08-03T01:47:21.835352Z",
     "start_time": "2025-08-03T01:47:21.833408Z"
    }
   },
   "outputs": [
    {
     "name": "stdout",
     "output_type": "stream",
     "text": [
      "Hypernyms of bank.n.01:\n",
      "  - slope.n.01 : an elevated geological formation\n"
     ]
    }
   ],
   "source": [
    "print(f\"Hypernyms of {s0.name()}:\")\n",
    "for h in s0.hypernyms():\n",
    "    print(\"  -\", h.name(), \":\", h.definition())"
   ]
  },
  {
   "cell_type": "code",
   "execution_count": 5,
   "id": "ef58aaa1f0bf351d",
   "metadata": {
    "ExecuteTime": {
     "end_time": "2025-08-03T01:47:24.344824Z",
     "start_time": "2025-08-03T01:47:24.342642Z"
    }
   },
   "outputs": [
    {
     "name": "stdout",
     "output_type": "stream",
     "text": [
      "Hyponyms of bank.n.01:\n",
      "  - riverbank.n.01 : the bank of a river\n",
      "  - waterside.n.01 : land bordering a body of water\n"
     ]
    }
   ],
   "source": [
    "print(f\"Hyponyms of {s0.name()}:\")\n",
    "for h in s0.hyponyms()[:5]:\n",
    "    print(\"  -\", h.name(), \":\", h.definition())"
   ]
  },
  {
   "cell_type": "code",
   "execution_count": 6,
   "id": "7c6256b2f9cc395b",
   "metadata": {
    "ExecuteTime": {
     "end_time": "2025-08-03T01:47:48.579964Z",
     "start_time": "2025-08-03T01:47:48.577269Z"
    }
   },
   "outputs": [
    {
     "name": "stdout",
     "output_type": "stream",
     "text": [
      "Path similarity between dog.n.01 and cat.n.01: 0.20\n"
     ]
    }
   ],
   "source": [
    "dog = wn.synset(\"dog.n.01\")\n",
    "cat = wn.synset(\"cat.n.01\")\n",
    "sim = dog.path_similarity(cat)\n",
    "print(f\"Path similarity between {dog.name()} and {cat.name()}: {sim:.2f}\")"
   ]
  },
  {
   "cell_type": "code",
   "execution_count": 7,
   "id": "86dac849fdefd051",
   "metadata": {
    "ExecuteTime": {
     "end_time": "2025-08-03T01:47:49.304726Z",
     "start_time": "2025-08-03T01:47:49.302035Z"
    }
   },
   "outputs": [
    {
     "name": "stdout",
     "output_type": "stream",
     "text": [
      "Path similarity between dog.n.01 and dog.n.01: 1.00\n"
     ]
    }
   ],
   "source": [
    "dog1 = wn.synset(\"dog.n.01\")\n",
    "dog2 = wn.synset(\"dog.n.01\")\n",
    "sim = dog1.path_similarity(dog2)\n",
    "print(f\"Path similarity between {dog1.name()} and {dog2.name()}: {sim:.2f}\")"
   ]
  },
  {
   "cell_type": "code",
   "execution_count": 8,
   "id": "6babc2baf653733c",
   "metadata": {
    "ExecuteTime": {
     "end_time": "2025-08-03T01:47:57.853414Z",
     "start_time": "2025-08-03T01:47:57.851076Z"
    }
   },
   "outputs": [
    {
     "name": "stdout",
     "output_type": "stream",
     "text": [
      "Antonyms of 'good': {'bad'}\n"
     ]
    }
   ],
   "source": [
    "good = wn.synset(\"good.a.01\")\n",
    "antonyms = set()\n",
    "for lemma in good.lemmas():\n",
    "    for ant in lemma.antonyms():\n",
    "        antonyms.add(ant.name())\n",
    "\n",
    "print(\"Antonyms of 'good':\", antonyms)"
   ]
  },
  {
   "cell_type": "markdown",
   "id": "df7dfb3bc285513a",
   "metadata": {},
   "source": [
    "## Word2Vec (Skip-Gram)"
   ]
  },
  {
   "cell_type": "markdown",
   "id": "eb5b644a6c3f428c",
   "metadata": {},
   "source": [
    "Rather than training from scratch, we can load a pre-trained Skip-Gram model (e.g. Google's News vectors)."
   ]
  },
  {
   "cell_type": "code",
   "execution_count": 13,
   "id": "d7da38cc9ec87c46",
   "metadata": {
    "ExecuteTime": {
     "end_time": "2025-08-03T01:36:45.400773Z",
     "start_time": "2025-08-03T01:36:44.522850Z"
    }
   },
   "outputs": [
    {
     "ename": "ModuleNotFoundError",
     "evalue": "No module named 'gensim'",
     "output_type": "error",
     "traceback": [
      "\u001b[31m---------------------------------------------------------------------------\u001b[39m",
      "\u001b[31mModuleNotFoundError\u001b[39m                       Traceback (most recent call last)",
      "\u001b[36mCell\u001b[39m\u001b[36m \u001b[39m\u001b[32mIn[13]\u001b[39m\u001b[32m, line 1\u001b[39m\n\u001b[32m----> \u001b[39m\u001b[32m1\u001b[39m \u001b[38;5;28;01mimport\u001b[39;00m\u001b[38;5;250m \u001b[39m\u001b[34;01mgensim\u001b[39;00m\u001b[34;01m.\u001b[39;00m\u001b[34;01mdownloader\u001b[39;00m\u001b[38;5;250m \u001b[39m\u001b[38;5;28;01mas\u001b[39;00m\u001b[38;5;250m \u001b[39m\u001b[34;01mapi\u001b[39;00m\n\u001b[32m      3\u001b[39m \u001b[38;5;28mprint\u001b[39m(\u001b[33m\"\u001b[39m\u001b[33mLoading pre-trained Word2Vec (Google News 300d)...\u001b[39m\u001b[33m\"\u001b[39m)\n\u001b[32m      4\u001b[39m model = api.load(\u001b[33m\"\u001b[39m\u001b[33mword2vec-google-news-300\u001b[39m\u001b[33m\"\u001b[39m)\n",
      "\u001b[31mModuleNotFoundError\u001b[39m: No module named 'gensim'"
     ]
    }
   ],
   "source": [
    "import gensim.downloader as api\n",
    "\n",
    "print(\"Loading pre-trained Word2Vec (Google News 300d)...\")\n",
    "model = api.load(\"word2vec-google-news-300\")"
   ]
  },
  {
   "cell_type": "code",
   "execution_count": 10,
   "id": "65d2836e12fdf20b",
   "metadata": {
    "ExecuteTime": {
     "end_time": "2025-08-03T01:48:07.294887Z",
     "start_time": "2025-08-03T01:48:07.292560Z"
    }
   },
   "outputs": [
    {
     "ename": "ModuleNotFoundError",
     "evalue": "No module named 'gensim'",
     "output_type": "error",
     "traceback": [
      "\u001b[31m---------------------------------------------------------------------------\u001b[39m",
      "\u001b[31mModuleNotFoundError\u001b[39m                       Traceback (most recent call last)",
      "\u001b[36mCell\u001b[39m\u001b[36m \u001b[39m\u001b[32mIn[10]\u001b[39m\u001b[32m, line 4\u001b[39m\n\u001b[32m      2\u001b[39m \u001b[38;5;66;03m# nltk.download(\"brown\")\u001b[39;00m\n\u001b[32m      3\u001b[39m \u001b[38;5;28;01mfrom\u001b[39;00m\u001b[38;5;250m \u001b[39m\u001b[34;01mnltk\u001b[39;00m\u001b[34;01m.\u001b[39;00m\u001b[34;01mcorpus\u001b[39;00m\u001b[38;5;250m \u001b[39m\u001b[38;5;28;01mimport\u001b[39;00m brown\n\u001b[32m----> \u001b[39m\u001b[32m4\u001b[39m \u001b[38;5;28;01mfrom\u001b[39;00m\u001b[38;5;250m \u001b[39m\u001b[34;01mgensim\u001b[39;00m\u001b[34;01m.\u001b[39;00m\u001b[34;01mmodels\u001b[39;00m\u001b[38;5;250m \u001b[39m\u001b[38;5;28;01mimport\u001b[39;00m Word2Vec\n",
      "\u001b[31mModuleNotFoundError\u001b[39m: No module named 'gensim'"
     ]
    }
   ],
   "source": [
    "import nltk\n",
    "# nltk.download(\"brown\")\n",
    "from nltk.corpus import brown\n",
    "from gensim.models import Word2Vec"
   ]
  },
  {
   "cell_type": "code",
   "execution_count": null,
   "id": "74d9746c758e9c6b",
   "metadata": {
    "ExecuteTime": {
     "end_time": "2025-08-03T01:48:17.083118Z",
     "start_time": "2025-08-03T01:48:17.072649Z"
    }
   },
   "outputs": [
    {
     "data": {
      "text/plain": [
       "['The',\n",
       " 'Fulton',\n",
       " 'County',\n",
       " 'Grand',\n",
       " 'Jury',\n",
       " 'said',\n",
       " 'Friday',\n",
       " 'an',\n",
       " 'investigation',\n",
       " 'of',\n",
       " \"Atlanta's\",\n",
       " 'recent',\n",
       " 'primary',\n",
       " 'election',\n",
       " 'produced',\n",
       " '``',\n",
       " 'no',\n",
       " 'evidence',\n",
       " \"''\",\n",
       " 'that',\n",
       " 'any',\n",
       " 'irregularities',\n",
       " 'took',\n",
       " 'place',\n",
       " '.']"
      ]
     },
     "execution_count": 36,
     "metadata": {},
     "output_type": "execute_result"
    }
   ],
   "source": [
    "# List of tokenized sentences\n",
    "sentences = brown.sents()\n",
    "sentences[0]"
   ]
  },
  {
   "cell_type": "code",
   "execution_count": 12,
   "id": "bdf6373c0ade40fc",
   "metadata": {
    "ExecuteTime": {
     "end_time": "2025-08-03T01:41:36.024166Z",
     "start_time": "2025-08-03T01:41:29.672131Z"
    }
   },
   "outputs": [
    {
     "ename": "NameError",
     "evalue": "name 'Word2Vec' is not defined",
     "output_type": "error",
     "traceback": [
      "\u001b[31m---------------------------------------------------------------------------\u001b[39m",
      "\u001b[31mNameError\u001b[39m                                 Traceback (most recent call last)",
      "\u001b[36mCell\u001b[39m\u001b[36m \u001b[39m\u001b[32mIn[12]\u001b[39m\u001b[32m, line 1\u001b[39m\n\u001b[32m----> \u001b[39m\u001b[32m1\u001b[39m model = \u001b[43mWord2Vec\u001b[49m(\n\u001b[32m      2\u001b[39m     sentences,\n\u001b[32m      3\u001b[39m     vector_size=\u001b[32m100\u001b[39m,  \u001b[38;5;66;03m# embedding dimensionality\u001b[39;00m\n\u001b[32m      4\u001b[39m     window=\u001b[32m5\u001b[39m,  \u001b[38;5;66;03m# context window\u001b[39;00m\n\u001b[32m      5\u001b[39m     min_count=\u001b[32m5\u001b[39m,  \u001b[38;5;66;03m# ignore infrequent words\u001b[39;00m\n\u001b[32m      6\u001b[39m     sg=\u001b[32m1\u001b[39m,  \u001b[38;5;66;03m# 1 = skip-gram; 0 = CBOW\u001b[39;00m\n\u001b[32m      7\u001b[39m     workers=\u001b[32m2\u001b[39m,\n\u001b[32m      8\u001b[39m     epochs=\u001b[32m5\u001b[39m\n\u001b[32m      9\u001b[39m )\n",
      "\u001b[31mNameError\u001b[39m: name 'Word2Vec' is not defined"
     ]
    }
   ],
   "source": [
    "model = Word2Vec(\n",
    "    sentences,\n",
    "    vector_size=100,  # embedding dimensionality\n",
    "    window=5,  # context window\n",
    "    min_count=5,  # ignore infrequent words\n",
    "    sg=1,  # 1 = skip-gram; 0 = CBOW\n",
    "    workers=2,\n",
    "    epochs=5\n",
    ")"
   ]
  },
  {
   "cell_type": "markdown",
   "id": "63359d498cf0cf88",
   "metadata": {},
   "source": [
    "- Find similar words via cosine similarity"
   ]
  },
  {
   "cell_type": "code",
   "execution_count": null,
   "id": "39b2c0fa70958719",
   "metadata": {
    "ExecuteTime": {
     "end_time": "2025-08-03T01:48:30.451442Z",
     "start_time": "2025-08-03T01:48:30.419909Z"
    }
   },
   "outputs": [
    {
     "name": "stdout",
     "output_type": "stream",
     "text": [
      "Top 8 words similar to 'government':\n",
      "  governments  -> 0.871\n",
      "  federal      -> 0.866\n",
      "  cooperation  -> 0.866\n",
      "  trade        -> 0.862\n",
      "  Communist    -> 0.858\n",
      "  assist       -> 0.852\n",
      "  financial    -> 0.852\n",
      "  union        -> 0.850\n"
     ]
    }
   ],
   "source": [
    "print(\"Top 8 words similar to 'government':\")\n",
    "for word, sim in model.wv.most_similar('government', topn=8):\n",
    "    print(f\"  {word:12s} -> {sim:.3f}\")"
   ]
  },
  {
   "cell_type": "markdown",
   "id": "889ed6a377e83f82",
   "metadata": {},
   "source": [
    "- Solve analogies (e.g. \"king – man + woman = queen\")"
   ]
  },
  {
   "cell_type": "code",
   "execution_count": null,
   "id": "969ea50c48bdf44e",
   "metadata": {
    "ExecuteTime": {
     "end_time": "2025-08-03T01:49:41.063366Z",
     "start_time": "2025-08-03T01:49:41.040855Z"
    }
   },
   "outputs": [
    {
     "name": "stdout",
     "output_type": "stream",
     "text": [
      "Analogy: king - man + woman =\n",
      "  singing      -> 0.829\n",
      "  Kowalski     -> 0.825\n",
      "  lover        -> 0.823\n",
      "  widowed      -> 0.822\n",
      "  uncle        -> 0.821\n"
     ]
    }
   ],
   "source": [
    "print(\"Analogy: king - man + woman =\")\n",
    "for word, sim in model.wv.most_similar(positive=[\"king\", \"woman\"], negative=[\"man\"], topn=5):\n",
    "    print(f\"  {word:12s} -> {sim:.3f}\")"
   ]
  },
  {
   "cell_type": "markdown",
   "id": "17528eabd04164ba",
   "metadata": {},
   "source": [
    "- Detect odd-one-out in a list of words"
   ]
  },
  {
   "cell_type": "code",
   "execution_count": null,
   "id": "e04625653ded306c",
   "metadata": {
    "ExecuteTime": {
     "end_time": "2025-08-03T01:52:53.221150Z",
     "start_time": "2025-08-03T01:52:53.218624Z"
    }
   },
   "outputs": [
    {
     "name": "stdout",
     "output_type": "stream",
     "text": [
      "Odd one out in ['breakfast', 'cereal', 'dinner', 'lunch']: cereal\n"
     ]
    }
   ],
   "source": [
    "words = [\"breakfast\", \"cereal\", \"dinner\", \"lunch\"]\n",
    "odd = model.wv.doesnt_match(words)\n",
    "print(f\"Odd one out in {words}: {odd}\")"
   ]
  },
  {
   "cell_type": "markdown",
   "id": "d885aaa827f2be40",
   "metadata": {},
   "source": [
    "- Project high-dimensional embeddings into 2D for visualization"
   ]
  },
  {
   "cell_type": "code",
   "execution_count": null,
   "id": "6477a5930fdfaa2b",
   "metadata": {
    "ExecuteTime": {
     "end_time": "2025-08-03T01:56:57.414675Z",
     "start_time": "2025-08-03T01:56:57.410516Z"
    }
   },
   "outputs": [
    {
     "data": {
      "text/plain": [
       "(8, 100)"
      ]
     },
     "execution_count": 45,
     "metadata": {},
     "output_type": "execute_result"
    }
   ],
   "source": [
    "from sklearn.decomposition import PCA\n",
    "import matplotlib.pyplot as plt\n",
    "\n",
    "targets = [\"king\", \"queen\", \"man\", \"woman\", \"government\", \"law\", \"people\", \"society\"]\n",
    "vectors = [model.wv[w] for w in targets]\n",
    "\n",
    "len(vectors), len(vectors[0])"
   ]
  },
  {
   "cell_type": "code",
   "execution_count": null,
   "id": "d504cf8b59dcb95f",
   "metadata": {
    "ExecuteTime": {
     "end_time": "2025-08-03T01:57:31.010522Z",
     "start_time": "2025-08-03T01:57:30.945043Z"
    }
   },
   "outputs": [
    {
     "data": {
      "image/png": "[encoded data removed]",
      "text/plain": [
       "<Figure size 600x600 with 1 Axes>"
      ]
     },
     "metadata": {},
     "output_type": "display_data"
    }
   ],
   "source": [
    "coords = PCA(n_components=2).fit_transform(vectors)\n",
    "\n",
    "plt.figure(figsize=(6, 6))\n",
    "for (x, y), w in zip(coords, targets):\n",
    "    plt.scatter(x, y)\n",
    "    plt.text(x + 0.02, y + 0.02, w)\n",
    "\n",
    "plt.title(\"PCA Projection of Skip-Gram Embeddings\")\n",
    "plt.xlabel(\"PC1\")\n",
    "plt.ylabel(\"PC2\")\n",
    "plt.show()"
   ]
  },
  {
   "cell_type": "markdown",
   "id": "3ec3d81b3c01530b",
   "metadata": {},
   "source": [
    "## FastText (Embedding & Classification)"
   ]
  },
  {
   "cell_type": "markdown",
   "id": "8b36f3e24a86c69c",
   "metadata": {},
   "source": [
    "### Embedding"
   ]
  },
  {
   "cell_type": "code",
   "execution_count": null,
   "id": "9398fe3dbaca2e46",
   "metadata": {},
   "outputs": [],
   "source": [
    "import nltk\n",
    "# nltk.download('brown')\n",
    "from nltk.corpus import brown\n",
    "from gensim.models import FastText"
   ]
  },
  {
   "cell_type": "code",
   "execution_count": null,
   "id": "207469f07eb697df",
   "metadata": {
    "ExecuteTime": {
     "end_time": "2025-08-03T02:01:36.899418Z",
     "start_time": "2025-08-03T02:01:26.053362Z"
    }
   },
   "outputs": [],
   "source": [
    "sentences = brown.sents()\n",
    "\n",
    "ft_model = FastText(\n",
    "    sentences,\n",
    "    vector_size=100,  # embed dim\n",
    "    window=5,\n",
    "    min_count=5,\n",
    "    sg=1,  # skip-gram\n",
    "    workers=2,\n",
    "    epochs=5,\n",
    "    min_n=3,  # min n-gram length\n",
    "    max_n=6  # max n-gram length\n",
    ")"
   ]
  },
  {
   "cell_type": "code",
   "execution_count": null,
   "id": "c95cb78db9080bc5",
   "metadata": {
    "ExecuteTime": {
     "end_time": "2025-08-03T02:02:29.111075Z",
     "start_time": "2025-08-03T02:02:29.075856Z"
    }
   },
   "outputs": [
    {
     "name": "stdout",
     "output_type": "stream",
     "text": [
      "Similar to 'government': [\"government's\", 'governmental', 'Government', 'governments', \"Government's\"]\n"
     ]
    }
   ],
   "source": [
    "print(\"Similar to 'government':\",\n",
    "      [w for w, _ in ft_model.wv.most_similar('government', topn=5)])"
   ]
  },
  {
   "cell_type": "code",
   "execution_count": null,
   "id": "cb3449eead373d1f",
   "metadata": {
    "ExecuteTime": {
     "end_time": "2025-08-03T02:02:52.694406Z",
     "start_time": "2025-08-03T02:02:52.662517Z"
    }
   },
   "outputs": [
    {
     "name": "stdout",
     "output_type": "stream",
     "text": [
      "Similar to 'autonomously': ['Simultaneously', 'simultaneously', 'monopoly', 'spontaneously', 'enormously']\n",
      "OOV example ('autonomously'): [-0.0654056   0.17173518  0.02719571 -0.15349327  0.08932694] … (first 5 dims)\n"
     ]
    }
   ],
   "source": [
    "print(\"Similar to 'autonomously':\",\n",
    "      [w for w, _ in ft_model.wv.most_similar('autonomously', topn=5)])\n",
    "\n",
    "print(\"OOV example ('autonomously'):\",\n",
    "      ft_model.wv['autonomously'][:5], \"... (first 5 dims)\")"
   ]
  },
  {
   "cell_type": "markdown",
   "id": "2dfd0fe4bbb6fe39",
   "metadata": {},
   "source": [
    "### Classification"
   ]
  },
  {
   "cell_type": "code",
   "execution_count": null,
   "id": "e15b2af307814fba",
   "metadata": {
    "ExecuteTime": {
     "end_time": "2025-08-03T02:04:53.825412Z",
     "start_time": "2025-08-03T02:04:52.306552Z"
    }
   },
   "outputs": [],
   "source": [
    "import fasttext\n",
    "from sklearn.datasets import fetch_20newsgroups"
   ]
  },
  {
   "cell_type": "markdown",
   "id": "d99c79cd84ee58e9",
   "metadata": {},
   "source": [
    "The dataset comprises roughly 20,000 postings from 20 different Usenet newsgroups. In the example we use the following categories:\n",
    "- `comp.graphics`: discussions about computer graphics\n",
    "- `sci.med`: discussions about medical science"
   ]
  },
  {
   "cell_type": "code",
   "execution_count": null,
   "id": "f9ab73ada288f8b",
   "metadata": {
    "ExecuteTime": {
     "end_time": "2025-08-03T04:00:05.102710Z",
     "start_time": "2025-08-03T04:00:04.320705Z"
    }
   },
   "outputs": [],
   "source": [
    "# Prepare a small binary task: comp.graphics vs. sci.med\n",
    "categories = ['comp.graphics', 'sci.med']\n",
    "train = fetch_20newsgroups(subset='train', categories=categories, remove=('headers', 'footers', 'quotes'))\n",
    "test = fetch_20newsgroups(subset='test', categories=categories, remove=('headers', 'footers', 'quotes'))"
   ]
  },
  {
   "cell_type": "code",
   "execution_count": null,
   "id": "6036aaed0f6ed664",
   "metadata": {
    "ExecuteTime": {
     "end_time": "2025-08-03T04:09:14.464302Z",
     "start_time": "2025-08-03T04:09:14.461333Z"
    }
   },
   "outputs": [
    {
     "data": {
      "text/plain": [
       "(1178, 785)"
      ]
     },
     "execution_count": 74,
     "metadata": {},
     "output_type": "execute_result"
    }
   ],
   "source": [
    "len(train.data), len(test.data)"
   ]
  },
  {
   "cell_type": "code",
   "execution_count": null,
   "id": "5059da23410fb89",
   "metadata": {
    "ExecuteTime": {
     "end_time": "2025-08-03T04:05:43.681112Z",
     "start_time": "2025-08-03T04:05:43.679181Z"
    }
   },
   "outputs": [
    {
     "data": {
      "text/plain": [
       "'\\n\\tIt depends on what kind of the polygons. \\n\\tConvex - simple, concave - trouble, concave with loop(s)\\n\\tinside - big trouble.\\n\\n\\tOf cause, you can use the box test to avoid checking\\n\\teach edges. According to my experience, there is not\\n\\ta simple way to go. The headache stuff is to deal with\\n\\tthe special cases, for example, the overlapped lines.'"
      ]
     },
     "execution_count": 65,
     "metadata": {},
     "output_type": "execute_result"
    }
   ],
   "source": [
    "train.data[0]"
   ]
  },
  {
   "cell_type": "code",
   "execution_count": null,
   "id": "774b6c6f0370e52b",
   "metadata": {
    "ExecuteTime": {
     "end_time": "2025-08-03T04:06:02.109461Z",
     "start_time": "2025-08-03T04:06:02.107377Z"
    }
   },
   "outputs": [
    {
     "data": {
      "text/plain": [
       "(0, 'comp.graphics')"
      ]
     },
     "execution_count": 67,
     "metadata": {},
     "output_type": "execute_result"
    }
   ],
   "source": [
    "train.target[0], train.target_names[0]"
   ]
  },
  {
   "cell_type": "code",
   "execution_count": null,
   "id": "c463ea78a6f73488",
   "metadata": {
    "ExecuteTime": {
     "end_time": "2025-08-03T04:00:56.772417Z",
     "start_time": "2025-08-03T04:00:56.762816Z"
    }
   },
   "outputs": [],
   "source": [
    "def write_fasttext_file(split, data, targets, target_names, fname):\n",
    "    with open(fname, 'w') as f:\n",
    "        for text, t in zip(data, targets):\n",
    "            label = target_names[t].replace('.', '_')  # no dots in labels\n",
    "            line = f\"__label__{label} {text.replace(chr(10), ' ')}\\n\"\n",
    "            f.write(line)\n",
    "\n",
    "\n",
    "write_fasttext_file('train', train.data, train.target, train.target_names, 'ft_train.txt')\n",
    "write_fasttext_file('test', test.data, test.target, test.target_names, 'ft_test.txt')"
   ]
  },
  {
   "cell_type": "code",
   "execution_count": null,
   "id": "3124abe5ff76a71c",
   "metadata": {
    "ExecuteTime": {
     "end_time": "2025-08-03T04:06:49.998586Z",
     "start_time": "2025-08-03T04:06:49.675197Z"
    }
   },
   "outputs": [],
   "source": [
    "clf = fasttext.train_supervised(\n",
    "    input='ft_train.txt',\n",
    "    epoch=5,\n",
    "    lr=1.0,\n",
    "    wordNgrams=2,\n",
    "    verbose=0\n",
    ")"
   ]
  },
  {
   "cell_type": "markdown",
   "id": "4fea41717a17af75",
   "metadata": {},
   "source": [
    "Here's what each element of the tuple represents:\n",
    "\n",
    "- **785:** The total number of examples evaluated in `ft_test.txt`.\n",
    "- **0.7375796... (second element):** Precision@1 – the fraction of our model's top-1 predictions that were correct (i.e. among the 785 predictions, about 73.8% matched the true labels).\n",
    "- **0.7375796… (third element):** Recall@1 – the fraction of true labels that appeared in your model's top-1 predictions.\n",
    "\n",
    "For single-label classification at k=1, precision@1 and recall@1 coincide."
   ]
  },
  {
   "cell_type": "code",
   "execution_count": null,
   "id": "d999e71ef7b7ef49",
   "metadata": {
    "ExecuteTime": {
     "end_time": "2025-08-03T04:06:52.195252Z",
     "start_time": "2025-08-03T04:06:52.146778Z"
    }
   },
   "outputs": [
    {
     "name": "stdout",
     "output_type": "stream",
     "text": [
      "Test results: (785, 0.7375796178343949, 0.7375796178343949)\n"
     ]
    }
   ],
   "source": [
    "print(\"Test results:\", clf.test('ft_test.txt'))"
   ]
  },
  {
   "cell_type": "code",
   "execution_count": null,
   "id": "3706f08c48a77a4e",
   "metadata": {
    "ExecuteTime": {
     "end_time": "2025-08-03T04:07:02.514355Z",
     "start_time": "2025-08-03T04:07:02.511383Z"
    }
   },
   "outputs": [
    {
     "name": "stdout",
     "output_type": "stream",
     "text": [
      "Rendering 3D computer graphics is comput…  → __label__comp_graphics (0.76)\n",
      "The patient was prescribed antibiotics f…  → __label__comp_graphics (0.87)\n"
     ]
    }
   ],
   "source": [
    "for txt in [\n",
    "    \"Rendering 3D computer graphics is computationally intensive.\",\n",
    "    \"The patient was prescribed antibiotics for infection.\"\n",
    "]:\n",
    "    label, prob = clf.predict(txt)\n",
    "    print(f\"{txt[:40]}...  -> {label[0]} ({prob[0]:.2f})\")"
   ]
  },
  {
   "cell_type": "markdown",
   "id": "b0f88b8aa8837562",
   "metadata": {},
   "source": [
    "## TF–IDF Calculation"
   ]
  },
  {
   "cell_type": "code",
   "execution_count": null,
   "id": "438682c561f49f05",
   "metadata": {
    "ExecuteTime": {
     "end_time": "2025-08-03T04:19:12.453594Z",
     "start_time": "2025-08-03T04:19:12.451925Z"
    }
   },
   "outputs": [],
   "source": [
    "from sklearn.datasets import fetch_20newsgroups\n",
    "from sklearn.feature_extraction.text import TfidfVectorizer\n",
    "import numpy as np"
   ]
  },
  {
   "cell_type": "code",
   "execution_count": null,
   "id": "1843cdfd01c8ef49",
   "metadata": {
    "ExecuteTime": {
     "end_time": "2025-08-03T04:14:12.388681Z",
     "start_time": "2025-08-03T04:14:11.888656Z"
    }
   },
   "outputs": [],
   "source": [
    "newsgroups = fetch_20newsgroups(\n",
    "    subset='train',\n",
    "    categories=['comp.graphics', 'sci.med'],\n",
    "    remove=('headers', 'footers', 'quotes')\n",
    ")\n",
    "\n",
    "docs = newsgroups.data\n",
    "labels = newsgroups.target\n",
    "target_names = newsgroups.target_names"
   ]
  },
  {
   "cell_type": "code",
   "execution_count": null,
   "id": "c2a3f2117411f58e",
   "metadata": {
    "ExecuteTime": {
     "end_time": "2025-08-03T04:14:56.139365Z",
     "start_time": "2025-08-03T04:14:56.070936Z"
    }
   },
   "outputs": [],
   "source": [
    "vectorizer = TfidfVectorizer(\n",
    "    stop_words='english',  # remove English stop-words\n",
    "    max_df=0.7,  # ignore terms in >70% of docs\n",
    "    min_df=5  # ignore terms in <5 docs\n",
    ")\n",
    "\n",
    "X_tfidf = vectorizer.fit_transform(docs)"
   ]
  },
  {
   "cell_type": "markdown",
   "id": "24f822bfb8bc6f73",
   "metadata": {},
   "source": [
    "`feature_names` is a NumPy array of all the vocabulary terms (i.e. features) that the `TfidfVectorizer` learned from your corpus. Each entry corresponds to one column of the TF–IDF matrix, so you can map from column indices back to the actual token strings. For example, here, `feature_names[0] == '00'` means column 0 of `X_tfidf` holds the TF–IDF scores for the term `\"00\"`."
   ]
  },
  {
   "cell_type": "code",
   "execution_count": null,
   "id": "33e792103a9ec879",
   "metadata": {
    "ExecuteTime": {
     "end_time": "2025-08-03T04:15:00.262823Z",
     "start_time": "2025-08-03T04:15:00.258257Z"
    }
   },
   "outputs": [
    {
     "data": {
      "text/plain": [
       "array(['00', '000', '01', ..., 'zealand', 'zero', 'zip'], dtype=object)"
      ]
     },
     "execution_count": 79,
     "metadata": {},
     "output_type": "execute_result"
    }
   ],
   "source": [
    "feature_names = vectorizer.get_feature_names_out()\n",
    "feature_names"
   ]
  },
  {
   "cell_type": "code",
   "execution_count": null,
   "id": "18b0bdd7564610a9",
   "metadata": {
    "ExecuteTime": {
     "end_time": "2025-08-03T04:15:12.918008Z",
     "start_time": "2025-08-03T04:15:12.916238Z"
    }
   },
   "outputs": [
    {
     "name": "stdout",
     "output_type": "stream",
     "text": [
      "TF–IDF matrix shape: (1178, 3218)\n"
     ]
    }
   ],
   "source": [
    "print(\"TF–IDF matrix shape:\", X_tfidf.shape)"
   ]
  },
  {
   "cell_type": "code",
   "execution_count": null,
   "id": "5618335d12d4d549",
   "metadata": {
    "ExecuteTime": {
     "end_time": "2025-08-03T04:18:28.085888Z",
     "start_time": "2025-08-03T04:18:28.083435Z"
    }
   },
   "outputs": [
    {
     "name": "stdout",
     "output_type": "stream",
     "text": [
      "Sample IDF scores:\n",
      "  00              -> 5.028\n",
      "  000             -> 4.894\n",
      "  01              -> 5.770\n",
      "  03              -> 5.875\n",
      "  04              -> 5.588\n",
      "  05              -> 5.993\n",
      "  06              -> 6.127\n",
      "  10              -> 4.012\n",
      "  100             -> 4.638\n",
      "  1000            -> 5.875\n"
     ]
    }
   ],
   "source": [
    "# Inspect global IDF scores for a few terms\n",
    "print(\"Sample IDF scores:\")\n",
    "for term, idf in zip(feature_names[:10], vectorizer.idf_[:10]):\n",
    "    print(f\"  {term:15s} -> {idf:.3f}\")"
   ]
  },
  {
   "cell_type": "markdown",
   "id": "207d366bfaf34af9",
   "metadata": {},
   "source": [
    "What is the score?\n",
    "- By default `TfidfVectorizer` uses the raw count of `t` in `d` (we can enable sublinear TF with `sublinear_tf=True`, which uses 1 + log(tf) instead).\n",
    "- By default columns are scaled so that each document vector has Euclidean (L2) norm 1."
   ]
  },
  {
   "cell_type": "code",
   "execution_count": null,
   "id": "918115ed80b41f2b",
   "metadata": {
    "ExecuteTime": {
     "end_time": "2025-08-03T04:19:43.005418Z",
     "start_time": "2025-08-03T04:19:43.001862Z"
    }
   },
   "outputs": [
    {
     "name": "stdout",
     "output_type": "stream",
     "text": [
      "Top terms in document #0:\n",
      "  trouble         -> 0.372\n",
      "  simple          -> 0.324\n",
      "  loop            -> 0.241\n",
      "  convex          -> 0.230\n",
      "  depends         -> 0.214\n",
      "  polygons        -> 0.211\n",
      "  edges           -> 0.206\n",
      "  according       -> 0.206\n",
      "  headache        -> 0.203\n",
      "  inside          -> 0.195\n"
     ]
    }
   ],
   "source": [
    "# View top-weighted terms for a single document\n",
    "doc_index = 0\n",
    "doc_vector = X_tfidf[doc_index]\n",
    "\n",
    "# get (term_index, score) pairs and sort by score descending\n",
    "tuples = zip(doc_vector.indices, doc_vector.data)\n",
    "sorted_terms = sorted(tuples, key=lambda x: -x[1])\n",
    "\n",
    "print(f\"Top terms in document #{doc_index}:\")\n",
    "for term_idx, score in sorted_terms[:10]:\n",
    "    print(f\"  {feature_names[term_idx]:15s} -> {score:.3f}\")"
   ]
  },
  {
   "cell_type": "markdown",
   "id": "22ec205739bfd246",
   "metadata": {},
   "source": [
    "# Task: Comparing Word2Vec vs. fastText Embeddings"
   ]
  },
  {
   "cell_type": "markdown",
   "id": "e070d74e3da47b99",
   "metadata": {},
   "source": [
    "See how Skip-Gram Word2Vec and subword-aware fastText differ in (1) nearest-neighbor quality and (2) handling OOV/morphological variants."
   ]
  },
  {
   "cell_type": "markdown",
   "id": "d238f6b2bba7997a",
   "metadata": {},
   "source": [
    "Task Description:\n",
    "1. Train both models on the same corpus (e.g. Brown).\n",
    "2. Use a mix of \"frequent words\" and \"Rare/morphologically varied words\".\n",
    "3. For each word, retrieve the top-5 most similar words from each model.\n",
    "4. Tabulate and compare:\n",
    "    - Which neighbors overlap?\n",
    "    - Which model returns more sensible neighbors for OOV/morphological forms?\n",
    "5. Visualize the two sets of neighbors in 2D (PCA or t-SNE) to see clustering differences."
   ]
  },
  {
   "cell_type": "code",
   "execution_count": null,
   "id": "89d4eebb3b265c35",
   "metadata": {
    "ExecuteTime": {
     "end_time": "2025-08-03T04:33:46.289154Z",
     "start_time": "2025-08-03T04:33:46.287302Z"
    }
   },
   "outputs": [],
   "source": [
    "import nltk\n",
    "# nltk.download('brown')\n",
    "from nltk.corpus import brown\n",
    "from gensim.models import Word2Vec, FastText\n",
    "from sklearn.decomposition import PCA\n",
    "import matplotlib.pyplot as plt"
   ]
  },
  {
   "cell_type": "code",
   "execution_count": null,
   "id": "a6eb50b5c0e85aca",
   "metadata": {
    "ExecuteTime": {
     "end_time": "2025-08-03T04:31:44.576362Z",
     "start_time": "2025-08-03T04:31:44.567882Z"
    }
   },
   "outputs": [],
   "source": [
    "sentences = brown.sents()"
   ]
  },
  {
   "cell_type": "code",
   "execution_count": null,
   "id": "8aff0f66667cf2ba",
   "metadata": {
    "ExecuteTime": {
     "end_time": "2025-08-03T04:32:10.574402Z",
     "start_time": "2025-08-03T04:31:52.483724Z"
    }
   },
   "outputs": [],
   "source": [
    "# Train Word2Vec (Skip-Gram)\n",
    "w2v = Word2Vec(\n",
    "    sentences,\n",
    "    vector_size=100,\n",
    "    window=5,\n",
    "    min_count=5,\n",
    "    sg=1,\n",
    "    workers=2,\n",
    "    epochs=5\n",
    ")\n",
    "\n",
    "# Train fastText (Skip-Gram + subwords)\n",
    "ft = FastText(\n",
    "    sentences,\n",
    "    vector_size=100,\n",
    "    window=5,\n",
    "    min_count=5,\n",
    "    sg=1,\n",
    "    workers=2,\n",
    "    epochs=5,\n",
    "    min_n=3,\n",
    "    max_n=6\n",
    ")"
   ]
  },
  {
   "cell_type": "code",
   "execution_count": null,
   "id": "ccfad42b252ec13a",
   "metadata": {
    "ExecuteTime": {
     "end_time": "2025-08-03T04:32:22.268943Z",
     "start_time": "2025-08-03T04:32:22.267134Z"
    }
   },
   "outputs": [],
   "source": [
    "test_words = [\n",
    "    'government', 'computer',\n",
    "    'automobile', 'automobiles',\n",
    "    'autonomously', 'runner'\n",
    "]"
   ]
  },
  {
   "cell_type": "markdown",
   "id": "a8ccf7d601f126bf",
   "metadata": {},
   "source": [
    "When we train a plain Word2Vec model on your corpus, its vocabulary is fixed to the words it saw during training. If we ask for `model.wv.most_similar('some_new_word')` and `'some_new_word'` wasn't in that vocab, Gensim will raise a `KeyError`.\n",
    "\n",
    "We catch that `KeyError` and return `[\"<OOV>\"]` to signal that the queried word was out-of-vocabulary (OOV) for this Word2Vec model.\n",
    "\n",
    "In contrast, fastText can still produce an embedding (and thus neighbors) for unseen words by composing them from character n-grams, so it won't hit that exception."
   ]
  },
  {
   "cell_type": "code",
   "execution_count": null,
   "id": "46151d7ce1329a63",
   "metadata": {
    "ExecuteTime": {
     "end_time": "2025-08-03T04:32:45.738961Z",
     "start_time": "2025-08-03T04:32:45.736567Z"
    }
   },
   "outputs": [],
   "source": [
    "def top_neighbors(model, word, topn=5):\n",
    "    try:\n",
    "        return [w for w, _ in model.wv.most_similar(word, topn=topn)]\n",
    "    except KeyError:\n",
    "        return [\"<OOV>\"]  # Word2Vec may not have OOV"
   ]
  },
  {
   "cell_type": "code",
   "execution_count": null,
   "id": "334927e0b4cf1725",
   "metadata": {
    "ExecuteTime": {
     "end_time": "2025-08-03T04:32:56.581266Z",
     "start_time": "2025-08-03T04:32:56.513850Z"
    }
   },
   "outputs": [],
   "source": [
    "results = {}\n",
    "for w in test_words:\n",
    "    results[w] = {\n",
    "        'Word2Vec': top_neighbors(w2v, w),\n",
    "        'fastText': top_neighbors(ft, w)\n",
    "    }"
   ]
  },
  {
   "cell_type": "code",
   "execution_count": null,
   "id": "cf1e68682e318f54",
   "metadata": {
    "ExecuteTime": {
     "end_time": "2025-08-03T04:33:15.966675Z",
     "start_time": "2025-08-03T04:33:15.963759Z"
    }
   },
   "outputs": [
    {
     "name": "stdout",
     "output_type": "stream",
     "text": [
      "- 'government'\n",
      "  + Word2Vec: ['governments', 'cooperation', 'trade', 'federal', 'Communist']\n",
      "  + fastText: [\"government's\", 'governmental', 'Government', 'governments', \"Government's\"]\n",
      "- 'computer'\n",
      "  + Word2Vec: ['potentially', 'flows', 'photo', 'Ruling', 'magnified']\n",
      "  + fastText: ['compute', 'compiler', 'compulsory', 'amplifier', 'compact']\n",
      "- 'automobile'\n",
      "  + Word2Vec: ['undergraduate', 'African', 'oysters', 'Vientiane', 'declining']\n",
      "  + fastText: ['Automobile', 'automobiles', 'Mobile', 'mobile', 'etcetera']\n",
      "- 'automobiles'\n",
      "  + Word2Vec: ['congestion', 'slum', 'designers', 'elementary', 'compulsive']\n",
      "  + fastText: ['automobile', 'Guideposts', 'scandals', 'missiles', 'Automobile']\n",
      "- 'autonomously'\n",
      "  + Word2Vec: ['<OOV>']\n",
      "  + fastText: ['Simultaneously', 'monopoly', 'simultaneously', 'spontaneously', 'enormously']\n",
      "- 'runner'\n",
      "  + Word2Vec: ['<OOV>']\n",
      "  + fastText: ['honeymoon', 'winner', 'Turner', 'kidney', 'ballplayer']\n"
     ]
    }
   ],
   "source": [
    "for w, res in results.items():\n",
    "    print(f\"- '{w}'\")\n",
    "    print(\"  + Word2Vec:\", res['Word2Vec'])\n",
    "    print(\"  + fastText:\", res['fastText'])"
   ]
  },
  {
   "cell_type": "code",
   "execution_count": null,
   "id": "76d5a9e20adbf1aa",
   "metadata": {
    "ExecuteTime": {
     "end_time": "2025-08-03T04:34:18.220559Z",
     "start_time": "2025-08-03T04:34:18.218145Z"
    }
   },
   "outputs": [],
   "source": [
    "all_words = set(test_words)\n",
    "\n",
    "for res in results.values():\n",
    "    all_words.update(res['Word2Vec'])\n",
    "    all_words.update(res['fastText'])\n",
    "\n",
    "all_words = [w for w in all_words if w not in {\"<OOV>\"}]"
   ]
  },
  {
   "cell_type": "code",
   "execution_count": null,
   "id": "4e4805a23467fc66",
   "metadata": {
    "ExecuteTime": {
     "end_time": "2025-08-03T04:34:44.430596Z",
     "start_time": "2025-08-03T04:34:44.427868Z"
    }
   },
   "outputs": [],
   "source": [
    "vecs = []\n",
    "labels = []\n",
    "\n",
    "for w in all_words:\n",
    "    if w in w2v.wv and w in ft.wv:\n",
    "        vecs.append((w, w2v.wv[w], ft.wv[w]))\n",
    "        labels.append(w)"
   ]
  },
  {
   "cell_type": "code",
   "execution_count": null,
   "id": "5431074f4722269c",
   "metadata": {
    "ExecuteTime": {
     "end_time": "2025-08-03T04:35:32.617469Z",
     "start_time": "2025-08-03T04:35:32.559698Z"
    }
   },
   "outputs": [],
   "source": [
    "words, w2v_vecs, ft_vecs = zip(*vecs)\n",
    "\n",
    "coords_w2v = PCA(n_components=2).fit_transform(w2v_vecs)\n",
    "coords_ft = PCA(n_components=2).fit_transform(ft_vecs)"
   ]
  },
  {
   "cell_type": "code",
   "execution_count": null,
   "id": "34d8c0131c3276a0",
   "metadata": {
    "ExecuteTime": {
     "end_time": "2025-08-03T04:35:55.610118Z",
     "start_time": "2025-08-03T04:35:55.287433Z"
    }
   },
   "outputs": [
    {
     "data": {
      "image/png": "[encoded data removed]",
      "text/plain": [
       "<Figure size 1200x500 with 2 Axes>"
      ]
     },
     "metadata": {},
     "output_type": "display_data"
    }
   ],
   "source": [
    "plt.figure(figsize=(12, 5))\n",
    "\n",
    "for i, (coords, title) in enumerate([(coords_w2v, 'Word2Vec'), (coords_ft, 'fastText')], 1):\n",
    "    plt.subplot(1, 2, i)\n",
    "    for (x, y), label in zip(coords, words):\n",
    "        plt.scatter(x, y)\n",
    "        plt.text(x + 0.02, y + 0.02, label, fontsize=8)\n",
    "\n",
    "    plt.title(f\"2D PCA of {title} Embeddings\")\n",
    "    plt.xlabel(\"PC1\")\n",
    "    plt.ylabel(\"PC2\")\n",
    "\n",
    "plt.tight_layout()\n",
    "plt.show()"
   ]
  },
  {
   "cell_type": "code",
   "execution_count": null,
   "id": "c5ce307fc4a0b31a",
   "metadata": {},
   "outputs": [],
   "source": []
  }
 ],
 "metadata": {
  "kernelspec": {
   "display_name": "Python 3",
   "language": "python",
   "name": "python3"
  },
  "language_info": {
   "codemirror_mode": {
    "name": "ipython",
    "version": 3
   },
   "file_extension": ".py",
   "mimetype": "text/x-python",
   "name": "python",
   "nbconvert_exporter": "python",
   "pygments_lexer": "ipython3",
   "version": "3.13.5"
  }
 },
 "nbformat": 4,
 "nbformat_minor": 5
}
