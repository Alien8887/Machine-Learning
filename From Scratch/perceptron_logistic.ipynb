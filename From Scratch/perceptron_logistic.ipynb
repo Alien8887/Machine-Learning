{
 "cells": [
  {
   "cell_type": "markdown",
   "metadata": {},
   "source": [
    "<div dir=\"rtl\">\n",
    "\n",
    "# پرسپترون و رگرسیون لجستیک\n",
    "\n",
    "در این نوتبوک، ما دو الگوریتم اساسی در یادگیری ماشین برای مسائل طبقه‌بندی (Classification) را بررسی و پیاده‌سازی خواهیم کرد: **پرسپترون** و **رگرسیون لجستیک**.\n",
    "\n",
    "هدف این است که با مفاهیم تئوری و نحوه پیاده‌سازی عملی این دو الگوریتم آشنا شویم. این نوتبوک به گونه‌ای طراحی شده که برای افراد مبتدی که با مبانی نظری آشنا هستند اما تجربه عملی کمی دارند، مفید باشد.\n",
    "\n",
    "</div>"
   ]
  },
  {
   "cell_type": "markdown",
   "metadata": {},
   "source": [
    "<div dir=\"rtl\">\n",
    "\n",
    "## بخش اول: پرسپترون (Perceptron)\n",
    "\n",
    "</div>"
   ]
  },
  {
   "cell_type": "markdown",
   "metadata": {},
   "source": [
    "<div dir=\"rtl\">\n",
    "\n",
    "### مبانی نظری پرسپترون\n",
    "\n",
    "پرسپترون یک الگوریتم طبقه‌بندی خطی دودویی (Binary) است. به این معنی که تلاش می‌کند تا با پیدا کردن یک خط (در فضای دو بعدی) یا یک ابرصفحه (در فضاهای با ابعاد بالاتر)، داده‌ها را به دو دسته مجزا تقسیم کند.\n",
    "\n",
    "برای هر ورودی $\\mathbf{x}$، خروجی پرسپترون (برچسب کلاس) با استفاده از فرمول زیر محاسبه می‌شود:\n",
    "<div dir=\"ltr\">\n",
    "\n",
    "$$ y(\\mathbf{x}) = f(\\mathbf{w}^{\\mathrm{T}}\\mathbf{x} + b) $$\n",
    "\n",
    "</div>\n",
    "\n",
    "که در آن:\n",
    "* $\\mathbf{w}$ بردار وزن‌ها است.\n",
    "* $b$ مقدار بایاس (bias) است.\n",
    "* $f$ تابع فعال‌سازی پله‌ای (Step Function) است که به صورت زیر تعریف می‌شود:\n",
    "<div dir=\"ltr\">\n",
    "\n",
    "$$ f(a) = \\begin{cases} +1 & a \\geq 0 \\\\ -1 & a < 0 \\end{cases} $$\n",
    "\n",
    "</div>\n",
    "\n",
    "#### الگوریتم یادگیری\n",
    "\n",
    "برای آموزش پرسپترون، از **قانون یادگیری پرسپترون** استفاده می‌کنیم. هدف، کمینه کردن خطای طبقه‌بندی است. برای هر نمونه داده که به اشتباه طبقه‌بندی شده، وزن‌ها و بایاس به صورت زیر به‌روزرسانی می‌شوند:\n",
    "\n",
    "<div dir=\"ltr\">\n",
    "\n",
    "$$ \\mathbf{w} \\leftarrow \\mathbf{w} + (t_n - y_n) \\mathbf{x}_{n} $$\n",
    "$$ b \\leftarrow b + (t_n - y_n) $$\n",
    "\n",
    "</div>\n",
    "\n",
    "که در آن:\n",
    "* $t_n$ برچسب واقعی و $y_n$ برچسب پیش‌بینی شده برای نمونه $n$ام است.\n",
    "\n",
    "**نکته مهم:** الگوریتم پرسپترون تنها در صورتی همگرا می‌شود که داده‌ها **خطی تفکیک‌پذیر** باشند.\n",
    "\n",
    "---\n",
    "\n",
    "#### بحث کنید\n",
    "* اگر داده‌ها خطی تفکیک‌پذیر نباشند، چه اتفاقی برای الگوریتم می‌افتد؟\n",
    "* چرا به‌روزرسانی وزن‌ها فقط برای نمونه‌های اشتباه انجام می‌شود؟\n",
    "* چرا در الگوریتم perceptron از نرخ یادگیری استفاده نمی‌کنیم یا بهتر بگویم، آن را همیشه عدد 1 می‌گذاریم؟\n",
    "\n",
    "</div>"
   ]
  },
  {
   "cell_type": "markdown",
   "metadata": {},
   "source": [
    "<div dir=\"rtl\">\n",
    "\n",
    "## پیاده‌سازی پرسپترون\n",
    "\n",
    "</div>"
   ]
  },
  {
   "cell_type": "code",
   "execution_count": 582,
   "metadata": {},
   "outputs": [],
   "source": [
    "# Necessary libraries\n",
    "import matplotlib.pyplot as plt\n",
    "import numpy as np\n",
    "import pandas as pd"
   ]
  },
  {
   "cell_type": "markdown",
   "metadata": {},
   "source": [
    "<div dir=\"rtl\">\n",
    "\n",
    "#### ۱. تولید و آماده‌سازی داده\n",
    "ابتدا یک مجموعه داده ساده و خطی تفکیک‌پذیر با دو ویژگی تولید می‌کنیم.\n",
    "\n",
    "</div>"
   ]
  },
  {
   "cell_type": "code",
   "execution_count": 583,
   "metadata": {},
   "outputs": [
    {
     "data": {
      "text/html": [
       "<div>\n",
       "<style scoped>\n",
       "    .dataframe tbody tr th:only-of-type {\n",
       "        vertical-align: middle;\n",
       "    }\n",
       "\n",
       "    .dataframe tbody tr th {\n",
       "        vertical-align: top;\n",
       "    }\n",
       "\n",
       "    .dataframe thead th {\n",
       "        text-align: right;\n",
       "    }\n",
       "</style>\n",
       "<table border=\"1\" class=\"dataframe\">\n",
       "  <thead>\n",
       "    <tr style=\"text-align: right;\">\n",
       "      <th></th>\n",
       "      <th>Feature 1</th>\n",
       "      <th>Feature 2</th>\n",
       "      <th>class</th>\n",
       "    </tr>\n",
       "  </thead>\n",
       "  <tbody>\n",
       "    <tr>\n",
       "      <th>0</th>\n",
       "      <td>-0.839280</td>\n",
       "      <td>1.129900</td>\n",
       "      <td>A</td>\n",
       "    </tr>\n",
       "    <tr>\n",
       "      <th>1</th>\n",
       "      <td>1.118454</td>\n",
       "      <td>-0.437880</td>\n",
       "      <td>B</td>\n",
       "    </tr>\n",
       "    <tr>\n",
       "      <th>2</th>\n",
       "      <td>-1.535992</td>\n",
       "      <td>0.567154</td>\n",
       "      <td>A</td>\n",
       "    </tr>\n",
       "    <tr>\n",
       "      <th>3</th>\n",
       "      <td>1.424187</td>\n",
       "      <td>-0.974021</td>\n",
       "      <td>B</td>\n",
       "    </tr>\n",
       "    <tr>\n",
       "      <th>4</th>\n",
       "      <td>1.470044</td>\n",
       "      <td>-1.345918</td>\n",
       "      <td>B</td>\n",
       "    </tr>\n",
       "  </tbody>\n",
       "</table>\n",
       "</div>"
      ],
      "text/plain": [
       "   Feature 1  Feature 2 class\n",
       "0  -0.839280   1.129900     A\n",
       "1   1.118454  -0.437880     B\n",
       "2  -1.535992   0.567154     A\n",
       "3   1.424187  -0.974021     B\n",
       "4   1.470044  -1.345918     B"
      ]
     },
     "execution_count": 583,
     "metadata": {},
     "output_type": "execute_result"
    }
   ],
   "source": [
    "# TODO: Load the data from \"dataset1.csv\" into a pandas DataFrame.\n",
    "df = pd.read_csv(r\"E:\\دوره تابستانه\\Practice\\Classification\\dataset1.csv\")\n",
    "\n",
    "# TODO: Display the first rows of the dataframe.\n",
    "df.head(5)"
   ]
  },
  {
   "cell_type": "code",
   "execution_count": 584,
   "metadata": {},
   "outputs": [
    {
     "data": {
      "text/plain": [
       "True"
      ]
     },
     "execution_count": 584,
     "metadata": {},
     "output_type": "execute_result"
    }
   ],
   "source": [
    "# TODO: Separate features (X) and the target label (y).\n",
    "y = df[\"class\"].copy()\n",
    "X = df.drop(\"class\", axis=1).copy()\n",
    "# TODO: Convert the categorical labels {'A', 'B'} to numerical labels {1, -1}.\n",
    "for i, label in enumerate(y):\n",
    "    if label == \"A\":\n",
    "        y.iloc[i] = 1\n",
    "    elif label == \"B\":\n",
    "            y.iloc[i] = -1\n",
    "y = y.astype(int)\n",
    "#Another way\n",
    "y_encoded = df[\"class\"].copy()\n",
    "y_encoded[y_encoded == \"A\"] = 1\n",
    "y_encoded[y_encoded == \"B\"] = -1\n",
    "y_encoded = y_encoded.astype(int)\n",
    "#Another way\n",
    "y_enc = df[\"class\"].map({\"A\" : 1,\n",
    "               \"B\" : -1})\n",
    "y.equals(y_encoded) and y.equals(y_enc)\n"
   ]
  },
  {
   "cell_type": "code",
   "execution_count": 585,
   "metadata": {},
   "outputs": [],
   "source": [
    "# TODO: complete the function. use numpy.random.shuffle on indices.\n",
    "def train_test_split(X, y, test_size=0.2, random_state=1404):\n",
    "\n",
    "\n",
    "    \"\"\"\n",
    "    Splits arrays or matrices into random train and test subsets.\n",
    "\n",
    "    Args:\n",
    "        X: The feature dataset.\n",
    "        y: The target labels.\n",
    "        test_size: The proportion of the dataset to include in the test split.\n",
    "        random_state: Seed for the random number generator for reproducibility.\n",
    "\n",
    "    Returns:\n",
    "        X_train, X_test, y_train, y_test\n",
    "    \"\"\"\n",
    "    \n",
    "    np.random.seed(random_state)\n",
    "    idx = np.random.permutation(len(X))\n",
    "    X = np.array(X)\n",
    "    y = np.array(y)\n",
    "    shuffled_X = X[idx]\n",
    "    shuffled_y = y[idx]\n",
    "    test_number = int(len(shuffled_X) * test_size)\n",
    "    # train_number = len(shuffled_X) - test_number\n",
    "    X_test = shuffled_X[:test_number]\n",
    "    X_train = shuffled_X[test_number:]\n",
    "    y_test = shuffled_y[:test_number]\n",
    "    y_train = shuffled_y[test_number:]\n",
    "    \n",
    "    return X_train, X_test, y_train, y_test\n"
   ]
  },
  {
   "cell_type": "code",
   "execution_count": 586,
   "metadata": {},
   "outputs": [],
   "source": [
    "# TODO: Split the data into training (80%) and test (20%) sets.\n",
    "X_train, X_test, y_train, y_test = train_test_split(X, y)"
   ]
  },
  {
   "cell_type": "code",
   "execution_count": 587,
   "metadata": {},
   "outputs": [
    {
     "data": {
      "image/png": "[encoded data removed]",
      "text/plain": [
       "<Figure size 640x480 with 1 Axes>"
      ]
     },
     "metadata": {},
     "output_type": "display_data"
    }
   ],
   "source": [
    "# TODO: Plot the training data to visualize the classes\n",
    "plt.scatter(X_train[:, 0], X_train[:, 1], c=y_train);\n"
   ]
  },
  {
   "cell_type": "markdown",
   "metadata": {},
   "source": [
    "<div dir=\"rtl\">\n",
    "\n",
    "#### ۲. پیاده‌سازی کلاس پرسپترون\n",
    "در این بخش، کلاس پرسپترون را از ابتدا پیاده‌سازی می‌کنیم. دانشجویان باید متدهای `fit` و `predict` را کامل کنند.\n",
    "\n",
    "اگر با مفهوم کلاس در پایتون آشنایی ندارید، می توانید از لینک های [Pyhton Documentation](https://docs.python.org/3/tutorial/classes.html) یا [GeeksforGeeks](https://www.geeksforgeeks.org/python/python-classes-and-objects/) یا [W3schools](https://www.w3schools.com/python/python_classes.asp) با آن آشنا شوید.\n",
    "</div>"
   ]
  },
  {
   "cell_type": "code",
   "execution_count": 588,
   "metadata": {},
   "outputs": [],
   "source": [
    "class Perceptron:\n",
    "    \"\"\" \n",
    "    Perceptron classifier implementation.\n",
    "    \"\"\"\n",
    "    def __init__(self, n_iters: int = 1):\n",
    "        self.n_iters = n_iters\n",
    "        self.weights = None\n",
    "        self.bias = None\n",
    "\n",
    "    def _activation_func(self, x: np.ndarray) -> np.ndarray:\n",
    "        # Implement the step activation function.\n",
    "\n",
    "        # x = x.astype(float)\n",
    "        # x[x > 0] = 1\n",
    "        # x[ x <= 0] = -1\n",
    "        #__________________________\n",
    "\n",
    "        return np.where(x > 0, 1, -1).astype(int)\n",
    "\n",
    "    def fit(self, X: np.ndarray, y: np.ndarray) -> None:\n",
    "        \"\"\"\n",
    "        Train the Perceptron model using the input data.\n",
    "        \"\"\"\n",
    "        self.weights = np.random.normal(0, 1, (X.shape[1], 1)).squeeze()\n",
    "        self.bias = np.random.randn()\n",
    "        for iter in range(self.n_iters):\n",
    "            # compute weights and bias\n",
    "            z = X @ self.weights + self.bias\n",
    "            a = self._activation_func(z)\n",
    "            for i , (y_pred, y_true) in enumerate(zip(a, y)):\n",
    "                if y_pred != y_true:\n",
    "                    self.weights += (y[i] - a[i]) * X[i]\n",
    "                    self.bias += y[i] - a[i]\n",
    "        return print(\"fitted\")\n",
    "    def predict(self, X: np.ndarray) -> np.ndarray:\n",
    "        \"\"\"\n",
    "        Predict class labels for new data.\n",
    "        \"\"\"\n",
    "        z = X @ self.weights + self.bias\n",
    "        a = self._activation_func(z)\n",
    "        return a"
   ]
  },
  {
   "cell_type": "markdown",
   "metadata": {},
   "source": [
    "<div dir=\"rtl\">\n",
    "\n",
    "#### ۳. آموزش و ارزیابی مدل\n",
    "\n",
    "</div>"
   ]
  },
  {
   "cell_type": "code",
   "execution_count": 589,
   "metadata": {},
   "outputs": [
    {
     "name": "stdout",
     "output_type": "stream",
     "text": [
      "fitted\n"
     ]
    },
    {
     "data": {
      "text/plain": [
       "np.float64(1.0)"
      ]
     },
     "execution_count": 589,
     "metadata": {},
     "output_type": "execute_result"
    }
   ],
   "source": [
    "# TODO: Instantiate the Perceptron class and train the model using the training data.\n",
    "model = Perceptron()\n",
    "model.fit(X_train, y_train)\n",
    "# TODO: Make predictions on the test data.\n",
    "y_pred = model.predict(X_test)\n",
    "# TODO: Implement the accuracy function.\n",
    "def accuracy(y_true: np.ndarray, y_pred: np.ndarray) -> float:\n",
    "    return (y_true == y_pred).sum() / len(y_true)\n",
    "\n",
    "# TODO: Calculate the accuracy on the test set and print it.\n",
    "accuracy(y_test, y_pred)"
   ]
  },
  {
   "cell_type": "markdown",
   "metadata": {},
   "source": [
    "<div dir=\"rtl\">\n",
    "\n",
    "#### ۴. رسم مرز تصمیم\n",
    "مرز تصمیم خطی است که توسط معادله $\\mathbf{w}^{\\mathrm{T}}\\mathbf{x} + b = 0$ تعریف می‌شود. این خط داده‌ها را به دو کلاس تقسیم می‌کند.\n",
    "\n",
    "</div>"
   ]
  },
  {
   "cell_type": "code",
   "execution_count": 590,
   "metadata": {},
   "outputs": [
    {
     "name": "stderr",
     "output_type": "stream",
     "text": [
      "C:\\Users\\alien\\AppData\\Local\\Temp\\ipykernel_15780\\817578745.py:15: UserWarning: No artists with labels found to put in legend.  Note that artists whose label start with an underscore are ignored when legend() is called with no argument.\n",
      "  plt.legend()\n"
     ]
    },
    {
     "data": {
      "image/png": "[encoded data removed]",
      "text/plain": [
       "<Figure size 640x480 with 1 Axes>"
      ]
     },
     "metadata": {},
     "output_type": "display_data"
    }
   ],
   "source": [
    "import matplotlib.pyplot as plt\n",
    "import numpy as np\n",
    "\n",
    "def plot_decision_boundary(X: np.ndarray, y: np.ndarray, model: Perceptron) -> None:\n",
    "    \"\"\"\n",
    "    Plots the data points and the decision boundary of the trained model.\n",
    "    Assumes binary classification and 2D feature input.\n",
    "    \"\"\"\n",
    "    # Plot data points\n",
    "    plt.scatter(X[:, 0], X[:, 1], c=y)\n",
    "    \n",
    "    x_vals = np.linspace(X[:, 0].min(), X[:, 1].max(), 100)\n",
    "    y_vals = -(x_vals * model.weights[1] + model.bias) / model.weights[0]\n",
    "    plt.plot(x_vals, y_vals)\n",
    "    plt.legend()\n",
    "    plt.grid(True)\n",
    "    plt.show()\n",
    "plot_decision_boundary(X_train, y_train, model)"
   ]
  },
  {
   "cell_type": "markdown",
   "metadata": {},
   "source": [
    "<div dir=\"rtl\">\n",
    "\n",
    "## بخش دوم: رگرسیون لجستیک (Logistic Regression)\n",
    "\n",
    "</div>"
   ]
  },
  {
   "cell_type": "markdown",
   "metadata": {},
   "source": [
    "<div dir=\"rtl\">\n",
    "\n",
    "### مبانی نظری رگرسیون لجستیک\n",
    "\n",
    "رگرسیون لجستیک نیز یک الگوریتم طبقه‌بندی خطی است، اما برخلاف پرسپترون که یک خروجی قطعی (۱ یا -۱) دارد، احتمال تعلق یک نمونه به یک کلاس خاص را مدل می‌کند. این کار با استفاده از **تابع سیگموئید (Sigmoid)** انجام می‌شود:\n",
    "<div dir=\"ltr\">\n",
    "\n",
    "$$ h_{\\theta}(x) = \\sigma(z) = \\frac{1}{1+e^{-z}} $$\n",
    "</div>\n",
    "\n",
    "که در آن $z = \\theta^T x$ است. خروجی تابع سیگموئید یک عدد بین ۰ و ۱ است که به عنوان احتمال کلاس ۱ در نظر گرفته می‌شود. ($P(y=1|x;\\theta)$)\n",
    "\n",
    "#### تابع هزینه (Cost Function)\n",
    "\n",
    "برای آموزش مدل، از **تابع هزینه آنتروپی متقاطع (Cross-Entropy Loss)** یا **Log Loss** استفاده می‌کنیم. این تابع مدل را برای پیش‌بینی‌های اشتباه جریمه می‌کند:\n",
    "<div dir=\"ltr\">\n",
    "\n",
    "$$ J(\\theta) = -\\frac{1}{m}\\sum_{i=1}^{m}\\Big[y^{(i)}\\log(h_{\\theta}(x^{(i)})) + (1-y^{(i)})\\log(1-h_{\\theta}(x^{(i)}))\\Big] $$\n",
    "</div>\n",
    "\n",
    "هدف، پیدا کردن پارامترهای $\\theta$ است که این تابع هزینه را کمینه کنند. این کار نیز با استفاده از **گرادیان کاهشی (Gradient Descent)** انجام می‌شود. مشتق تابع هزینه به صورت زیر است:\n",
    "<div dir=\"ltr\">\n",
    "\n",
    "$$ \\frac{\\partial J(\\theta)}{\\partial \\theta_j} = \\frac{1}{m}\\sum_{i=1}^{m}(h_{\\theta}(x^{(i)}) - y^{(i)})x_j^{(i)} $$\n",
    "</div>\n",
    "\n",
    "---\n",
    "\n",
    "#### بحث کنید\n",
    "* تابع سیگموئید چه ویژگی‌هایی دارد که آن را برای مدل‌سازی احتمال مناسب می‌کند؟\n",
    "* چرا از تابع هزینه آنتروپی متقاطع به جای خطای میانگین مربعات (MSE) که در رگرسیون خطی رایج است، استفاده می‌کنیم؟\n",
    "* برخلاف پرسپترون، به‌روزرسانی وزن‌ها در رگرسیون لجستیک برای تمام نمونه‌ها (حتی آن‌هایی که درست طبقه‌بندی شده‌اند) انجام می‌شود. این موضوع چه تاثیری بر عملکرد مدل دارد؟\n",
    "\n",
    "</div>"
   ]
  },
  {
   "cell_type": "markdown",
   "metadata": {},
   "source": [
    "<div dir=\"rtl\">\n",
    "\n",
    "## پیاده‌سازی رگرسیون لجستیک\n",
    "\n",
    "</div>"
   ]
  },
  {
   "cell_type": "markdown",
   "metadata": {},
   "source": [
    "<div dir=\"rtl\">\n",
    "\n",
    "#### ۱. آماده‌سازی داده (مجموعه داده دیابت Pima)\n",
    "در این بخش از مجموعه داده دیابت سرخپوستان پیما استفاده می‌کنیم. این یک مسئله طبقه‌بندی دودویی است که هدف آن پیش‌بینی وجود یا عدم وجود دیابت بر اساس چندین شاخص پزشکی است.\n",
    "\n",
    "</div>"
   ]
  },
  {
   "cell_type": "code",
   "execution_count": 591,
   "metadata": {},
   "outputs": [
    {
     "data": {
      "text/html": [
       "<div>\n",
       "<style scoped>\n",
       "    .dataframe tbody tr th:only-of-type {\n",
       "        vertical-align: middle;\n",
       "    }\n",
       "\n",
       "    .dataframe tbody tr th {\n",
       "        vertical-align: top;\n",
       "    }\n",
       "\n",
       "    .dataframe thead th {\n",
       "        text-align: right;\n",
       "    }\n",
       "</style>\n",
       "<table border=\"1\" class=\"dataframe\">\n",
       "  <thead>\n",
       "    <tr style=\"text-align: right;\">\n",
       "      <th></th>\n",
       "      <th>pregnancies</th>\n",
       "      <th>glucose</th>\n",
       "      <th>bp</th>\n",
       "      <th>skin</th>\n",
       "      <th>insulin</th>\n",
       "      <th>bmi</th>\n",
       "      <th>pedigree</th>\n",
       "      <th>age</th>\n",
       "      <th>outcome</th>\n",
       "    </tr>\n",
       "  </thead>\n",
       "  <tbody>\n",
       "    <tr>\n",
       "      <th>0</th>\n",
       "      <td>6</td>\n",
       "      <td>148</td>\n",
       "      <td>72</td>\n",
       "      <td>35</td>\n",
       "      <td>0</td>\n",
       "      <td>33.6</td>\n",
       "      <td>0.627</td>\n",
       "      <td>50</td>\n",
       "      <td>1</td>\n",
       "    </tr>\n",
       "    <tr>\n",
       "      <th>1</th>\n",
       "      <td>1</td>\n",
       "      <td>85</td>\n",
       "      <td>66</td>\n",
       "      <td>29</td>\n",
       "      <td>0</td>\n",
       "      <td>26.6</td>\n",
       "      <td>0.351</td>\n",
       "      <td>31</td>\n",
       "      <td>0</td>\n",
       "    </tr>\n",
       "    <tr>\n",
       "      <th>2</th>\n",
       "      <td>8</td>\n",
       "      <td>183</td>\n",
       "      <td>64</td>\n",
       "      <td>0</td>\n",
       "      <td>0</td>\n",
       "      <td>23.3</td>\n",
       "      <td>0.672</td>\n",
       "      <td>32</td>\n",
       "      <td>1</td>\n",
       "    </tr>\n",
       "    <tr>\n",
       "      <th>3</th>\n",
       "      <td>1</td>\n",
       "      <td>89</td>\n",
       "      <td>66</td>\n",
       "      <td>23</td>\n",
       "      <td>94</td>\n",
       "      <td>28.1</td>\n",
       "      <td>0.167</td>\n",
       "      <td>21</td>\n",
       "      <td>0</td>\n",
       "    </tr>\n",
       "    <tr>\n",
       "      <th>4</th>\n",
       "      <td>0</td>\n",
       "      <td>137</td>\n",
       "      <td>40</td>\n",
       "      <td>35</td>\n",
       "      <td>168</td>\n",
       "      <td>43.1</td>\n",
       "      <td>2.288</td>\n",
       "      <td>33</td>\n",
       "      <td>1</td>\n",
       "    </tr>\n",
       "  </tbody>\n",
       "</table>\n",
       "</div>"
      ],
      "text/plain": [
       "   pregnancies  glucose  bp  skin  insulin   bmi  pedigree  age  outcome\n",
       "0            6      148  72    35        0  33.6     0.627   50        1\n",
       "1            1       85  66    29        0  26.6     0.351   31        0\n",
       "2            8      183  64     0        0  23.3     0.672   32        1\n",
       "3            1       89  66    23       94  28.1     0.167   21        0\n",
       "4            0      137  40    35      168  43.1     2.288   33        1"
      ]
     },
     "execution_count": 591,
     "metadata": {},
     "output_type": "execute_result"
    }
   ],
   "source": [
    "# Load the data from \"pima_dataset.csv\"\n",
    "df2 = pd.read_csv(r\"E:\\دوره تابستانه\\Practice\\Classification\\pima_dataset.csv\")\n",
    "# Display the first few rows of the data\n",
    "df2.head(5)"
   ]
  },
  {
   "cell_type": "code",
   "execution_count": 592,
   "metadata": {},
   "outputs": [],
   "source": [
    "# TODO: Separate features (X) and the target label (y).\n",
    "y = df2[\"outcome\"].copy()\n",
    "X = df2.drop(\"outcome\", axis=1).copy()\n",
    "# TODO: Normalize the features (mean=0, var=1 for each feature)\n",
    "X = (X + X.mean(axis = 0)) / X.std(axis=0)\n",
    "# This is important for gradient-based optimization algorithms.\n",
    "\n",
    "# TODO: Split the normalized data into training and test sets.\n",
    "X_train, X_test, y_train, y_test = train_test_split(X, y)"
   ]
  },
  {
   "cell_type": "code",
   "execution_count": null,
   "metadata": {},
   "outputs": [],
   "source": []
  },
  {
   "cell_type": "markdown",
   "metadata": {},
   "source": [
    "<div dir=\"rtl\">\n",
    "\n",
    "#### ۲. پیاده‌سازی کلاس رگرسیون لجستیک\n",
    "\n",
    "</div>"
   ]
  },
  {
   "cell_type": "code",
   "execution_count": 593,
   "metadata": {},
   "outputs": [],
   "source": [
    "class LogisticRegression:\n",
    "    \"\"\"\n",
    "    Logistic Regression classifier implementation.\n",
    "    \"\"\"\n",
    "    def __init__(self, learning_rate: float = 0.001, n_iters: int = 100000):\n",
    "        # Initialize learning rate, number of iterations, weights, and bias.\n",
    "        self.lr = learning_rate\n",
    "        self.n_iters = n_iters\n",
    "        self.weights = None\n",
    "        self.bias = None\n",
    "        self.accuracies = []\n",
    "    def _sigmoid(self, z: np.ndarray) -> np.ndarray:\n",
    "        z = np.clip(z, -500, 500)\n",
    "        return 1 / (1 + np.exp(-z))\n",
    "\n",
    "    def fit(self, X: np.ndarray, y: np.ndarray) -> None:\n",
    "        \"\"\"\n",
    "        Train the Logistic Regression model using Gradient Descent.\n",
    "        \"\"\"\n",
    "        # calculate weights and bias.\n",
    "        n = X.shape[0]\n",
    "        d = X.shape[1]\n",
    "        self.weights = np.random.rand(d)\n",
    "        self.bias = np.random.rand()\n",
    "        for iter in range(self.n_iters):\n",
    "            preds = self._sigmoid((X @ self.weights) + self.bias)\n",
    "            dw = (X.T @ (preds - y)) / n\n",
    "            db = np.sum(preds - y) / n\n",
    "            self.weights -= self.lr * dw\n",
    "            self.bias -= self.lr * db\n",
    "            y_predicted = self.predict(X)\n",
    "            acc = accuracy(y, y_predicted)\n",
    "            self.accuracies.append(acc)\n",
    "            if iter % 10 == 0 and len(self.accuracies) >= 2:\n",
    "                if np.abs(acc - self.accuracies[-2]) < 0.01:\n",
    "                    self.lr += 0.000001\n",
    "    def predict_proba(self, X: np.ndarray) -> np.ndarray:\n",
    "        \"\"\"\n",
    "        Predict probabilities for new data.\n",
    "        \"\"\"\n",
    "        z = X @ self.weights + self.bias\n",
    "        return self._sigmoid(z)\n",
    "\n",
    "    def predict(self, X: np.ndarray, threshold: float = 0.5) -> list:\n",
    "        \"\"\"\n",
    "        Predict class labels based on a probability threshold.\n",
    "        \"\"\"\n",
    "        y_prob = self.predict_proba(X)\n",
    "        return np.where(np.array(y_prob) > threshold, 1, 0)\n",
    "    def plot(self):\n",
    "        plt.plot(range(self.n_iters), self.accuracies)\n"
   ]
  },
  {
   "cell_type": "code",
   "execution_count": 594,
   "metadata": {},
   "outputs": [],
   "source": [
    "# TODO: Instantiate the LogisticRegression class and train the model.\n",
    "model2 = LogisticRegression()\n",
    "model2.fit(X_train, y_train)\n",
    "y_pred = model2.predict(X_test)\n",
    "\n",
    "# TODO: Make predictions on the test data.\n",
    "# TODO: Calculate and print the accuracy.\n"
   ]
  },
  {
   "cell_type": "code",
   "execution_count": 595,
   "metadata": {},
   "outputs": [
    {
     "data": {
      "image/png": "[encoded data removed]",
      "text/plain": [
       "<Figure size 640x480 with 1 Axes>"
      ]
     },
     "metadata": {},
     "output_type": "display_data"
    }
   ],
   "source": [
    "model2.plot()"
   ]
  },
  {
   "cell_type": "markdown",
   "metadata": {},
   "source": [
    "<div dir=\"rtl\">\n",
    "\n",
    "#### ۳. آموزش و ارزیابی مدل\n",
    "\n",
    "</div>"
   ]
  },
  {
   "cell_type": "code",
   "execution_count": null,
   "metadata": {},
   "outputs": [],
   "source": [
    "# TODO: Calculate and display the confusion matrix.\n",
    "def confusion_matrix(y_true: np.ndarray, y_pred: np.ndarray) -> pd.DataFrame:\n",
    "    \"\"\"\n",
    "    Calculate the confusion matrix for binary classification (classes 0 and 1) \n",
    "    and return it as a Pandas DataFrame.\n",
    "    \n",
    "    \n",
    "    \"\"\"\n",
    "    confusion_matrix = np.zeros(shape=(2, 2))\n",
    "    for true, pred in zip(y_true, y_pred):\n",
    "        confusion_matrix[true, pred] += 1\n",
    "    return pd.DataFrame(confusion_matrix)\n"
   ]
  },
  {
   "cell_type": "code",
   "execution_count": 597,
   "metadata": {},
   "outputs": [
    {
     "data": {
      "text/plain": [
       "(      0     1\n",
       " 0  88.0   9.0\n",
       " 1  27.0  29.0,\n",
       " np.float64(0.7647058823529411))"
      ]
     },
     "execution_count": 597,
     "metadata": {},
     "output_type": "execute_result"
    }
   ],
   "source": [
    "confusion_matrix(y_test, y_pred), accuracy(y_test, y_pred)"
   ]
  },
  {
   "cell_type": "code",
   "execution_count": 598,
   "metadata": {},
   "outputs": [
    {
     "data": {
      "text/plain": [
       "np.float64(0.7647058823529411)"
      ]
     },
     "execution_count": 598,
     "metadata": {},
     "output_type": "execute_result"
    }
   ],
   "source": [
    "from sklearn.linear_model import LogisticRegression\n",
    "models = LogisticRegression()\n",
    "models.fit(X_train, y_train)\n",
    "accuracy(y_test, models.predict(X_test))"
   ]
  },
  {
   "cell_type": "code",
   "execution_count": 599,
   "metadata": {},
   "outputs": [
    {
     "data": {
      "text/plain": [
       "(array([[ 0.3426225 ,  1.07066271, -0.23421394, -0.07162636, -0.10557953,\n",
       "          0.80075504,  0.33447862,  0.19526947]]),\n",
       " array([ 0.35822984,  0.70924552, -0.3940914 , -0.0513135 , -0.01215407,\n",
       "         0.3567315 ,  0.19648645,  0.01151333]))"
      ]
     },
     "execution_count": 599,
     "metadata": {},
     "output_type": "execute_result"
    }
   ],
   "source": [
    "models.coef_, model2.weights"
   ]
  },
  {
   "cell_type": "code",
   "execution_count": 600,
   "metadata": {},
   "outputs": [
    {
     "name": "stdout",
     "output_type": "stream",
     "text": [
      "True\n",
      "0.7647058823529411\n",
      "<class '__main__.LogisticRegression'> <class 'sklearn.linear_model._logistic.LogisticRegression'>\n",
      "[ 0.35822984  0.70924552 -0.3940914  -0.0513135  -0.01215407  0.3567315\n",
      "  0.19648645  0.01151333], \n",
      "[[ 0.3426225   1.07066271 -0.23421394 -0.07162636 -0.10557953  0.80075504\n",
      "   0.33447862  0.19526947]]\n"
     ]
    }
   ],
   "source": [
    "print(accuracy(y_test, model2.predict(X_test)) == accuracy(y_test, models.predict(X_test)))\n",
    "print(accuracy(y_test, model2.predict(X_test)))\n",
    "print(type(model2), type(models))\n",
    "print(f\"{model2.weights}, \\n{ models.coef_}\")"
   ]
  },
  {
   "cell_type": "code",
   "execution_count": null,
   "metadata": {},
   "outputs": [],
   "source": []
  },
  {
   "cell_type": "markdown",
   "metadata": {},
   "source": [
    "<div dir=\"rtl\">\n",
    "\n",
    "## بخش سوم: مقایسه پرسپترون و رگرسیون لجستیک\n",
    "\n",
    "1.  **خروجی الگوریتم:**\n",
    "    * **پرسپترون:** خروجی یک برچسب قطعی است (مثلاً ۱ یا -۱).\n",
    "    * **رگرسیون لجستیک:** خروجی یک احتمال بین ۰ و ۱ است که نشان‌دهنده احتمال تعلق نمونه به کلاس مثبت است. این ویژگی آن را برای کارهایی که نیاز به اطمینان از پیش‌بینی داریم، مفیدتر می‌کند.\n",
    "\n",
    "2.  **تابع هزینه و به‌روزرسانی:**\n",
    "    * **پرسپترون:** وزن‌ها را فقط برای نمونه‌های اشتباه طبقه‌بندی شده به‌روز می‌کند.\n",
    "    * **رگرسیون لجستیک:** از تابع هزینه Log Loss استفاده می‌کند و وزن‌ها را بر اساس خطای تمام نمونه‌ها (با وزن‌های مختلف) به‌روز می‌کند. این باعث می‌شود که نسبت به داده‌های پرت مقاوم‌تر باشد و مرز تصمیم بهتری پیدا کند.\n",
    "\n",
    "3.  **مرز تصمیم:**\n",
    "    * هر دو الگوریتم مرزهای تصمیم خطی ایجاد می‌کنند.\n",
    "    * **پرسپترون:** هر خطی که داده‌ها را جدا کند، می‌تواند به عنوان جواب در نظر گرفته شود.\n",
    "    * **رگرسیون لجستیک:** به دنبال بهترین خطی است که احتمال داده‌ها را بیشینه کند و معمولاً حاشیه امنیت بیشتری ایجاد می‌کند.\n",
    "\n",
    "4.  **همگرایی:**\n",
    "    * **پرسپترون:** فقط در صورتی که داده‌ها خطی تفکیک‌پذیر باشند، همگرا می‌شود.\n",
    "    * **رگرسیون لجستیک:** همیشه به یک جواب بهینه همگرا می‌شود، حتی اگر داده‌ها خطی تفکیک‌پذیر نباشند، زیرا تابع هزینه آن محدب (convex) است.\n",
    "\n",
    "</div>"
   ]
  },
  {
   "cell_type": "code",
   "execution_count": 2,
   "metadata": {},
   "outputs": [
    {
     "data": {
      "text/plain": [
       "array([ 0, -1,  0,  0, -1])"
      ]
     },
     "execution_count": 2,
     "metadata": {},
     "output_type": "execute_result"
    }
   ],
   "source": [
    "import numpy as np\n",
    "a = np.array([00, 200, -100, -50, 54])\n",
    "-(a > 5).astype(int)"
   ]
  },
  {
   "cell_type": "markdown",
   "metadata": {},
   "source": []
  }
 ],
 "metadata": {
  "kernelspec": {
   "display_name": "Python 3",
   "language": "python",
   "name": "python3"
  },
  "language_info": {
   "codemirror_mode": {
    "name": "ipython",
    "version": 3
   },
   "file_extension": ".py",
   "mimetype": "text/x-python",
   "name": "python",
   "nbconvert_exporter": "python",
   "pygments_lexer": "ipython3",
   "version": "3.12.4"
  }
 },
 "nbformat": 4,
 "nbformat_minor": 4
}
